{
 "cells": [
  {
   "cell_type": "markdown",
   "metadata": {
    "id": "YILp58KeQBES"
   },
   "source": [
    "**INSTALL MODUL**"
   ]
  },
  {
   "cell_type": "code",
   "execution_count": 2,
   "metadata": {
    "colab": {
     "base_uri": "https://localhost:8080/"
    },
    "id": "MdCQSx3bMbRo",
    "outputId": "9c0ceb21-2076-4cb6-f433-52a039217da6"
   },
   "outputs": [
    {
     "name": "stdout",
     "output_type": "stream",
     "text": [
      "Requirement already satisfied: regex in c:\\users\\rizki\\appdata\\local\\programs\\python\\python312\\lib\\site-packages (2024.11.6)\n",
      "Note: you may need to restart the kernel to use updated packages.\n",
      "Requirement already satisfied: scikeras in c:\\users\\rizki\\appdata\\local\\programs\\python\\python312\\lib\\site-packages (0.13.0)\n",
      "Requirement already satisfied: keras>=3.2.0 in c:\\users\\rizki\\appdata\\local\\programs\\python\\python312\\lib\\site-packages (from scikeras) (3.7.0)\n",
      "Requirement already satisfied: scikit-learn>=1.4.2 in c:\\users\\rizki\\appdata\\local\\programs\\python\\python312\\lib\\site-packages (from scikeras) (1.5.2)\n",
      "Requirement already satisfied: absl-py in c:\\users\\rizki\\appdata\\local\\programs\\python\\python312\\lib\\site-packages (from keras>=3.2.0->scikeras) (2.1.0)\n",
      "Requirement already satisfied: numpy in c:\\users\\rizki\\appdata\\local\\programs\\python\\python312\\lib\\site-packages (from keras>=3.2.0->scikeras) (2.0.2)\n",
      "Requirement already satisfied: rich in c:\\users\\rizki\\appdata\\local\\programs\\python\\python312\\lib\\site-packages (from keras>=3.2.0->scikeras) (13.9.4)\n",
      "Requirement already satisfied: namex in c:\\users\\rizki\\appdata\\local\\programs\\python\\python312\\lib\\site-packages (from keras>=3.2.0->scikeras) (0.0.8)\n",
      "Requirement already satisfied: h5py in c:\\users\\rizki\\appdata\\local\\programs\\python\\python312\\lib\\site-packages (from keras>=3.2.0->scikeras) (3.12.1)\n",
      "Requirement already satisfied: optree in c:\\users\\rizki\\appdata\\local\\programs\\python\\python312\\lib\\site-packages (from keras>=3.2.0->scikeras) (0.13.1)\n",
      "Requirement already satisfied: ml-dtypes in c:\\users\\rizki\\appdata\\local\\programs\\python\\python312\\lib\\site-packages (from keras>=3.2.0->scikeras) (0.4.1)\n",
      "Requirement already satisfied: packaging in c:\\users\\rizki\\appdata\\local\\programs\\python\\python312\\lib\\site-packages (from keras>=3.2.0->scikeras) (24.0)\n",
      "Requirement already satisfied: scipy>=1.6.0 in c:\\users\\rizki\\appdata\\local\\programs\\python\\python312\\lib\\site-packages (from scikit-learn>=1.4.2->scikeras) (1.14.1)\n",
      "Requirement already satisfied: joblib>=1.2.0 in c:\\users\\rizki\\appdata\\local\\programs\\python\\python312\\lib\\site-packages (from scikit-learn>=1.4.2->scikeras) (1.4.2)\n",
      "Requirement already satisfied: threadpoolctl>=3.1.0 in c:\\users\\rizki\\appdata\\local\\programs\\python\\python312\\lib\\site-packages (from scikit-learn>=1.4.2->scikeras) (3.5.0)\n",
      "Requirement already satisfied: typing-extensions>=4.5.0 in c:\\users\\rizki\\appdata\\local\\programs\\python\\python312\\lib\\site-packages (from optree->keras>=3.2.0->scikeras) (4.12.2)\n",
      "Requirement already satisfied: markdown-it-py>=2.2.0 in c:\\users\\rizki\\appdata\\local\\programs\\python\\python312\\lib\\site-packages (from rich->keras>=3.2.0->scikeras) (3.0.0)\n",
      "Requirement already satisfied: pygments<3.0.0,>=2.13.0 in c:\\users\\rizki\\appdata\\roaming\\python\\python312\\site-packages (from rich->keras>=3.2.0->scikeras) (2.18.0)\n",
      "Requirement already satisfied: mdurl~=0.1 in c:\\users\\rizki\\appdata\\local\\programs\\python\\python312\\lib\\site-packages (from markdown-it-py>=2.2.0->rich->keras>=3.2.0->scikeras) (0.1.2)\n",
      "Note: you may need to restart the kernel to use updated packages.\n",
      "Requirement already satisfied: langdetect in c:\\users\\rizki\\appdata\\local\\programs\\python\\python312\\lib\\site-packages (1.0.9)\n",
      "Requirement already satisfied: six in c:\\users\\rizki\\appdata\\local\\programs\\python\\python312\\lib\\site-packages (from langdetect) (1.16.0)\n",
      "Note: you may need to restart the kernel to use updated packages.\n",
      "Requirement already satisfied: spacy in c:\\users\\rizki\\appdata\\local\\programs\\python\\python312\\lib\\site-packages (3.8.2)Note: you may need to restart the kernel to use updated packages.\n",
      "\n",
      "Requirement already satisfied: spacy-legacy<3.1.0,>=3.0.11 in c:\\users\\rizki\\appdata\\local\\programs\\python\\python312\\lib\\site-packages (from spacy) (3.0.12)\n",
      "Requirement already satisfied: spacy-loggers<2.0.0,>=1.0.0 in c:\\users\\rizki\\appdata\\local\\programs\\python\\python312\\lib\\site-packages (from spacy) (1.0.5)\n",
      "Requirement already satisfied: murmurhash<1.1.0,>=0.28.0 in c:\\users\\rizki\\appdata\\local\\programs\\python\\python312\\lib\\site-packages (from spacy) (1.0.11)\n",
      "Requirement already satisfied: cymem<2.1.0,>=2.0.2 in c:\\users\\rizki\\appdata\\local\\programs\\python\\python312\\lib\\site-packages (from spacy) (2.0.10)\n",
      "Requirement already satisfied: preshed<3.1.0,>=3.0.2 in c:\\users\\rizki\\appdata\\local\\programs\\python\\python312\\lib\\site-packages (from spacy) (3.0.9)\n",
      "Requirement already satisfied: thinc<8.4.0,>=8.3.0 in c:\\users\\rizki\\appdata\\local\\programs\\python\\python312\\lib\\site-packages (from spacy) (8.3.2)\n",
      "Requirement already satisfied: wasabi<1.2.0,>=0.9.1 in c:\\users\\rizki\\appdata\\local\\programs\\python\\python312\\lib\\site-packages (from spacy) (1.1.3)\n",
      "Requirement already satisfied: srsly<3.0.0,>=2.4.3 in c:\\users\\rizki\\appdata\\local\\programs\\python\\python312\\lib\\site-packages (from spacy) (2.4.8)\n",
      "Requirement already satisfied: catalogue<2.1.0,>=2.0.6 in c:\\users\\rizki\\appdata\\local\\programs\\python\\python312\\lib\\site-packages (from spacy) (2.0.10)\n",
      "Requirement already satisfied: weasel<0.5.0,>=0.1.0 in c:\\users\\rizki\\appdata\\local\\programs\\python\\python312\\lib\\site-packages (from spacy) (0.4.1)\n",
      "Requirement already satisfied: typer<1.0.0,>=0.3.0 in c:\\users\\rizki\\appdata\\local\\programs\\python\\python312\\lib\\site-packages (from spacy) (0.14.0)\n",
      "Requirement already satisfied: tqdm<5.0.0,>=4.38.0 in c:\\users\\rizki\\appdata\\local\\programs\\python\\python312\\lib\\site-packages (from spacy) (4.67.1)\n",
      "Requirement already satisfied: requests<3.0.0,>=2.13.0 in c:\\users\\rizki\\appdata\\local\\programs\\python\\python312\\lib\\site-packages (from spacy) (2.32.3)\n",
      "Requirement already satisfied: pydantic!=1.8,!=1.8.1,<3.0.0,>=1.7.4 in c:\\users\\rizki\\appdata\\local\\programs\\python\\python312\\lib\\site-packages (from spacy) (2.10.2)\n",
      "Requirement already satisfied: jinja2 in c:\\users\\rizki\\appdata\\local\\programs\\python\\python312\\lib\\site-packages (from spacy) (3.1.4)\n",
      "Requirement already satisfied: setuptools in c:\\users\\rizki\\appdata\\local\\programs\\python\\python312\\lib\\site-packages (from spacy) (75.6.0)\n",
      "Requirement already satisfied: packaging>=20.0 in c:\\users\\rizki\\appdata\\local\\programs\\python\\python312\\lib\\site-packages (from spacy) (24.0)\n",
      "Requirement already satisfied: langcodes<4.0.0,>=3.2.0 in c:\\users\\rizki\\appdata\\local\\programs\\python\\python312\\lib\\site-packages (from spacy) (3.5.0)\n",
      "Requirement already satisfied: numpy>=1.19.0 in c:\\users\\rizki\\appdata\\local\\programs\\python\\python312\\lib\\site-packages (from spacy) (2.0.2)\n",
      "Requirement already satisfied: language-data>=1.2 in c:\\users\\rizki\\appdata\\local\\programs\\python\\python312\\lib\\site-packages (from langcodes<4.0.0,>=3.2.0->spacy) (1.3.0)\n",
      "Requirement already satisfied: annotated-types>=0.6.0 in c:\\users\\rizki\\appdata\\local\\programs\\python\\python312\\lib\\site-packages (from pydantic!=1.8,!=1.8.1,<3.0.0,>=1.7.4->spacy) (0.7.0)\n",
      "Requirement already satisfied: pydantic-core==2.27.1 in c:\\users\\rizki\\appdata\\local\\programs\\python\\python312\\lib\\site-packages (from pydantic!=1.8,!=1.8.1,<3.0.0,>=1.7.4->spacy) (2.27.1)\n",
      "Requirement already satisfied: typing-extensions>=4.12.2 in c:\\users\\rizki\\appdata\\local\\programs\\python\\python312\\lib\\site-packages (from pydantic!=1.8,!=1.8.1,<3.0.0,>=1.7.4->spacy) (4.12.2)\n",
      "Requirement already satisfied: charset-normalizer<4,>=2 in c:\\users\\rizki\\appdata\\local\\programs\\python\\python312\\lib\\site-packages (from requests<3.0.0,>=2.13.0->spacy) (3.3.2)\n",
      "Requirement already satisfied: idna<4,>=2.5 in c:\\users\\rizki\\appdata\\local\\programs\\python\\python312\\lib\\site-packages (from requests<3.0.0,>=2.13.0->spacy) (3.10)\n",
      "Requirement already satisfied: urllib3<3,>=1.21.1 in c:\\users\\rizki\\appdata\\local\\programs\\python\\python312\\lib\\site-packages (from requests<3.0.0,>=2.13.0->spacy) (2.2.3)\n",
      "Requirement already satisfied: certifi>=2017.4.17 in c:\\users\\rizki\\appdata\\local\\programs\\python\\python312\\lib\\site-packages (from requests<3.0.0,>=2.13.0->spacy) (2024.8.30)\n",
      "Requirement already satisfied: blis<1.1.0,>=1.0.0 in c:\\users\\rizki\\appdata\\local\\programs\\python\\python312\\lib\\site-packages (from thinc<8.4.0,>=8.3.0->spacy) (1.0.1)\n",
      "Requirement already satisfied: confection<1.0.0,>=0.0.1 in c:\\users\\rizki\\appdata\\local\\programs\\python\\python312\\lib\\site-packages (from thinc<8.4.0,>=8.3.0->spacy) (0.1.5)\n",
      "Requirement already satisfied: colorama in c:\\users\\rizki\\appdata\\local\\programs\\python\\python312\\lib\\site-packages (from tqdm<5.0.0,>=4.38.0->spacy) (0.4.6)\n",
      "Requirement already satisfied: click>=8.0.0 in c:\\users\\rizki\\appdata\\local\\programs\\python\\python312\\lib\\site-packages (from typer<1.0.0,>=0.3.0->spacy) (8.1.7)\n",
      "Requirement already satisfied: shellingham>=1.3.0 in c:\\users\\rizki\\appdata\\local\\programs\\python\\python312\\lib\\site-packages (from typer<1.0.0,>=0.3.0->spacy) (1.5.4)\n",
      "Requirement already satisfied: rich>=10.11.0 in c:\\users\\rizki\\appdata\\local\\programs\\python\\python312\\lib\\site-packages (from typer<1.0.0,>=0.3.0->spacy) (13.9.4)\n",
      "Requirement already satisfied: cloudpathlib<1.0.0,>=0.7.0 in c:\\users\\rizki\\appdata\\local\\programs\\python\\python312\\lib\\site-packages (from weasel<0.5.0,>=0.1.0->spacy) (0.20.0)\n",
      "Requirement already satisfied: smart-open<8.0.0,>=5.2.1 in c:\\users\\rizki\\appdata\\local\\programs\\python\\python312\\lib\\site-packages (from weasel<0.5.0,>=0.1.0->spacy) (7.0.5)\n",
      "Requirement already satisfied: MarkupSafe>=2.0 in c:\\users\\rizki\\appdata\\local\\programs\\python\\python312\\lib\\site-packages (from jinja2->spacy) (3.0.2)\n",
      "Requirement already satisfied: marisa-trie>=1.1.0 in c:\\users\\rizki\\appdata\\local\\programs\\python\\python312\\lib\\site-packages (from language-data>=1.2->langcodes<4.0.0,>=3.2.0->spacy) (1.2.1)\n",
      "Requirement already satisfied: markdown-it-py>=2.2.0 in c:\\users\\rizki\\appdata\\local\\programs\\python\\python312\\lib\\site-packages (from rich>=10.11.0->typer<1.0.0,>=0.3.0->spacy) (3.0.0)\n",
      "Requirement already satisfied: pygments<3.0.0,>=2.13.0 in c:\\users\\rizki\\appdata\\roaming\\python\\python312\\site-packages (from rich>=10.11.0->typer<1.0.0,>=0.3.0->spacy) (2.18.0)\n",
      "Requirement already satisfied: wrapt in c:\\users\\rizki\\appdata\\local\\programs\\python\\python312\\lib\\site-packages (from smart-open<8.0.0,>=5.2.1->weasel<0.5.0,>=0.1.0->spacy) (1.17.0)\n",
      "Requirement already satisfied: mdurl~=0.1 in c:\\users\\rizki\\appdata\\local\\programs\\python\\python312\\lib\\site-packages (from markdown-it-py>=2.2.0->rich>=10.11.0->typer<1.0.0,>=0.3.0->spacy) (0.1.2)\n"
     ]
    }
   ],
   "source": [
    "%pip install regex\n",
    "%pip install scikeras\n",
    "%pip install langdetect\n",
    "%pip install spacy"
   ]
  },
  {
   "cell_type": "code",
   "execution_count": 3,
   "metadata": {},
   "outputs": [
    {
     "name": "stdout",
     "output_type": "stream",
     "text": [
      "Requirement already satisfied: mlxtend in c:\\users\\rizki\\appdata\\local\\programs\\python\\python312\\lib\\site-packages (0.23.3)\n",
      "Requirement already satisfied: scipy>=1.2.1 in c:\\users\\rizki\\appdata\\local\\programs\\python\\python312\\lib\\site-packages (from mlxtend) (1.14.1)\n",
      "Requirement already satisfied: numpy>=1.16.2 in c:\\users\\rizki\\appdata\\local\\programs\\python\\python312\\lib\\site-packages (from mlxtend) (2.0.2)\n",
      "Requirement already satisfied: pandas>=0.24.2 in c:\\users\\rizki\\appdata\\local\\programs\\python\\python312\\lib\\site-packages (from mlxtend) (2.2.2)\n",
      "Requirement already satisfied: scikit-learn>=1.3.1 in c:\\users\\rizki\\appdata\\local\\programs\\python\\python312\\lib\\site-packages (from mlxtend) (1.5.2)\n",
      "Requirement already satisfied: matplotlib>=3.0.0 in c:\\users\\rizki\\appdata\\local\\programs\\python\\python312\\lib\\site-packages (from mlxtend) (3.8.4)\n",
      "Requirement already satisfied: joblib>=0.13.2 in c:\\users\\rizki\\appdata\\local\\programs\\python\\python312\\lib\\site-packages (from mlxtend) (1.4.2)\n",
      "Requirement already satisfied: contourpy>=1.0.1 in c:\\users\\rizki\\appdata\\local\\programs\\python\\python312\\lib\\site-packages (from matplotlib>=3.0.0->mlxtend) (1.2.1)\n",
      "Requirement already satisfied: cycler>=0.10 in c:\\users\\rizki\\appdata\\local\\programs\\python\\python312\\lib\\site-packages (from matplotlib>=3.0.0->mlxtend) (0.12.1)\n",
      "Requirement already satisfied: fonttools>=4.22.0 in c:\\users\\rizki\\appdata\\local\\programs\\python\\python312\\lib\\site-packages (from matplotlib>=3.0.0->mlxtend) (4.51.0)\n",
      "Requirement already satisfied: kiwisolver>=1.3.1 in c:\\users\\rizki\\appdata\\local\\programs\\python\\python312\\lib\\site-packages (from matplotlib>=3.0.0->mlxtend) (1.4.5)\n",
      "Requirement already satisfied: packaging>=20.0 in c:\\users\\rizki\\appdata\\local\\programs\\python\\python312\\lib\\site-packages (from matplotlib>=3.0.0->mlxtend) (24.0)\n",
      "Requirement already satisfied: pillow>=8 in c:\\users\\rizki\\appdata\\local\\programs\\python\\python312\\lib\\site-packages (from matplotlib>=3.0.0->mlxtend) (10.3.0)\n",
      "Requirement already satisfied: pyparsing>=2.3.1 in c:\\users\\rizki\\appdata\\local\\programs\\python\\python312\\lib\\site-packages (from matplotlib>=3.0.0->mlxtend) (3.1.2)\n",
      "Requirement already satisfied: python-dateutil>=2.7 in c:\\users\\rizki\\appdata\\local\\programs\\python\\python312\\lib\\site-packages (from matplotlib>=3.0.0->mlxtend) (2.9.0.post0)\n",
      "Requirement already satisfied: pytz>=2020.1 in c:\\users\\rizki\\appdata\\local\\programs\\python\\python312\\lib\\site-packages (from pandas>=0.24.2->mlxtend) (2024.1)\n",
      "Requirement already satisfied: tzdata>=2022.7 in c:\\users\\rizki\\appdata\\local\\programs\\python\\python312\\lib\\site-packages (from pandas>=0.24.2->mlxtend) (2024.1)\n",
      "Requirement already satisfied: threadpoolctl>=3.1.0 in c:\\users\\rizki\\appdata\\local\\programs\\python\\python312\\lib\\site-packages (from scikit-learn>=1.3.1->mlxtend) (3.5.0)\n",
      "Requirement already satisfied: six>=1.5 in c:\\users\\rizki\\appdata\\local\\programs\\python\\python312\\lib\\site-packages (from python-dateutil>=2.7->matplotlib>=3.0.0->mlxtend) (1.16.0)\n",
      "Note: you may need to restart the kernel to use updated packages.\n",
      "Requirement already satisfied: scikit-learn in c:\\users\\rizki\\appdata\\local\\programs\\python\\python312\\lib\\site-packages (1.5.2)\n",
      "Requirement already satisfied: numpy>=1.19.5 in c:\\users\\rizki\\appdata\\local\\programs\\python\\python312\\lib\\site-packages (from scikit-learn) (2.0.2)\n",
      "Requirement already satisfied: scipy>=1.6.0 in c:\\users\\rizki\\appdata\\local\\programs\\python\\python312\\lib\\site-packages (from scikit-learn) (1.14.1)\n",
      "Requirement already satisfied: joblib>=1.2.0 in c:\\users\\rizki\\appdata\\local\\programs\\python\\python312\\lib\\site-packages (from scikit-learn) (1.4.2)\n",
      "Requirement already satisfied: threadpoolctl>=3.1.0 in c:\\users\\rizki\\appdata\\local\\programs\\python\\python312\\lib\\site-packages (from scikit-learn) (3.5.0)\n",
      "Note: you may need to restart the kernel to use updated packages.\n",
      "Requirement already satisfied: seaborn in c:\\users\\rizki\\appdata\\local\\programs\\python\\python312\\lib\\site-packages (0.13.2)\n",
      "Requirement already satisfied: numpy!=1.24.0,>=1.20 in c:\\users\\rizki\\appdata\\local\\programs\\python\\python312\\lib\\site-packages (from seaborn) (2.0.2)\n",
      "Requirement already satisfied: pandas>=1.2 in c:\\users\\rizki\\appdata\\local\\programs\\python\\python312\\lib\\site-packages (from seaborn) (2.2.2)\n",
      "Requirement already satisfied: matplotlib!=3.6.1,>=3.4 in c:\\users\\rizki\\appdata\\local\\programs\\python\\python312\\lib\\site-packages (from seaborn) (3.8.4)\n",
      "Requirement already satisfied: contourpy>=1.0.1 in c:\\users\\rizki\\appdata\\local\\programs\\python\\python312\\lib\\site-packages (from matplotlib!=3.6.1,>=3.4->seaborn) (1.2.1)\n",
      "Requirement already satisfied: cycler>=0.10 in c:\\users\\rizki\\appdata\\local\\programs\\python\\python312\\lib\\site-packages (from matplotlib!=3.6.1,>=3.4->seaborn) (0.12.1)\n",
      "Requirement already satisfied: fonttools>=4.22.0 in c:\\users\\rizki\\appdata\\local\\programs\\python\\python312\\lib\\site-packages (from matplotlib!=3.6.1,>=3.4->seaborn) (4.51.0)\n",
      "Requirement already satisfied: kiwisolver>=1.3.1 in c:\\users\\rizki\\appdata\\local\\programs\\python\\python312\\lib\\site-packages (from matplotlib!=3.6.1,>=3.4->seaborn) (1.4.5)\n",
      "Requirement already satisfied: packaging>=20.0 in c:\\users\\rizki\\appdata\\local\\programs\\python\\python312\\lib\\site-packages (from matplotlib!=3.6.1,>=3.4->seaborn) (24.0)\n",
      "Requirement already satisfied: pillow>=8 in c:\\users\\rizki\\appdata\\local\\programs\\python\\python312\\lib\\site-packages (from matplotlib!=3.6.1,>=3.4->seaborn) (10.3.0)\n",
      "Requirement already satisfied: pyparsing>=2.3.1 in c:\\users\\rizki\\appdata\\local\\programs\\python\\python312\\lib\\site-packages (from matplotlib!=3.6.1,>=3.4->seaborn) (3.1.2)\n",
      "Requirement already satisfied: python-dateutil>=2.7 in c:\\users\\rizki\\appdata\\local\\programs\\python\\python312\\lib\\site-packages (from matplotlib!=3.6.1,>=3.4->seaborn) (2.9.0.post0)\n",
      "Requirement already satisfied: pytz>=2020.1 in c:\\users\\rizki\\appdata\\local\\programs\\python\\python312\\lib\\site-packages (from pandas>=1.2->seaborn) (2024.1)\n",
      "Requirement already satisfied: tzdata>=2022.7 in c:\\users\\rizki\\appdata\\local\\programs\\python\\python312\\lib\\site-packages (from pandas>=1.2->seaborn) (2024.1)\n",
      "Requirement already satisfied: six>=1.5 in c:\\users\\rizki\\appdata\\local\\programs\\python\\python312\\lib\\site-packages (from python-dateutil>=2.7->matplotlib!=3.6.1,>=3.4->seaborn) (1.16.0)\n",
      "Note: you may need to restart the kernel to use updated packages.\n",
      "Requirement already satisfied: tensorflow in c:\\users\\rizki\\appdata\\local\\programs\\python\\python312\\lib\\site-packages (2.18.0)\n",
      "Requirement already satisfied: tensorflow-intel==2.18.0 in c:\\users\\rizki\\appdata\\local\\programs\\python\\python312\\lib\\site-packages (from tensorflow) (2.18.0)\n",
      "Requirement already satisfied: absl-py>=1.0.0 in c:\\users\\rizki\\appdata\\local\\programs\\python\\python312\\lib\\site-packages (from tensorflow-intel==2.18.0->tensorflow) (2.1.0)\n",
      "Requirement already satisfied: astunparse>=1.6.0 in c:\\users\\rizki\\appdata\\local\\programs\\python\\python312\\lib\\site-packages (from tensorflow-intel==2.18.0->tensorflow) (1.6.3)\n",
      "Requirement already satisfied: flatbuffers>=24.3.25 in c:\\users\\rizki\\appdata\\local\\programs\\python\\python312\\lib\\site-packages (from tensorflow-intel==2.18.0->tensorflow) (24.3.25)\n",
      "Requirement already satisfied: gast!=0.5.0,!=0.5.1,!=0.5.2,>=0.2.1 in c:\\users\\rizki\\appdata\\local\\programs\\python\\python312\\lib\\site-packages (from tensorflow-intel==2.18.0->tensorflow) (0.6.0)\n",
      "Requirement already satisfied: google-pasta>=0.1.1 in c:\\users\\rizki\\appdata\\local\\programs\\python\\python312\\lib\\site-packages (from tensorflow-intel==2.18.0->tensorflow) (0.2.0)\n",
      "Requirement already satisfied: libclang>=13.0.0 in c:\\users\\rizki\\appdata\\local\\programs\\python\\python312\\lib\\site-packages (from tensorflow-intel==2.18.0->tensorflow) (18.1.1)\n",
      "Requirement already satisfied: opt-einsum>=2.3.2 in c:\\users\\rizki\\appdata\\local\\programs\\python\\python312\\lib\\site-packages (from tensorflow-intel==2.18.0->tensorflow) (3.4.0)\n",
      "Requirement already satisfied: packaging in c:\\users\\rizki\\appdata\\local\\programs\\python\\python312\\lib\\site-packages (from tensorflow-intel==2.18.0->tensorflow) (24.0)\n",
      "Requirement already satisfied: protobuf!=4.21.0,!=4.21.1,!=4.21.2,!=4.21.3,!=4.21.4,!=4.21.5,<6.0.0dev,>=3.20.3 in c:\\users\\rizki\\appdata\\local\\programs\\python\\python312\\lib\\site-packages (from tensorflow-intel==2.18.0->tensorflow) (5.29.0)\n",
      "Requirement already satisfied: requests<3,>=2.21.0 in c:\\users\\rizki\\appdata\\local\\programs\\python\\python312\\lib\\site-packages (from tensorflow-intel==2.18.0->tensorflow) (2.32.3)\n",
      "Requirement already satisfied: setuptools in c:\\users\\rizki\\appdata\\local\\programs\\python\\python312\\lib\\site-packages (from tensorflow-intel==2.18.0->tensorflow) (75.6.0)\n",
      "Requirement already satisfied: six>=1.12.0 in c:\\users\\rizki\\appdata\\local\\programs\\python\\python312\\lib\\site-packages (from tensorflow-intel==2.18.0->tensorflow) (1.16.0)\n",
      "Requirement already satisfied: termcolor>=1.1.0 in c:\\users\\rizki\\appdata\\local\\programs\\python\\python312\\lib\\site-packages (from tensorflow-intel==2.18.0->tensorflow) (2.5.0)\n",
      "Requirement already satisfied: typing-extensions>=3.6.6 in c:\\users\\rizki\\appdata\\local\\programs\\python\\python312\\lib\\site-packages (from tensorflow-intel==2.18.0->tensorflow) (4.12.2)\n",
      "Requirement already satisfied: wrapt>=1.11.0 in c:\\users\\rizki\\appdata\\local\\programs\\python\\python312\\lib\\site-packages (from tensorflow-intel==2.18.0->tensorflow) (1.17.0)\n",
      "Requirement already satisfied: grpcio<2.0,>=1.24.3 in c:\\users\\rizki\\appdata\\local\\programs\\python\\python312\\lib\\site-packages (from tensorflow-intel==2.18.0->tensorflow) (1.68.1)\n",
      "Requirement already satisfied: tensorboard<2.19,>=2.18 in c:\\users\\rizki\\appdata\\local\\programs\\python\\python312\\lib\\site-packages (from tensorflow-intel==2.18.0->tensorflow) (2.18.0)\n",
      "Requirement already satisfied: keras>=3.5.0 in c:\\users\\rizki\\appdata\\local\\programs\\python\\python312\\lib\\site-packages (from tensorflow-intel==2.18.0->tensorflow) (3.7.0)\n",
      "Requirement already satisfied: numpy<2.1.0,>=1.26.0 in c:\\users\\rizki\\appdata\\local\\programs\\python\\python312\\lib\\site-packages (from tensorflow-intel==2.18.0->tensorflow) (2.0.2)\n",
      "Requirement already satisfied: h5py>=3.11.0 in c:\\users\\rizki\\appdata\\local\\programs\\python\\python312\\lib\\site-packages (from tensorflow-intel==2.18.0->tensorflow) (3.12.1)\n",
      "Requirement already satisfied: ml-dtypes<0.5.0,>=0.4.0 in c:\\users\\rizki\\appdata\\local\\programs\\python\\python312\\lib\\site-packages (from tensorflow-intel==2.18.0->tensorflow) (0.4.1)\n",
      "Requirement already satisfied: wheel<1.0,>=0.23.0 in c:\\users\\rizki\\appdata\\local\\programs\\python\\python312\\lib\\site-packages (from astunparse>=1.6.0->tensorflow-intel==2.18.0->tensorflow) (0.45.1)\n",
      "Requirement already satisfied: rich in c:\\users\\rizki\\appdata\\local\\programs\\python\\python312\\lib\\site-packages (from keras>=3.5.0->tensorflow-intel==2.18.0->tensorflow) (13.9.4)\n",
      "Requirement already satisfied: namex in c:\\users\\rizki\\appdata\\local\\programs\\python\\python312\\lib\\site-packages (from keras>=3.5.0->tensorflow-intel==2.18.0->tensorflow) (0.0.8)\n",
      "Requirement already satisfied: optree in c:\\users\\rizki\\appdata\\local\\programs\\python\\python312\\lib\\site-packages (from keras>=3.5.0->tensorflow-intel==2.18.0->tensorflow) (0.13.1)\n",
      "Requirement already satisfied: charset-normalizer<4,>=2 in c:\\users\\rizki\\appdata\\local\\programs\\python\\python312\\lib\\site-packages (from requests<3,>=2.21.0->tensorflow-intel==2.18.0->tensorflow) (3.3.2)\n",
      "Requirement already satisfied: idna<4,>=2.5 in c:\\users\\rizki\\appdata\\local\\programs\\python\\python312\\lib\\site-packages (from requests<3,>=2.21.0->tensorflow-intel==2.18.0->tensorflow) (3.10)\n",
      "Requirement already satisfied: urllib3<3,>=1.21.1 in c:\\users\\rizki\\appdata\\local\\programs\\python\\python312\\lib\\site-packages (from requests<3,>=2.21.0->tensorflow-intel==2.18.0->tensorflow) (2.2.3)\n",
      "Requirement already satisfied: certifi>=2017.4.17 in c:\\users\\rizki\\appdata\\local\\programs\\python\\python312\\lib\\site-packages (from requests<3,>=2.21.0->tensorflow-intel==2.18.0->tensorflow) (2024.8.30)\n",
      "Requirement already satisfied: markdown>=2.6.8 in c:\\users\\rizki\\appdata\\local\\programs\\python\\python312\\lib\\site-packages (from tensorboard<2.19,>=2.18->tensorflow-intel==2.18.0->tensorflow) (3.7)\n",
      "Requirement already satisfied: tensorboard-data-server<0.8.0,>=0.7.0 in c:\\users\\rizki\\appdata\\local\\programs\\python\\python312\\lib\\site-packages (from tensorboard<2.19,>=2.18->tensorflow-intel==2.18.0->tensorflow) (0.7.2)\n",
      "Requirement already satisfied: werkzeug>=1.0.1 in c:\\users\\rizki\\appdata\\local\\programs\\python\\python312\\lib\\site-packages (from tensorboard<2.19,>=2.18->tensorflow-intel==2.18.0->tensorflow) (3.1.3)\n",
      "Requirement already satisfied: MarkupSafe>=2.1.1 in c:\\users\\rizki\\appdata\\local\\programs\\python\\python312\\lib\\site-packages (from werkzeug>=1.0.1->tensorboard<2.19,>=2.18->tensorflow-intel==2.18.0->tensorflow) (3.0.2)\n",
      "Requirement already satisfied: markdown-it-py>=2.2.0 in c:\\users\\rizki\\appdata\\local\\programs\\python\\python312\\lib\\site-packages (from rich->keras>=3.5.0->tensorflow-intel==2.18.0->tensorflow) (3.0.0)\n",
      "Requirement already satisfied: pygments<3.0.0,>=2.13.0 in c:\\users\\rizki\\appdata\\roaming\\python\\python312\\site-packages (from rich->keras>=3.5.0->tensorflow-intel==2.18.0->tensorflow) (2.18.0)\n",
      "Requirement already satisfied: mdurl~=0.1 in c:\\users\\rizki\\appdata\\local\\programs\\python\\python312\\lib\\site-packages (from markdown-it-py>=2.2.0->rich->keras>=3.5.0->tensorflow-intel==2.18.0->tensorflow) (0.1.2)\n",
      "Note: you may need to restart the kernel to use updated packages.\n",
      "Requirement already satisfied: keras in c:\\users\\rizki\\appdata\\local\\programs\\python\\python312\\lib\\site-packages (3.7.0)\n",
      "Requirement already satisfied: absl-py in c:\\users\\rizki\\appdata\\local\\programs\\python\\python312\\lib\\site-packages (from keras) (2.1.0)\n",
      "Requirement already satisfied: numpy in c:\\users\\rizki\\appdata\\local\\programs\\python\\python312\\lib\\site-packages (from keras) (2.0.2)\n",
      "Requirement already satisfied: rich in c:\\users\\rizki\\appdata\\local\\programs\\python\\python312\\lib\\site-packages (from keras) (13.9.4)\n",
      "Requirement already satisfied: namex in c:\\users\\rizki\\appdata\\local\\programs\\python\\python312\\lib\\site-packages (from keras) (0.0.8)\n",
      "Requirement already satisfied: h5py in c:\\users\\rizki\\appdata\\local\\programs\\python\\python312\\lib\\site-packages (from keras) (3.12.1)\n",
      "Requirement already satisfied: optree in c:\\users\\rizki\\appdata\\local\\programs\\python\\python312\\lib\\site-packages (from keras) (0.13.1)\n",
      "Requirement already satisfied: ml-dtypes in c:\\users\\rizki\\appdata\\local\\programs\\python\\python312\\lib\\site-packages (from keras) (0.4.1)\n",
      "Requirement already satisfied: packaging in c:\\users\\rizki\\appdata\\local\\programs\\python\\python312\\lib\\site-packages (from keras) (24.0)\n",
      "Requirement already satisfied: typing-extensions>=4.5.0 in c:\\users\\rizki\\appdata\\local\\programs\\python\\python312\\lib\\site-packages (from optree->keras) (4.12.2)\n",
      "Requirement already satisfied: markdown-it-py>=2.2.0 in c:\\users\\rizki\\appdata\\local\\programs\\python\\python312\\lib\\site-packages (from rich->keras) (3.0.0)\n",
      "Requirement already satisfied: pygments<3.0.0,>=2.13.0 in c:\\users\\rizki\\appdata\\roaming\\python\\python312\\site-packages (from rich->keras) (2.18.0)\n",
      "Requirement already satisfied: mdurl~=0.1 in c:\\users\\rizki\\appdata\\local\\programs\\python\\python312\\lib\\site-packages (from markdown-it-py>=2.2.0->rich->keras) (0.1.2)\n",
      "Note: you may need to restart the kernel to use updated packages.\n"
     ]
    }
   ],
   "source": [
    "%pip install mlxtend\n",
    "%pip install scikit-learn\n",
    "%pip install seaborn\n",
    "%pip install tensorflow\n",
    "%pip install keras"
   ]
  },
  {
   "cell_type": "markdown",
   "metadata": {
    "id": "pJNGigfyQH9s"
   },
   "source": [
    "**IMPORT MODUL**"
   ]
  },
  {
   "cell_type": "code",
   "execution_count": 4,
   "metadata": {
    "colab": {
     "base_uri": "https://localhost:8080/"
    },
    "id": "ekvt7uupMhYZ",
    "outputId": "1526e447-d0dd-4515-9e72-65c369f7becb"
   },
   "outputs": [
    {
     "name": "stderr",
     "output_type": "stream",
     "text": [
      "[nltk_data] Downloading package punkt_tab to\n",
      "[nltk_data]     C:\\Users\\rizki\\AppData\\Roaming\\nltk_data...\n",
      "[nltk_data]   Package punkt_tab is already up-to-date!\n",
      "[nltk_data] Downloading package punkt to\n",
      "[nltk_data]     C:\\Users\\rizki\\AppData\\Roaming\\nltk_data...\n",
      "[nltk_data]   Package punkt is already up-to-date!\n"
     ]
    },
    {
     "data": {
      "text/plain": [
       "True"
      ]
     },
     "execution_count": 4,
     "metadata": {},
     "output_type": "execute_result"
    }
   ],
   "source": [
    "import pandas as pd\n",
    "import numpy as np\n",
    "import matplotlib.pyplot as plt\n",
    "import seaborn as sns\n",
    "import datetime as dt\n",
    "import re\n",
    "import string\n",
    "from nltk.tokenize import word_tokenize\n",
    "from nltk.corpus import stopwords\n",
    "# from wordcloud import WordCloud\n",
    "import nltk\n",
    "import spacy\n",
    "from sklearn.model_selection import train_test_split\n",
    "from sklearn.metrics import accuracy_score\n",
    "from sklearn.model_selection import GridSearchCV\n",
    "from mlxtend.plotting import plot_confusion_matrix\n",
    "from sklearn.metrics import confusion_matrix\n",
    "import pandas as pd\n",
    "import numpy as np\n",
    "import matplotlib.pyplot as plt\n",
    "import seaborn as sns\n",
    "import datetime as dt\n",
    "import re\n",
    "import string\n",
    "from nltk.tokenize import word_tokenize\n",
    "from nltk.corpus import stopwords\n",
    "# from wordcloud import WordCloud\n",
    "import nltk\n",
    "import tensorflow as tf\n",
    "from sklearn.model_selection import train_test_split\n",
    "from sklearn.metrics import accuracy_score\n",
    "from scikeras.wrappers import KerasClassifier\n",
    "from sklearn.model_selection import GridSearchCV\n",
    "from sklearn.metrics import confusion_matrix\n",
    "import nltk\n",
    "\n",
    "nltk.download('punkt_tab')\n",
    "nltk.download('punkt')\n",
    "\n"
   ]
  },
  {
   "cell_type": "markdown",
   "metadata": {
    "id": "CMnrisGVQL5u"
   },
   "source": [
    "**SCRAPPING WEB GOODREADS**"
   ]
  },
  {
   "cell_type": "code",
   "execution_count": 5,
   "metadata": {
    "colab": {
     "base_uri": "https://localhost:8080/"
    },
    "id": "NG97yl709ch3",
    "outputId": "fc5f35f6-39f4-41cf-8f90-70494f451e6b"
   },
   "outputs": [
    {
     "name": "stdout",
     "output_type": "stream",
     "text": [
      "Title: Teatro Grottesco, Author: Thomas Ligotti, Link: https://www.goodreads.com/book/show/2452401.Teatro_Grottesco, Sinopsis: This collection features tormented individuals who play out their doom in various odd little towns, as well as in dark sectors frequented by sinister and often blackly comical eccentrics. The cycle of narratives that includes the title work of this collection, for instance, introduces readers to a freakish community of artists who encounter demonic perils that ultimately engulf their lives. These are selected examples of the forbidding array of persons and places that compose the mesmerizing fiction of Thomas Ligotti.\n",
      "Title: The Laws of the Skies, Author: Grégoire Courtois, Link: https://www.goodreads.com/book/show/42372424-the-laws-of-the-skies, Sinopsis: Twelve six-year-olds and their three adult chaperones head into the woods on a camping trip. None of them make it out alive.The Laws of the Skies follows the terrified children as they scatter into the night to escape danger, dressed only in their pajamas. They face their darkest childhood fears and new imaginary threats, like trolls masquerading as boulders and child-eating tree trunks.A harrowing story of those days in the woods, of illness, poisoning, and accidents; of a love triangle among tots; a pint-sized hero; and a child on a murderous rampage that comes to a grisly end. Part fairy tale, part horror story, this macabre fable takes us through the minds of all the members of this doomed party, murderers and murdered alike.\n",
      "Title: The Lesser Dead, Author: Christopher Buehlman, Link: https://www.goodreads.com/book/show/20893407-the-lesser-dead, Sinopsis: The secret is, vampires are real and I am one.The secret is, I’m stealing from you what is most truly yours and I’m not sorry—New York City in 1978 is a dirty, dangerous place to live. And die. Joey Peacock knows this as well as anybody—he has spent the last forty years as an adolescent vampire, perfecting the routine he now enjoys: womanizing in punk clubs and discotheques, feeding by night, and sleeping by day with others of his kind in the macabre labyrinth under the city’s sidewalks.The subways are his playground and his highway, shuttling him throughout Manhattan to bleed the unsuspecting in the Sheep Meadow of Central Park or in the backseats of Checker cabs, or even those in their own apartments who are too hypnotized by sitcoms to notice him opening their windows. It’s almost too easy.Until one night he sees them hunting on his beloved subway. The children with the merry eyes. Vampires, like him…or not like him. Whatever they are, whatever their appearance means, the undead in the tunnels of Manhattan are not as safe as they once were.And neither are the rest of us.\n",
      "Title: The Chalk Man, Author: C.J. Tudor, Link: https://www.goodreads.com/book/show/35356382-the-chalk-man, Sinopsis: In 1986, Eddie and his friends are just kids on the verge of adolescence. They spend their days biking around their sleepy English village and looking for any taste of excitement they can get. The chalk men are their secret code: little chalk stick figures they leave for one another as messages only they can understand. But then a mysterious chalk man leads them right to a dismembered body, and nothing is ever the same.In 2016, Eddie is fully grown, and thinks he's put his past behind him. But then he gets a letter in the mail, containing a single chalk stick figure. When it turns out that his friends got the same message, they think it could be a prank . . . until one of them turns up dead.That's when Eddie realizes that saving himself means finally figuring out what really happened all those years ago.\n",
      "Title: Thirteen Storeys, Author: Jonathan Sims, Link: https://www.goodreads.com/book/show/51160099-thirteen-storeys, Sinopsis: You're cordially invited to dinner. Penthouse access is available via the broken freight elevator. Black tie optional.A dinner party is held in the penthouse of a multimillion-pound development. All the guests are strangers - even to their host, the billionaire owner of the building. None of them know why they were selected to receive his invitation. Whether privileged or deprived, besides a postcode, they share only one thing in common - they've all experienced a shocking disturbance within the building's walls.By the end of the night, their host is dead, and none of the guests ever said what happened. His death remains one of the biggest unsolved mysteries - until now.But are you ready for their stories?Jonathan Sims' debut is a darkly twisted, genre-bending journey through one of the most innovative haunted houses you'll ever dare to enter.\n",
      "Title: The Wind Through the Keyhole, Author: Stephen        King, Link: https://www.goodreads.com/book/show/12341557-the-wind-through-the-keyhole, Sinopsis: Stephen King returns to the rich landscape of Mid-World, the spectacular territory of the Dark Tower fantasy saga that stands as his most beguiling achievement. Roland Deschain and his ka-tet—Jake, Susannah, Eddie, and Oy, the billy-bumbler—encounter a ferocious storm just after crossing the River Whye on their way to the Outer Baronies. As they shelter from the howling gale, Roland tells his friends not just one strange story but two . . . and in so doing, casts new light on his own troubled past. In his early days as a gunslinger, in the guilt-ridden year following his mother’s death, Roland is sent by his father to investigate evidence of a murderous shape-shifter, a “skin-man” preying upon the population around Debaria. Roland takes charge of Bill Streeter, the brave but terrified boy who is the sole surviving witness to the beast’s most recent slaughter. Only a teenager himself, Roland calms the boy and prepares him for the following day’s trials by reciting a story from the Magic Tales of the Eld that his mother often read to him at bedtime. “A person’s never too old for stories,” Roland says to Bill. “Man and boy, girl and woman, never too old. We live for them.” And indeed, the tale that Roland unfolds, the legend of Tim Stoutheart, is a timeless treasure for all ages, a story that lives for us.King began the Dark Tower series in 1974; it gained momentum in the 1980s; and he brought it to a thrilling conclusion when the last three novels were published in 2003 and 2004. The Wind Through the Keyhole is sure to fascinate avid fans of the Dark Tower epic. But this novel also stands on its own for all readers, an enchanting and haunting journey to Roland’s world and testimony to the power of Stephen King’s storytelling magic.~from first edition jacket\n",
      "Title: The Vampyre, Author: John William Polidori, Link: https://www.goodreads.com/book/show/472966.The_Vampyre, Sinopsis: This classic vampire story has inspired generations of authors, from Bram Stoker to Charlaine Harris. A young English gentleman of means, Aubrey is immediately intrigued by Lord Ruthven, the mysterious newcomer among society’s elite. His unknown origin and curious behavior tantalizes Aubrey’s imagination. But the young man soon discovers a sinister character hidden behind his new friend’s glamorous facade.   When the two are set upon by bandits while traveling together in Europe, Ruthven is fatally injured. Before drawing his last breath, he makes the odd request that Aubrey keep his death and crimes secret for a year and a day. But when Ruthven resurfaces in London—making overtures toward Aubrey’s sister—Aubrey realizes this immortal fiend is a vampyre.   John William Polidori’s The Vampyre is both a classic tale of gothic horror and the progenitor of the modern romantic vampire myth that has been fodder for artists ranging from Anne Rice to Alan Ball to Francis Ford Coppola. Originally published in 1819, many decades before Bram Stoker’s Dracula, and misattributed to Polidori’s friend Lord Byron, The Vampyre has kept readers up at night for nearly two hundred years.\n",
      "Title: Suffer the Children, Author: John Saul, Link: https://www.goodreads.com/book/show/6572.Suffer_the_Children, Sinopsis: Alternate cover edition for this ISBN can be found here.One hundred years ago in Port Arbello a pretty little girl began to scream. And struggle. And die. No one heard. No one saw. Just one man whose guilty heart burst in pain as he dashed himself to death in the sea. Now something peculiar is happening in Port Arbello. The children are disappearing, one by one. An evil history is repeating itself. And one strange, terrified child has ended her silence with a scream that began a hundred years ago.\n",
      "Title: Blackout, Author: Mira Grant, Link: https://www.goodreads.com/book/show/11806716-blackout, Sinopsis: Rise up while you can. -Georgia MasonThe year was 2014. The year we cured cancer. The year we cured the common cold. And the year the dead started to walk. The year of the Rising.The year was 2039. The world didn't end when the zombies came, it just got worse. Georgia and Shaun Mason set out on the biggest story of their generation. They uncovered the biggest conspiracy since the Rising and realized that to tell the truth, sacrifices have to be made.Now, the year is 2041, and the investigation that began with the election of President Ryman is much bigger than anyone had assumed. With too much left to do and not much time left to do it in, the surviving staff of After the End Times must face mad scientists, zombie bears, rogue government agencies-and if there's one thing they know is true in post-zombie America, it's this:Things can always get worse.Blackout is the conclusion to the epic trilogy that began in the Hugo-nominated Feed and the sequel, Deadline.\n",
      "Title: The Merciless, Author: Danielle Vega, Link: https://www.goodreads.com/book/show/18667769-the-merciless, Sinopsis: Forgive us, Father, for we have sinned Brooklyn Stevens sits in a pool of her own blood, tied up and gagged. No one outside of these dank basement walls knows she’s here. No one can hear her scream.   Sofia Flores knows she shouldn’t have gotten involved. When she befriended Riley, Grace, and Alexis on her first day at school, she admired them, with their perfect hair and their good-girl ways. They said they wanted to save Brooklyn. They wanted to help her. Sofia didn’t realize they believed Brooklyn was possessed.   Now, Riley and the girls are performing an exorcism on Brooklyn—but their idea of an exorcism is closer to torture than salvation. All Sofia wants is to get out of this house. But there is no way out. Sofia can’t go against the other girls . . . unless she wants to be next. . . .   In this chilling debut, Danielle Vega delivers blood-curdling suspense and terror on every page. By the shockingly twisted end, readers will be faced with the most haunting question of all: Is there evil in all of us?\n",
      "Title: Blood And Gold, Author: Anne Rice, Link: https://www.goodreads.com/book/show/31341.Blood_And_Gold, Sinopsis: Here is the gorgeous and sinister story of Marius, patrician by birth, scholar by choice, one of the oldest vampires of them all, which sweeps from his genesis in ancient Rome, in the time of the Emperor Augustus, to his meeting in the present day with a creature of snow and ice. Thorne is a Northern vampire in search of Maharet, his 'maker', the ancient Egyptian vampire queen who holds him and others in thrall with chains made of her red hair, 'bound with steel and with her blood and gold'. When the Visigoths sack his city, Marius is there; with the resurgence of the glory that was Rome, he is there, still searching for his lost love Pandora, but bewitched in turn by Botticelli, the Renaissance beauty Bianca, with her sordid secrets, and the boy he calls Amadeo (otherwise known as the Vampire Armand). Criss-crossing through the stories of other vampires from Rice's glorious Pantheon of the undead, haunted by Pandora and by his alter ego Mael, tracked by the Talamasca, the tale of Marius, the self-styled guardian of 'those who must be kept' is the most wondrous and mind-blowing of them all.\n",
      "Title: The Walking Dead, Vol. 5: The Best Defense, Author: Robert Kirkman, Link: https://www.goodreads.com/book/show/30065.The_Walking_Dead_Vol_5, Sinopsis: As the survivors settle into their prison home something has drawn them out into the open... out of the prison... out of their sanctuary. This is a major turning point for the overall story of The Walking Dead, setting the stage for years to come.\n",
      "Title: North American Lake Monsters, Author: Nathan Ballingrud, Link: https://www.goodreads.com/book/show/16057298-north-american-lake-monsters, Sinopsis: Nathan Ballingrud's Shirley Jackson Award winning debut collection is a shattering and luminous experience not to be missed by those who love to explore the darker parts of the human psyche. Monsters, real and imagined, external and internal, are the subject. They are us and we are them and Ballingrud's intense focus makes these stories incredibly intense and irresistible.These are love stories. And also monster stories. Sometimes these are monsters in their traditional guises, sometimes they wear the faces of parents, lovers, or ourselves. The often working-class people in these stories are driven to extremes by love. Sometimes, they are ruined; sometimes redeemed. All are faced with the loneliest corners of themselves and strive to find an escape.Nathan Ballingrud was born in Massachusetts but has spent most of his life in the South. He worked as a bartender in New Orleans and New York City and a cook on offshore oil rigs. His story \"The Monsters of Heaven\" won the inaugural Shirley Jackson Award. He lives in Asheville, North Carolina, with his daughter.\n",
      "Title: Title not found, Author: Author not found, Link: https://www.goodreads.com/book/show/45890523-starve-acre, Sinopsis: Sinopsis not found\n",
      "Title: Echo, Author: Thomas Olde Heuvelt, Link: https://www.goodreads.com/book/show/53329253-echo, Sinopsis: NATURE IS CALLING—but they shouldn't have answered.Travel journalist and mountaineer Nick Grevers awakes from a coma to find that his climbing buddy, Augustin, is missing and presumed dead. Nick’s own injuries are as extensive as they are horrifying. His face wrapped in bandages and unable to speak, Nick claims amnesia—but he remembers everything.He remembers how he and Augustin were mysteriously drawn to the Maudit, a remote and scarcely documented peak in the Swiss Alps.He remembers how the slopes of Maudit were eerily quiet, and how, when they entered its valley, they got the ominous sense that they were not alone.He remembers: something was waiting for them...But it isn’t just the memory of the accident that haunts Nick. Something has awakened inside of him, something that endangers the lives of everyone around him…It’s one thing to lose your life. It’s another to lose your soul.FROM THE INTERNATIONAL BESTSELLING SENSATION THOMAS OLDE HEUVELT comes a thrilling descent into madness and obsession as one man confronts nature—and something even more ancient and evil answers back.\n",
      "Title: Pandora, Author: Anne Rice, Link: https://www.goodreads.com/book/show/31343.Pandora, Sinopsis: Anne Rice, creator of the Vampire Lestat, the Mayfair witches and the amazing worlds they inhabit, now gives us the first in a new series of novels linked together by the fledgling vampire David Talbot, who has set out to become a chronicler of his fellow Undead.The novel opens in present-day Paris in a crowded café, where David meets Pandora. She is two thousand years old, a Child of the Millennia, the first vampire ever made by the great Marius. David persuades her to tell the story of her life. Pandora begins, reluctantly at first and then with increasing passion, to recount her mesmerizing tale, which takes us through the ages, from Imperial Rome to eighteenth-century France to twentieth-century Paris and New Orleans. She carries us back to her mortal girlhood in the world of Caesar Augustus, a world chronicled by Ovid and Petronius. This is where Pandora meets and falls in love with the handsome, charismatic, lighthearted, still-mortal Marius. This is the Rome she is forced to flee in fear of assassination by conspirators plotting to take over the city. And we follow her to the exotic port of Antioch, where she is destined to be reunited with Marius, now immortal and haunted by his vampire nature, who will bestow on her the Dark Gift as they set out on the fraught and fantastic adventure of their two turbulent centuries together.\n",
      "Title: The Dunwich Horror and Others, Author: H.P. Lovecraft, Link: https://www.goodreads.com/book/show/63213.The_Dunwich_Horror_and_Others, Sinopsis: Contents:ix · H.P. Lovecraft and His Work · August Derleth · in 10 · In the Vault · ss The Tryout Nov ’25; Weird Tales Apr ’32 19 · Pickman’s Model · ss Weird Tales Oct ’27 33 · The Rats in the Walls · ss Weird Tales Mar ’24 53 · The Outsider · ss Weird Tales Apr ’26 60 · The Colour Out of Space · nv Amazing Sep ’27 89 · The Music of Erich Zann · ss The National Amateur Mar ’22; Weird Tales Nov ’34 98 · The Haunter of the Dark · nv Weird Tales Dec ’36 121 · The Picture in the House · ss The National Amateur Jul ’19; Weird Tales Mar ’37 130 · The Call of Cthulhu [Inspector Legrasse] · nv Weird Tales Feb ’28 160 · The Dunwich Horror · nv Weird Tales Apr ’29 203 · Cool Air · ss Tales of Magic and Mystery Mar ’28; Weird Tales Jul ’27 212 · The Whisperer in Darkness · na Weird Tales Aug ’31 278 · The Terrible Old Man · vi The Tryout Jul ’20; Weird Tales Aug ’26 281 · The Thing on the Door-step · nv Weird Tales Jan ’37 308 · The Shadow Over Innsmouth · na Visionary Press: Everett, PA, 1936; Weird Tales Jan ’42 370 · The Shadow Out of Time · na Astounding Jun ’36\n",
      "Title: A Winter Haunting, Author: Dan Simmons, Link: https://www.goodreads.com/book/show/3978.A_Winter_Haunting, Sinopsis: A once-respected college professor and novelist, Dale Stewart has sabotaged his career and his marriage -- and now darkness is closing in on him. In the last hours of Halloween he has returned to the dying town of Elm Haven, his boyhood home, where he hopes to find peace in isolation. But moving into a long-deserted farmhouse on the far outskirts of town -- the one-time residence of a strange and brilliant friend who lost his young life in a grisly \"accident\" back in the terrible summer of 1960 -- is only the latest in his long succession of recent mistakes. Because Dale is not alone here. He has been followed to this house of shadows by private demons who are now twisting his reality into horrifying new forms. And a thick, blanketing early snow is starting to fall ...\n",
      "Title: The Monkey's Paw, Author: W.W. Jacobs, Link: https://www.goodreads.com/book/show/8779896-the-monkey-s-paw, Sinopsis: When the White family comes into the possession of a monkey’s paw that magically grant wishes, they do what many people would do—they succumb to vanity and wish for the unneeded. But every wish has a consequence, and the White family finds they are completely unprepared for what comes next. The Monkey’s Paw is a classic horror tale that gives new meaning to the phrase “be careful what you wish for.”One of W.W. Jacob's most memorable works, The Monkey’s Paw has become a classic horror story and has been adapted numerous times, including into episodes of such popular television series as The X-Files, The Twilight Zone, Buffy the Vampire Slayer, The Simpsons: Treehouse of Horror, Are You Afraid of the Dark?, and Tales from the Crypt.\n",
      "Title: Dead of Winter, Author: Darcy Coates, Link: https://www.goodreads.com/book/show/63264519-dead-of-winter, Sinopsis: From bestselling author Darcy Coates comes Dead of Winter, a remote cabin in the snowy wilderness thriller that will teach you to trust no one. There are eight strangers. One killer. Nowhere left to run.When Christa joins a tour group heading deep into the snowy expanse of the Rocky Mountains, she's hopeful this will be her chance to put the ghosts of her past to rest. But when a bitterly cold snowstorm sweeps the region, the small group is forced to take shelter in an abandoned hunting cabin. Despite the uncomfortably claustrophobic quarters and rapidly dropping temperature, Christa believes they'll be safe as they wait out the storm.She couldn't be more wrong.Deep in the night, their tour guide goes missing...only to be discovered the following morning, his severed head impaled on a tree outside the cabin. Terrified, and completely isolated by the storm, Christa finds herself trapped with eight total strangers. One of them kills for sport...and they're far from finished. As the storm grows more dangerous and the number of survivors dwindles one by one, Christa must decide who she can trust before this frozen mountain becomes her tomb.\n",
      "Title: The Descent, Author: Jeff Long, Link: https://www.goodreads.com/book/show/239065.The_Descent, Sinopsis: We are not alone …In a cave in the Himalayas, a guide discovers a self-mutilated body with the warning \"Satan exists\". In the Kalahari Desert, a nun unearths evidence of a proto-human species and a deity called Older-than-Old. In Bosnia, something has been feeding upon the dead in a mass grave. So begins mankind’s most shocking realization: that the underworld is a vast geological labyrinth populated by another race of beings. Some call them \"devils\" or \"demons.\" But they are real. They are down there. And they are waiting for us to find them…\n",
      "Title: Books of Blood, Volume Two, Author: Clive Barker, Link: https://www.goodreads.com/book/show/291950.Books_of_Blood_Volume_Two, Sinopsis: Alternate Cover Edition of ISBN 9780425087398To a surgeon, cutting into the human body is an art. Muscle and flesh are his canvas, the scalpel his tool. He studies the composition of the organs -- their balance and form -- the structure of the bones and network of blood vessels. He makes his incision, cutting, slicing with loving care. — Clive Barker is another type of surgeon. — He understands the human body too. He knows how the nerves send impulses to a riveted brain. And he knows how the hot blood surges through veins and arteries under a thin membrane of skin.And then gushes out... Five stories of horror and intrigue include, \"Dread,\" \"Hell's Event,\" \"Jacqueline Ess: Her Will and Testament,\" \"The Skins of the Fathers,\" and \"New Murders in the Rue Morgue.\" Reprint.\n",
      "Title: Roadwork, Author: Richard  Bachman, Link: https://www.goodreads.com/book/show/10577.Roadwork, Sinopsis: Barton Dawes’ unremarkable but comfortable existence suddenly takes a turn for the worst. Highway construction puts him out of work and simultaneously forces him out of his home. Dawes isn’t the sort of man who will take an insult of this magnitude lying down. His single-minded determination to fight the inevitable course of progress drives his wife and friends away while he tries to face down the uncaring bureaucracy that has destroyed his once comfortable life.--stephenking.com\n",
      "Title: Nineteen Claws and a Black Bird, Author: Agustina Bazterrica, Link: https://www.goodreads.com/book/show/62919399-nineteen-claws-and-a-black-bird, Sinopsis: A collection of nineteen dark, wildly imaginative short stories from the author of the award-winning TikTok sensation Tender Is the Flesh.From celebrated author Agustina Bazterrica, this collection of nineteen brutal, darkly funny short stories takes into our deepest fears and through our most disturbing fantasies. Through stories about violence, alienation, and dystopia, Bazterrica’s vision of the human experience emerges in complex, unexpected ways—often unsettling, sometimes thrilling, and always profound. In “Roberto,” a girl claims to have a rabbit between her legs. A woman’s neighbor jumps to his death in “A Light, Swift, and Monstrous Sound,” and in “Candy Pink,” a woman fails to contend with a difficult breakup in five easy steps. Written in Bazterrica’s signature clever, vivid style, these stories question love, friendship, family relationships, and unspeakable desires.\n",
      "Title: The Summer I Died, Author: Ryan C. Thomas, Link: https://www.goodreads.com/book/show/891472.The_Summer_I_Died, Sinopsis: So much screaming. When Roger Huntington comes home from college for the summer and is met by his best friend, Tooth, he knows they're going to have a good time. A summer full of beer, comic books, movies, laughs, and maybe even girls. So much pain. The sun is high and the sky is clear as Roger and Tooth set out to shoot beer cans at Bobcat Mountain. Just two friends catching up on lost time, two friends thinking about their futures, two friends-- So much blood. --suddenly thrust in the middle of a nightmare. Forced to fight for their life against a sadistic killer. A killer with an arsenal of razor sharp blades and a hungry dog by his side. So much death. If they are to survive, they must decide: are heroes born, or are they made? Or is something more powerful happening to them? And more importantly, how do you survive when all roads lead to death!\n",
      "Title: Roadwork, Author: Richard  Bachman, Link: https://www.goodreads.com/book/show/10577.Roadwork, Sinopsis: Barton Dawes’ unremarkable but comfortable existence suddenly takes a turn for the worst. Highway construction puts him out of work and simultaneously forces him out of his home. Dawes isn’t the sort of man who will take an insult of this magnitude lying down. His single-minded determination to fight the inevitable course of progress drives his wife and friends away while he tries to face down the uncaring bureaucracy that has destroyed his once comfortable life.--stephenking.com\n",
      "Title: La riada, Author: Michael McDowell, Link: https://www.goodreads.com/book/show/202795132-la-riada, Sinopsis: Descubre el primer volumen de la saga Blackwater.Una saga matriarcal. Mujeres poderosas que luchan por el dominio durante generaciones. Una atmósfera única para una lectura adictiva. Un retrato realista con toques sobrenaturales. Escritura magistral y visual en un ambicioso proyecto entre el pulp y HBO.«Michael Mcdowell: mi amigo, mi maestro. Fascinante, aterrador, simplemente genial. El mejor de todos nosotros.» STEPHEN KING«Una sabia combinación entre Dumas y Lovecraft. Un cruce entre Stephen King y Gabriel García Márquez. Despiadadamente adictivo.» ROBERT SHAPLEN, THE NEW YORK TIMESLas gélidas y oscuras aguas del río Blackwater inundan Perdido, un pequeño pueblo al sur de Alabama. Allí, los Caskey, un gran clan de ricos terratenientes, intentan hacer frente a los daños causados por la riada. Liderados por Mary-Love, la incontestable matriarca, y Óscar, su obediente hijo, los Caskey trabajan por recomponerse y salvaguardar su fortuna. Pero no cuentan con la aparición de la misteriosa Elinor Dammert. Una joven hermosa pero parca en palabras con un único lente: acercarse a los Caskey cueste lo que cueste.\n",
      "Title: Legion, Author: William Peter Blatty, Link: https://www.goodreads.com/book/show/219362.Legion, Sinopsis: 1983 Simon Schuster hardcover, William Peter Blatty. One by one the bizarre murders frustrate and torment Lt. Kinderman, the homicide detective from The Exorcist. A boy, crucified; a priest, decapitated; another priest slain; a nurse, slaughtered — all bear the Zodiac mark of the Gemini Killer. BUT ... the Gemini Killer has been dead for 12 years — Lt. Kinderman stalks the brutal and elusive killer down the dark streets. Until, finally, in desperation he dares to cross the boundary that separates the living from the dead. - Goodreads\n",
      "Title: The Cellar, Author: Richard Laymon, Link: https://www.goodreads.com/book/show/145152.The_Cellar, Sinopsis: Visitors flock to see the Beast House with its blood-soaked corridors and creaky doors. Armed with video camcorders, these poor souls enter the forbidden house, never to return. The deeper they go into the house, the darker their nightmares become. Don't even think about going into the cellar.\n",
      "Title: The Book of Cold Cases, Author: Simone St. James, Link: https://www.goodreads.com/book/show/58371432-the-book-of-cold-cases, Sinopsis: In 1977, Claire Lake, Oregon, was shaken by the Lady Killer Murders: Two men, seemingly randomly, were murdered with the same gun, with strange notes left behind. Beth Greer was the perfect suspect--a rich, eccentric twenty-three-year-old woman, seen fleeing one of the crimes. But she was acquitted, and she retreated to the isolation of her mansion.Oregon, 2017. Shea Collins is a receptionist, but by night, she runs a true crime website, the Book of Cold Cases--a passion fueled by the attempted abduction she escaped as a child. When she meets Beth by chance, Shea asks her for an interview. To Shea's surprise, Beth says yes.They meet regularly at Beth's mansion, though Shea is never comfortable there. Items move when she's not looking, and she could swear she's seen a girl outside the window. The allure of learning the truth about the case from the smart, charming Beth is too much to resist, but even as they grow closer, Shea senses something isn't right. Is she making friends with a manipulative murderer, or are there other dangers lurking in the darkness of the Greer house?A true crime blogger gets more than she bargained for while interviewing the woman acquitted of two cold case slayings in this chilling new novel from the New York Times bestselling author of The Sun Down Motel.\n",
      "Title: The Walking Dead: Compendium One, Author: Robert Kirkman, Link: https://www.goodreads.com/book/show/6465707-the-walking-dead, Sinopsis: Introducing the first eight volumes of the fan-favorite, New York Times Best Seller series collected into one massive paperback collection.In a world ruled by the dead, we are forced to finally start living. With The Walking Dead #1-48, this compendium features more than one thousand pages chronicling the start of Robert Kirkman's Eisner Award-winning story of zombie horror, from Rick Grimes waking up alone in a hospital, his band of survivors seeking refuge on an isolated farm and the controversial introduction of Woodbury despot, The Governor.\n",
      "Title: The Reapers are the Angels, Author: Alden Bell, Link: https://www.goodreads.com/book/show/8051458-the-reapers-are-the-angels, Sinopsis: Zombies have infested a fallen America. A young girl named Temple is on the run. Haunted by her past and pursued by a killer, Temple is surrounded by death and danger, hoping to be set free.For twenty-five years, civilization has survived in meager enclaves, guarded against a plague of the dead. Temple wanders this blighted landscape, keeping to herself - and keeping her demons inside. She can't remember a time before the zombies, but she does remember an old man who took her in and the younger brother she cared for until the tragedy that set her on a personal journey toward redemption. Moving back and forth between the insulated remnants of society and the brutal frontier beyond, Temple must decide where ultimately to make a home and find the salvation she seeks.\n",
      "Title: Venus in the Blind Spot, Author: Junji Ito, Link: https://www.goodreads.com/book/show/49081449-venus-in-the-blind-spot, Sinopsis: This striking collection presents the most remarkable short works of Junji Ito’s career, featuring an adaptation of Rampo Edogawa’s classic horror story “The Human Chair” and fan favorite “The Enigma of Amigara Fault.” With a deluxe presentation—including special color pages, and showcasing illustrations from his acclaimed long-form manga No Longer Human—each chilling tale invites readers to revel in a world of terror.\n",
      "Title: The Imago Sequence and Other Stories, Author: Laird Barron, Link: https://www.goodreads.com/book/show/911954.The_Imago_Sequence_and_Other_Stories, Sinopsis: To the long tradition of eldritch horror pioneered and refined by writers such as H.P. Lovecraft, Peter Straub, and Thomas Ligotti comes Laird Barron, an author whose literary voice invokes the grotesque, the devilish, and the perverse with rare intensity and astonishing craftsmanship.Collected here for the first time are nine terrifying tales of cosmic horror, including the World Fantasy Award-nominated novella “The Imago Sequence,” the International Horror Guild Award-nominated “Proboscis,” and the never-before-published “Procession of the Black Sloth.” Together, these stories, each a masterstroke of craft and imaginative irony, form a shocking cycle of distorted evolution, encroaching chaos, and ravenous insectoid hive-minds hidden just beneath the seemingly benign surface of the Earth.With colorful protagonists, including an over-the-hill CIA agent, a grizzled Pinkerton detective, and a failed actor accompanying a group of bounty hunters, Barron’s stories are resonant and authentic, featuring vulnerable, hard-boiled tough guys attempting to stand against the stygian wasteland of night. Throughout the collection, themes of desolation, fear, and masculine identity are played out against the backdrop of an indifferent, devouring cosmos.\n",
      "Title: Patricia Wants to Cuddle, Author: Samantha  Allen, Link: https://www.goodreads.com/book/show/59093587-patricia-wants-to-cuddle, Sinopsis: The contestants of a reality television dating show compete for love—and their lives—in this pulse-pounding and viciously funny fiction debut from the GLAAD Award-winning author of Real Queer America.When the final four women in competition for an aloof, if somewhat sleazy, bachelor's heart arrive on a mysterious island in the Pacific Northwest, they mentally prepare themselves for another week of extreme sleep deprivation, invasive interviews, and of course, the salacious drama that viewers nationwide tune in to eagerly devour. Each woman came on 'The Catch' for her own reasons—brand sponsorships, followers, and yes, even love—and they've all got their eyes steadfastly trained on their respective prizes.Enter Patricia, a temperamental, but woefully misunderstood local, living alone in the dark, verdant woods and desperate to forge a connection of her own. As the contestants perform for the cameras that surround them, Patricia watches from her place in the shadows, a queer specter haunting the bombastic display of heterosexuality before her. But when the cast and crew at last make her acquaintance atop the island's tallest and most desolate peak, they soon realize that if they're to have any hope of making it to the next Elimination Event, they'll first have to survive the night.A whirlwind romp careening toward a last-girl-standing conclusion and a scathing indictment of contemporary American media culture, Patricia Wants to Cuddle is also a love story: between star-crossed lesbians who rise above their intolerant town, a deeply ambivalent woman and her budding self-actualization, and a chosen family of misfit islanders forging community against all odds.\n",
      "Title: Ghost Wall, Author: Sarah Moss, Link: https://www.goodreads.com/book/show/38922230-ghost-wall, Sinopsis: In the north of England, far from the intrusions of cities but not far from civilization, Silvie and her family are living as if they are ancient Britons, surviving by the tools and knowledge of the Iron Age.For two weeks, the length of her father's vacation, they join an anthropology course set to reenact life in simpler times. They are surrounded by forests of birch and rowan; they make stew from foraged roots and hunted rabbit. The students are fulfilling their coursework; Silvie's father is fulfilling his lifelong obsession. He has raised her on stories of early man, taken her to witness rare artifacts, recounted time and again their rituals and beliefs—particularly their sacrifices to the bog. Mixing with the students, Silvie begins to see, hear, and imagine another kind of life, one that might include going to university, traveling beyond England, choosing her own clothes and food, speaking her mind.The ancient Britons built ghost walls to ward off enemy invaders, rude barricades of stakes topped with ancestral skulls. When the group builds one of their own, they find a spiritual connection to the past. What comes next but human sacrifice?A story at once mythic and strikingly timely, Sarah Moss's Ghost Wall urges us to wonder how far we have come from the \"primitive minds\" of our ancestors.\n",
      "Title: Twilight Eyes, Author: Dean Koontz, Link: https://www.goodreads.com/book/show/693172.Twilight_Eyes, Sinopsis: They're out there.Waiting. Watching. Unseen by normal eyes, but all to visible to Slim MacKenzie, a young man blessed - or cursed - by Twilight Eyes...They're out there.Lurking in the darkest shadows of an eerie, moonlit carnival. Feeding their twisted needs with human suffering. And fiendishly plotting the downfall of the human race...They're out there.But don't scream.They'll hear you...\n",
      "Title: The Night Sister, Author: Jennifer  McMahon, Link: https://www.goodreads.com/book/show/24040551-the-night-sister, Sinopsis: Once the thriving attraction of rural Vermont, the Tower Motel now stands in disrepair, alive only in the memories of Amy, Piper, and Piper's kid sister, Margot. The three played there as girls until the day that their games uncovered something dark and twisted in the motel's past, something that ruined their friendship forever.Now adult, Piper and Margot have tried to forget what they found that fateful summer, but their lives are upended when Piper receives a panicked midnight call from Margot, with news of a horrific crime for which Amy stands accused. Suddenly, Margot and Piper are forced to relive the time that they found the suitcase that once belonged to Silvie Slater, the aunt that Amy claimed had run away to Hollywood to live out her dream of becoming Hitchcock's next blonde bombshell leading lady. As Margot and Piper investigate, a cleverly woven plot unfolds—revealing the story of Sylvie and Rose, two other sisters who lived at the motel during its 1950s heyday. Each believed the other to be something truly monstrous, but only one carries the secret that would haunt the generations to come.\n",
      "Title: Frankenstein, Author: Junji Ito, Link: https://www.goodreads.com/book/show/31776292-frankenstein, Sinopsis: Junji Ito meets Mary Shelley!The master of horror manga bends all his skill into bringing the anguished and solitary monster — and the fouler beast who created him — to life with the brilliantly detailed chiaroscuro for which he is known.Also included are six tales of Oshikiri — a high school student who lives in a decaying mansion connected to a haunted parallel world. Uncanny doppelgängers, unfortunately murdered friends, and a whole lot more are in store for him.BONUS: The Ito family dog! Thrill to the adventures of Non-non Ito, an adorable Maltese!\n",
      "Title: Lost Boy: The True Story of Captain Hook, Author: Christina Henry, Link: https://www.goodreads.com/book/show/32828538-lost-boy, Sinopsis: From the national bestselling author of Alice comes a familiar story with a dark hook—a tale about Peter Pan and the friend who became his nemesis, a nemesis who may not be the blackhearted villain Peter says he is…There is one version of my story that everyone knows. And then there is the truth. This is how it happened. How I went from being Peter Pan’s first—and favorite—lost boy to his greatest enemy. Peter brought me to his island because there were no rules and no grownups to make us mind. He brought boys from the Other Place to join in the fun, but Peter's idea of fun is sharper than a pirate’s sword. Because it’s never been all fun and games on the island. Our neighbors are pirates and monsters. Our toys are knife and stick and rock—the kinds of playthings that bite.Peter promised we would all be young and happy forever. Peter lies.\n",
      "Title: Chilling Adventures of Sabrina, Vol. 1: The Crucible, Author: Roberto Aguirre-Sacasa, Link: https://www.goodreads.com/book/show/23308488-chilling-adventures-of-sabrina-vol-1, Sinopsis: On the eve of her sixteenth birthday, the young sorceress Sabrina Spellman finds herself at a crossroads, having to choose between an unearthly destiny and her mortal boyfriend, Harvey. But a foe from her family's past has arrived in Greendale, Madame Satan, and she has her own deadly agenda. Archie Comics' latest horror sensation starts here! For TEEN+ readers. Compiles the first five issues of the ongoing comic book series Chilling Adventures of Sabrina.\n",
      "Title: The Haunted Mask, Author: R.L. Stine, Link: https://www.goodreads.com/book/show/308540.The_Haunted_Mask, Sinopsis: FACE TO FACE WITH A NIGHTMARE...How ugly is Carly Beth's Halloween mask? It's so ugly that it almost scared her little brother to death. So terrifying that even her friends are totally freaked out by it.It's the best Halloween mask ever. It's everything Carly Beth hoped it would be. And more.Maybe too much more. Because Halloween is almost over.And Carly Beth is still wearing that special mask...\n",
      "Title: The Wendigo, Author: Algernon Blackwood, Link: https://www.goodreads.com/book/show/1137702.The_Wendigo, Sinopsis: \"The Wendigo\" by Algernon Blackwood follows a group of adventurers venturing into the Canadian wilderness. As they delve deeper, they encounter unsettling phenomena and eerie encounters. Soon, they realize they're stalked by a malevolent force, the Wendigo, a mythical creature of Native American folklore...\n",
      "Title: Harrow the Ninth, Author: Tamsyn Muir, Link: https://www.goodreads.com/book/show/39325105-harrow-the-ninth, Sinopsis: Harrow the Ninth, the sequel to Gideon the Ninth, turns a galaxy inside out as one necromancer struggles to survive the wreckage of herself aboard the Emperor's haunted space station.She answered the Emperor's call.She arrived with her arts, her wits, and her only friend.In victory, her world has turned to ash.After rocking the cosmos with her deathly debut, Tamsyn Muir continues the story of the penumbral Ninth House in Harrow the Ninth, a mind-twisting puzzle box of mystery, murder, magic, and mayhem. Nothing is as it seems in the halls of the Emperor, and the fate of the galaxy rests on one woman's shoulders.Harrowhark Nonagesimus, last necromancer of the Ninth House, has been drafted by her Emperor to fight an unwinnable war. Side-by-side with a detested rival, Harrow must perfect her skills and become an angel of undeath — but her health is failing, her sword makes her nauseous, and even her mind is threatening to betray her. Sealed in the gothic gloom of the Emperor's Mithraeum with three unfriendly teachers, hunted by the mad ghost of a murdered planet, Harrow must confront two unwelcome questions: is somebody trying to kill her? And if they succeeded, would the universe be better off?\n",
      "Title: Stay Out of the Basement, Author: R.L. Stine, Link: https://www.goodreads.com/book/show/125542.Stay_Out_of_the_Basement, Sinopsis: Dr. Brewer is doing a little plant-testing in his basement. Nothing to worry about. Harmless, he says. But Margaret and Casey Brewer are worried about their father. Especially when they...meet...some of the plants he is growing down there. Then they notice that their father is developing plant like tendencies. In fact, he is becoming distinctly weedy-and seedy. Is it just part of Dr. Brewer's 'harmless' experiment? Or does Dad have more than just a green thumb...?\n",
      "Title: Apt Pupil, Author: Stephen        King, Link: https://www.goodreads.com/book/show/10618.Apt_Pupil, Sinopsis: Todd Bowden is an apt pupil. Good grades, good family, a paper route. But he is about to meet a different kind of teacher: Mr. Dussander. Todd knows all about Dussander's dark past. The torture. The death. The decades-old manhunt Dussander has escaped to this day. Yet Todd doesn't want to turn him in. Todd wants to know more. Much more. He is about to learn the real meaning of power—and the seductive lure of evil.\n",
      "Title: Whispers, Author: Dean Koontz, Link: https://www.goodreads.com/book/show/64948.Whispers, Sinopsis: #1 New York Times bestselling author Dean Koontz “pulls out all the stops” ( Publishers Weekly ) in this haunting psychological thriller...For thirty-five years, Bruno Frye has lived in the shadow of the adopted mother who made his heart beat with constant fear. And even though she died five years ago, the whispers still haunt him in the dark...enough to make him kill—and kill again.Hilary Thomas is one of his intended victims. And she’s about to learn that even death can’t keep a bad man down...\n",
      "Title: The Devil in Silver, Author: Victor LaValle, Link: https://www.goodreads.com/book/show/13030260-the-devil-in-silver, Sinopsis: New Hyde Hospital’s psychiatric ward has a new resident. It also has a very, very old one.Pepper is a rambunctious big man, minor-league troublemaker, working-class hero (in his own mind), and, suddenly, the surprised inmate of a budget-strapped mental institution in Queens, New York. He’s not mentally ill, but that doesn’t seem to matter. He is accused of a crime he can’t quite square with his memory. In the darkness of his room on his first night, he’s visited by a terrifying creature with the body of an old man and the head of a bison who nearly kills him before being hustled away by the hospital staff. It’s no delusion: The other patients confirm that a hungry devil roams the hallways when the sun goes down.Pepper rallies three other inmates in a plot to fight back: Dorry, an octogenarian schizophrenic who’s been on the ward for decades and knows all its secrets; Coffee, an African immigrant with severe OCD, who tries desperately to send alarms to the outside world; and Loochie, a bipolar teenage girl who acts as the group’s enforcer. Battling the pill-pushing staff, one another, and their own minds, they try to kill the monster that’s stalking them. But can the Devil die?The Devil in Silver brilliantly brings together the compelling themes that spark all of Victor LaValle’s radiant fiction: faith, race, class, madness, and our relationship with the unseen and the uncanny. More than that, it’s a thrillingly suspenseful work of literary horror about friendship, love, and the courage to slay our own demons.\n",
      "Title: What the Hell Did I Just Read, Author: David  Wong, Link: https://www.goodreads.com/book/show/33574090-what-the-hell-did-i-just-read, Sinopsis: NYT bestselling author Wong takes readers to a whole new level with his latest dark comic sci-fi thriller, set in the world of John Dies at the End and This Book is Full of SpidersDave, John and Amy recount what seems like a fairly straightforward tale of a shape-shifting creature from another dimension that is stealing children and brainwashing their parents, but it eventually becomes clear that someone is lying, and that someone is the narrators. The novel you're reading is a cover-up, and the \"true\" story reveals itself in the cracks of their hilariously convoluted, and sometimes contradictory, narrative.\n",
      "Title: Hurricane Season, Author: Fernanda Melchor, Link: https://www.goodreads.com/book/show/46041168-hurricane-season, Sinopsis: A New York Times Notable Book (2020)A Guardian Best Book of 2020A Literary Hub Favorite Book of 2020The Witch is dead. And the discovery of her corpse—by a group of children playing near the irrigation canals—propels the whole village into an investigation of how and why this murder occurred. Rumors and suspicions spread. As the novel unfolds in a dazzling linguistic torrent, with each unreliable narrator lingering on new details, new acts of depravity or brutality, Melchor extracts some tiny shred of humanity from these characters that most would write off as utterly irredeemable, forming a lasting portrait of a damned Mexican village.Like Roberto Bolano’s 2666 or Faulkner’s greatest novels, Hurricane Season takes place in a world filled with mythology and violence—real violence, the kind that seeps into the soil, poisoning everything around: it’s a world that becomes more terrifying and more terrifyingly real the deeper you explore it.\n",
      "Title: The Houseguest and Other Stories, Author: Amparo Dávila, Link: https://www.goodreads.com/book/show/38458438-the-houseguest-and-other-stories, Sinopsis: The first collection in English of an endlessly surprising, master storyteller Like those of Kafka, Poe, Leonora Carrington, or Shirley Jackson, Amparo Dávila’s stories are terrifying, mesmerizing, and expertly crafted―you’ll finish each one gasping for air. With acute psychological insight, Dávila follows her characters to the limits of desire, paranoia, insomnia, and fear. She is a writer obsessed with obsession, who makes nightmares come to life through the loneliness sinks in easily like a razor-sharp knife, some sort of evil lurks in every shadow, delusion takes the form of strange and very real creatures. After reading The Houseguest ―Dávila’s debut collection in English―you’ll wonder how this secret was kept for so long.\n",
      "Title: Your House Is on Fire, Your Children All Gone, Author: Stefan Kiesbye, Link: https://www.goodreads.com/book/show/13542949-your-house-is-on-fire-your-children-all-gone, Sinopsis: The village of Hemmersmoor is a place untouched by time and shrouded in superstition: There is the grand manor house whose occupants despise the villagers, the small pub whose regulars talk of revenants, the old mill no one dares to mention. This is where four young friends come of age—in an atmosphere thick with fear and suspicion. Their innocent games soon bring them face-to-face with the village's darkest secrets in this eerily dispassionate, astonishingly assured novel, evocative of Stephen King's classic short story \"Children of the Corn\" and infused with the spirit of the Brothers Grimm.\n",
      "Title: The Colour Out of Space, Author: H.P. Lovecraft, Link: https://www.goodreads.com/book/show/10129880-the-colour-out-of-space, Sinopsis: 'It was a monstrous constellation of unnatural light, like a glutted swarm of corpse-fed fireflies dancing hellish sarabands over an accursed marsh...'H.P. Lovecraft was perhaps the greatest twentieth century practitioner of the horror story, introducing to the genre a new evil, monstrous, pervasive and unconquerable. At the heart of these three stories are terrors unthinkable and strange: a crash-landing meteorite, the wretched inhabitant of an ancient castle and a grave-robber's curse. This book includes \"The Colour Out Of Space\", \"The Outsider\" and \"The Hound\".\n",
      "Title: The Canterville Ghost, Author: Oscar Wilde, Link: https://www.goodreads.com/book/show/45685.The_Canterville_Ghost, Sinopsis: This is Oscar Wilde's tale of the American family moved into a British mansion, Canterville Chase, much to the annoyance of its tired ghost. The family -- which refuses to believe in him -- is in Wilde's way a commentary on the British nobility of the day -- and on the Americans, too. The tale, like many of Wilde's, is rich with allusion, but ends as sentimental romance...\n",
      "Title: It Came from the Closet: Queer Reflections on Horror, Author: Joe Vallese, Link: https://www.goodreads.com/book/show/60708721-it-came-from-the-closet, Sinopsis: Through the lens of horror—from \"Halloween\" to \"Hereditary\"—queer and trans writers consider the films that deepened, amplified, and illuminated their own experiences.Horror movies hold a complicated space in the hearts of the queer community: historically misogynist, and often homo- and transphobic, the genre has also been inadvertently feminist and open to subversive readings. Common tropes—such as the circumspect and resilient “final girl,” body possession, costumed villains, secret identities, and things that lurk in the closet—spark moments of eerie familiarity and affective connection. Still, viewers often remain tasked with reading themselves into beloved films, seeking out characters and set pieces that speak to, mirror, and parallel the unique ways queerness encounters the world.\"It Came from the Closet\" features twenty-five original essays by writers speaking to this relationship, through connections both empowering and oppressive. From Carmen Maria Machado on \"Jennifer’s Body\", Jude Ellison S. Doyle on \"In My Skin\", Addie Tsai on \"Dead Ringers\", and many more, these conversations convey the rich reciprocity between queerness and horror.\n",
      "Title: Dracula's Guest, Author: Bram Stoker, Link: https://www.goodreads.com/book/show/10511555-dracula-s-guest, Sinopsis: A passage from the manuscript of Dracula.\n",
      "Title: Bones & All, Author: Camille DeAngelis, Link: https://www.goodreads.com/book/show/21570066-bones-all, Sinopsis: Maren Yearly doesn’t just break hearts, she devours them. Since she was a baby, Maren has had what you might call \"an issue\" with affection. Anytime someone cares for her too much, she can’t seem to stop herself from eating them. Abandoned by her mother at the age of 16, Maren goes looking for the father she has never known, but finds more than she bargained for along the way. Faced with love, fellow eaters, and enemies for the first time in her life, Maren realizes she isn’t just looking for her father, she is looking for herself. The real question is, will she like the girl she finds?\n",
      "Title: Tunnels of Blood, Author: Darren Shan, Link: https://www.goodreads.com/book/show/8957.Tunnels_of_Blood, Sinopsis: Darren, the vampire's assistant, gets a taste of the city when he leaves the Cirque Du Freak with Evra the snake-boy and Mr. Crepsley. When corpses are discovered--corpses drained of blood-- Darren and Evra are compelled to hunt down whatever foul creature is committing such horrendous acts. Meanwhile, beneath the streets, evil stalks Darren and Evra, and all clues point to Mr. Crepsley. Can they escape, or are they doomed to perish in the tunnels of blood?\n",
      "Title: The House That Horror Built, Author: Christina Henry, Link: https://www.goodreads.com/book/show/196848553-the-house-that-horror-built, Sinopsis: A single mother working in the gothic mansion of a reclusive horror director stumbles upon terrifying secrets.Harry Adams loves horror movies, so it’s no coincidence that she accepted a job cleaning house for horror-movie director Javier Castillo. His forbidding gray-stone Chicago mansion, Bright Horses, is filled from top to bottom with terrifying props and costumes as well as glittering awards from his career making movies that thrilled audiences—until family tragedy and scandal forced him to vanish from the industry.Javier values discretion, and Harry always tries to keep the house immaculate, her head down, and her job safe. Then she hears noises from behind a locked door, noises that sound remarkably like a human voice calling for help. Harry knows not asking questions is a vital part of keeping her job, but she soon discovers that the house may be home to secrets she can’t ignore.\n",
      "Title: The Nice House on the Lake, Vol. 1, Author: James Tynion IV, Link: https://www.goodreads.com/book/show/58502336-the-nice-house-on-the-lake-vol-1, Sinopsis: With Something Is Killing the Children and The Department of Truth, James Tynion IV has changed the face of horror in modern comics—now get ready for his most ambitious story yet, alongside his Detective Comics partner Álvaro Martínez Bueno! Everyone who was invited to the house knows Walter—well, they know him a little, anyway. Some met him in childhood; some met him months ago. And Walter’s always been a little…off. But after the hardest year of their lives, nobody was going to turn down Walter’s invitation to an astonishingly beautiful house in the woods, overlooking an enormous sylvan lake. It’s beautiful, it’s opulent, it’s private—so a week of putting up with Walter’s weird little schemes and nicknames in exchange for the vacation of a lifetime? Why not? All of them were at that moment in their lives when they could feel themselves pulling away from their other friends; wouldn’t a chance to reconnect be…nice? In The Nice House on the Lake, the overriding anxieties of the 21st century get a terrifying new face—and it might just be the face of the person you once trusted most. Collects The Nice House on the Lake #1-6.\n",
      "Title: Voices in the Snow, Author: Darcy Coates, Link: https://www.goodreads.com/book/show/51610977-voices-in-the-snow, Sinopsis: Clare remembers the cold. She remembers abandoned cars and children’s toys littered across the road. She remembers dark shapes in the snow and a terror she can’t explain. And then…nothing.When she wakes, aching and afraid in a stranger’s gothic home, he tells her she was in an accident. He claims he saved her. Clare wants to leave, but a vicious snowstorm has blanketed the world in white, trapping them together, and there’s nothing she can do but wait.At least the stranger seems kind…but Clare doesn’t know if she can trust him. He promised they were alone here, but she sees and hears things that convince her something else is creeping about the surrounding woods, watching. Waiting. Between the claustrophobic storm and the inescapable sense of being hunted, Clare is on edge…and increasingly certain of one thing:Her car crash wasn't an accident. Something is waiting for her to step outside the fragile safety of the house... something monstrous, something unfeeling.Something desperately hungry.\n",
      "Title: In the Dream House, Author: Carmen Maria Machado, Link: https://www.goodreads.com/book/show/43317482-in-the-dream-house, Sinopsis: For years Carmen Maria Machado has struggled to articulate her experiences in an abusive same-sex relationship. In this extraordinarily candid and radically inventive memoir, Machado tackles a dark and difficult subject with wit, inventiveness and an inquiring spirit, as she uses a series of narrative tropes—including classic horror themes—to create an entirely unique piece of work which is destined to become an instant classic.\n",
      "Title: The Silver Eyes, Author: Scott Cawthon, Link: https://www.goodreads.com/book/show/28233096-the-silver-eyes, Sinopsis: Based on the bestselling horror video game series, Five Nights at Freddy’s follows a young woman named Charlotte, who reunites with her childhood friends on the anniversary of the tragedy that ripped their town apart. It’s been exactly ten years since the murders at Freddy Fazbear’s Pizza, and Charlotte, who goes by the name Charlie, has spent the last ten years trying to forget. Her father had owned Freddy Fazbear’s Pizza and had built its four adult-sized animatronic animals. After meeting up with her friends, curiosity leads them back to the old pizza place, and they find it hidden, but still standing. They discover a way inside, but things are not as they used to be: the four mascots that delighted and entertained them as children have changed. The animatronic animals have a dark secret and a murderous agenda.\n",
      "Title: Lockdown, Author: Alexander Gordon Smith, Link: https://www.goodreads.com/book/show/6420846-lockdown, Sinopsis: Furnace Penitentiary: the world’s most secure prison for young offenders, buried a mile beneath the earth’s surface. Convicted of a murder he didn’t commit, sentenced to life without parole, “new fish” Alex Sawyer knows he has two choices: find a way out, or resign himself to a death behind bars, in the darkness at the bottom of the world. Except in Furnace, death is the least of his worries. Soon Alex discovers that the prison is a place of pure evil, where inhuman creatures in gas masks stalk the corridors at night, where giants in black suits drag screaming inmates into the shadows, where deformed beasts can be heard howling from the blood-drenched tunnels below. And behind everything is the mysterious, all-powerful warden, a man as cruel and dangerous as the devil himself, whose unthinkable acts have consequences that stretch far beyond the walls of the prison. Together with a bunch of inmates—some innocent kids who have been framed, others cold-blooded killers—Alex plans an escape. But as he starts to uncover the truth about Furnace’s deeper, darker purpose, Alex’s actions grow ever more dangerous, and he must risk everything to expose this nightmare that’s hidden from the eyes of the world.\n",
      "Title: Demon Seed, Author: Dean Koontz, Link: https://www.goodreads.com/book/show/228204.Demon_Seed, Sinopsis: Susan Harris lived in self-imposed seclusion, in a mansion featuring numerous automated systems controlled by a state-of-the-art computer. Every comfort was provided, and in this often unsafe world of ours, her security was absolute.But now her security system has been breached, her sanctuary from the outside world violated by an insidious artificial intelligence, which has taken control of her house. In the privacy of her own home, and against her will, Susan will experience an inconceivable act of terror. She will become the object of the ultimate computer's consuming obsession: to learn everything there is to know about the flesh...\n",
      "Title: Sleep Tight, Author: J.H. Markert, Link: https://www.goodreads.com/book/show/204294824-sleep-tight, Sinopsis: The sole survivor of a serial killer might hold the key to stopping a new spree of murders in this propulsive thriller in the vein of The Black Phone and The Whisper Man.Dark and twisting at every turn, fans of Catriona Ward will love this chilling new tale from the deviously inventive horror author that Peter Farris calls the “clear heir to Stephen King.”Beware the one who got away . . .Father Silence once terrorized the rural town of Twisted Tree, disguising himself as a priest to prey on the most vulnerable members of society. When the police finally found his “House of Horrors,” they uncovered nineteen bodies and one survivor–a boy now locked away in a hospital for the criminally insane.Nearly two decades later, Father Silence is finally put to death, but by the next morning, the detective who made the original arrest is found dead. A new serial killer is taking credit for the murder and calling himself the Outcast.The detective’s daughter, Tess Claibourne, is a detective herself, haunted by childhood trauma and horrified by the death of her father and the resurgence of Father Silence’s legacy.When Tess’s daughter is kidnapped by the Outcast, Tess is forced to face her worst fears and long-buried memories. With no leads to follow, she travels back to Twisted Tree to visit the boy who survived and see what secrets might be buried in the tangled web of his broken mind.With captivating prose and an old-school horror flair, Sleep Tight is a must-read, haunting tale from a true master of the genre.\n",
      "Title: The Supernatural Enhancements, Author: Edgar Cantero, Link: https://www.goodreads.com/book/show/18782854-the-supernatural-enhancements, Sinopsis: What begins as a clever, gothic ghost story soon evolves into a wickedly twisted treasure hunt in The Supernatural Enhancements, Edgar Cantero's wholly original, modern-day adventure.When twentysomething A., the unexpected European relative of the Wells family, and his companion, Niamh, a mute teenage girl with shockingly dyed hair, inherit the beautiful but eerie estate of Axton House, deep in the woods of Point Bless, Virginia, it comes as a surprise to everyone—including A. himself. After all, he never even knew he had a \"second cousin, twice removed\" in America, much less that the eccentric gentleman had recently committed suicide by jumping out of the third floor bedroom window—at the same age and in the same way as his father had before him . . .Together, A. and Niamh quickly come to feel as if they have inherited much more than just a rambling home and a cushy lifestyle. Axton House is haunted, they know it, but that's just the tip of the iceberg when it comes to the secrets they slowly but surely uncover. Why all the suicides? What became of the Axton House butler who fled shortly after his master died? What lurks in the garden maze and what does the basement vault keep? And what of the rumors in town about a mysterious gathering at Axton House on the night of the winter solstice?Told vividly through a series of journal entries, scrawled notes, recovered security footage, letters to Aunt Liza, audio recordings, complicated ciphers, and even advertisements, Edgar Cantero has written a dazzling and original supernatural adventure featuring classic horror elements with a Neil Gaiman-ish twist.\n",
      "Title: Witchcraft for Wayward Girls, Author: Grady Hendrix, Link: https://www.goodreads.com/book/show/207611566-witchcraft-for-wayward-girls, Sinopsis: There’s power in a book… They call them wayward girls. Loose girls. Girls who grew up too fast. And they’re sent to the Wellwood Home in St. Augustine, Florida, where unwed mothers are hidden by their families to have their babies in secret, give them up for adoption, and most important of all, to forget any of it ever happened. Fifteen-year-old Fern arrives at the home in the sweltering summer of 1970, pregnant, terrified and alone. Under the watchful eye of the stern Miss Wellwood, she meets a dozen other girls in the same predicament. There’s Rose, a hippie who insists she’s going to find a way to keep her baby and escape to a commune. And Zinnia, a budding musician who knows she’s going to go home and marry her baby’s father. And Holly, a wisp of a girl, barely fourteen, mute and pregnant by no-one-knows-who. Everything the girls eat, every moment of their waking day, and everything they’re allowed to talk about is strictly controlled by adults who claim they know what’s best for them. Then Fern meets a librarian who gives her an occult book about witchcraft, and power is in the hands of the girls for the first time in their lives. But power can destroy as easily as it creates, and it’s never given freely. There’s always a price to be paid…and it’s usually paid in blood.In Witchcraft for Wayward Girls, the author of How to Sell a Haunted House and The Final Girl Support Group delivers another searing, completely original novel and further cements his status as a “horror master” (NPR).\n",
      "Title: Something is Killing the Children, Vol. 3, Author: James Tynion IV, Link: https://www.goodreads.com/book/show/55711279-something-is-killing-the-children-vol-3, Sinopsis: As the House of Slaughter arrives to clean up the situation by any means necessary, Erica will find that the true threat to those around her isn’t who - or what - she ever expected. And the cost of saving the day may be too high for anyone to pay...NOT ALL MONSTERS HIDE IN THE DARK.Archer’s Peak is in lockdown, as Erica Slaughter has lost control of the situation and news of the killings has spread outside the town. But as the House of Slaughter arrives to clean up the situation by any means necessary, Erica will find that the true threat to those around her isn’t who - or what - she ever expected. And the cost of saving the day may be too high for anyone to pay...GLAAD Award-winning writer James Tynion IV (Batman, The Woods) and artist Werther Dell’Edera (Briggs Land) present the next chapter of the Eisner Award-nominated and critically-acclaimed series that reveals the monsters hiding in plain sight.Collects Something is Killing The Children #11-15.\n",
      "Title: And Then There Were None, Author: Agatha Christie, Link: https://www.goodreads.com/book/show/16299.And_Then_There_Were_None, Sinopsis: First, there were ten—a curious assortment of strangers summoned as weekend guests to a little private island off the coast of Devon. Their host, an eccentric millionaire unknown to all of them, is nowhere to be found. All that the guests have in common is a wicked past they're unwilling to reveal—and a secret that will seal their fate. For each has been marked for murder. A famous nursery rhyme is framed and hung in every room of the mansion:\"Ten little boys went out to dine; One choked his little self and then there were nine. Nine little boys sat up very late; One overslept himself and then there were eight. Eight little boys traveling in Devon; One said he'd stay there then there were seven. Seven little boys chopping up sticks; One chopped himself in half and then there were six. Six little boys playing with a hive; A bumblebee stung one and then there were five. Five little boys going in for law; One got in Chancery and then there were four. Four little boys going out to sea; A red herring swallowed one and then there were three. Three little boys walking in the zoo; A big bear hugged one and then there were two. Two little boys sitting in the sun; One got frizzled up and then there was one. One little boy left all alone; He went out and hanged himself and then there were none.\"When they realize that murders are occurring as described in the rhyme, terror mounts. One by one they fall prey. Before the weekend is out, there will be none. Who has choreographed this dastardly scheme? And who will be left to tell the tale? Only the dead are above suspicion.\n",
      "Title: The Three, Author: Sarah Lotz, Link: https://www.goodreads.com/book/show/18453110-the-three, Sinopsis: Four simultaneous plane crashes. Three child survivors. A religious fanatic who insists the three are harbingers of the apocalypse. What if he's right?The world is stunned when four commuter planes crash within hours of each other on different continents. Facing global panic, officials are under pressure to find the causes. With terrorist attacks and environmental factors ruled out, there doesn't appear to be a correlation between the crashes, except that in three of the four air disasters a child survivor is found in the wreckage. Dubbed 'The Three' by the international press, the children all exhibit disturbing behavioural problems, presumably caused by the horror they lived through and the unrelenting press attention. This attention becomes more than just intrusive when a rapture cult led by a charismatic evangelical minister insists that the survivors are three of the four harbingers of the apocalypse. The Three are forced to go into hiding, but as the children's behaviour becomes increasingly disturbing, even their guardians begin to question their miraculous survival.\n",
      "Title: Hater, Author: David Moody, Link: https://www.goodreads.com/book/show/6739080-hater, Sinopsis: A modern take on the classic “apocalyptic” novel, Hater tells the story of Danny McCoyne, an everyman forced to contend with a world gone mad, as society is rocked by a sudden increase in violent assaults. Christened “Haters” by the media, the attackers strike without warning and seemingly without reason. Within seconds, normally rational, self-controlled people become frenzied, vicious killers. As the carnage mounts, one thing soon is clear: everyone, irrespective of race, gender, age, or class, has the potential to become either a Hater or a victim. At any moment, even friends and family can turn on one another with violent intent. In the face of this mindless terror, all McCoyne can do is secure his family, seek shelter, and watch as the world falls apart. But when he bolts the front door, the question remains: Is he shutting the danger out or locking it in?\n",
      "Title: The Dark, Author: James Herbert, Link: https://www.goodreads.com/book/show/397861.The_Dark, Sinopsis: It came like a malignant shadow with seductive promises of power. And somewhere in the night... a small girl smiled as her mother burned... Asylum inmates slaughtered their attendants... in slimy tunnels, once-human creatures gathered. Madness raged as the lights began to fade, and humanity was attacked by an ancient, unstoppable evil.\n",
      "Title: Deserter, Author: Junji Ito, Link: https://www.goodreads.com/book/show/57147078-deserter, Sinopsis: AN EVER-INCREASING MALICE. A MIND-NUMBING TERROR. SEE THE SEEDS OF HORROR SOWN IN THIS COLLECTION OF JUNJI ITO’S EARLIEST WORKS.A vengeful family hides an army deserter for eight years after the end of World War II, cocooning him in a false reality where the war never ended. A pair of girls look alike, but they aren’t twins. And a boy’s nightmare threatens to spill out into the real world…This hauntingly strange story collection showcases a dozen of Junji Ito’s earliest works from when he burst onto the horror scene, sowing fresh seeds of terror.\n",
      "Title: Usher's Passing, Author: Robert McCammon, Link: https://www.goodreads.com/book/show/11550.Usher_s_Passing, Sinopsis: In this most gothic of Robert McCammon's novels, setting is key: the continuing saga of the Usher family (descended from the brother of Roderick and Madeline of Edgar Poe's \"Fall of the House of Usher\") takes place in the weird and picturesque heart of the North Carolina mountains. The haughty, aristocratic Ushers live in a mansion near Asheville; the poor but crafty mountain folk (whose families are just as ancient) live on Briartop Mountain nearby. At harvest time, when the book's action unfolds, the mountains are a blaze of color. Add to the mixture a sinister history of mountain kids disappearing every year, a journalist investigating those disappearances, a monster called \"The Pumpkin Man,\" moldy books and paintings in a huge old library at the Usher estate, and a secret chamber with a strange device involving a brass pendulum and tuning forks--and you've got a splendid recipe for atmospheric horror.Originally published: New York: Holt, Rinehart, and Winston, 1984.\n",
      "Title: Lair, Author: James Herbert, Link: https://www.goodreads.com/book/show/397872.Lair, Sinopsis: The mutant white rat had grown and mated, creating offspring in its own image. They dominated the others, the dark-furred ones, who foraged for food and brought it back to the lair. Now the dark rats were restless, and the white slug-like thing that ruled them remembered the taste of human flesh.\n",
      "Title: Let's Go Play at the Adams', Author: Mendal W. Johnson, Link: https://www.goodreads.com/book/show/477801.Let_s_Go_Play_at_the_Adams_, Sinopsis: Surely, it was only a game. In the orderly, pleasant world Barbara inhabited, nice children -- and they were nice children — didn't hold an adult captive.But what Barbara didn't count on was the heady effect their new-found freedom would have on the children. Their wealthy parents were away in Europe, and in this rural area of Maryland, the next house was easily a quarter of a mile away. The power of adults was in their hands, and they were tempted by it. They tasted it and toyed with it -- their only aim was to test its limits. Each child was consumed by his own individual lust and caught up with the others in sadistic manipulation and passion, until finally, step by step, their grim game strips away the layers of childishness to reveal the vicious psyche, conceived in evil and educated in society's sophisticated violence, that lies always within civilized men.More than a terrifying horror story, Let's Go Play at the Adams' is a compelling psychological exercise of brooding insights and deadly implications.\n",
      "Title: The Whispering Skull, Author: Jonathan Stroud, Link: https://www.goodreads.com/book/show/14059024-the-whispering-skull, Sinopsis: In the six months since Anthony, Lucy, and George survived a night in the most haunted house in England, Lockwood & Co. hasn't made much progress. Quill Kipps and his team of Fittes agents keep swooping in on Lockwood's investigations. Finally, in a fit of anger, Anthony challenges his rival to a contest: the next time the two agencies compete on a job, the losing side will have to admit defeat in the Times newspaper.Things look up when a new client, Mr. Saunders, hires Lockwood & Co. to be present at the excavation of Edmund Bickerstaff, a Victorian doctor who reportedly tried to communicate with the dead. Saunders needs the coffin sealed with silver to prevent any supernatural trouble. All goes well-until George's curiosity attracts a horrible phantom. Back home at Portland Row, Lockwood accuses George of making too many careless mistakes. Lucy is distracted by urgent whispers coming from the skull in the ghost jar. Then the team is summoned to DEPRAC headquarters. Kipps is there too, much to Lockwood's annoyance. Bickerstaff's coffin was raided and a strange glass object buried with the corpse has vanished. Inspector Barnes believes the relic to be highly dangerous, and he wants it found.\n",
      "Title: Out, Author: Natsuo Kirino, Link: https://www.goodreads.com/book/show/25365.Out, Sinopsis: Natsuo Kirino's novel tells a story of random violence in the staid Tokyo suburbs, as a young mother who works a night shift making boxed lunches brutally strangles her deadbeat husband and then seeks the help of her co-workers to dispose of the body and cover up her crime.The ringleader of this cover-up, Masako Katori, emerges as the emotional heart of Out and as one of the shrewdest, most clear-eyed creations in recent fiction. Masako's own search for a way out of the straitjacket of a dead-end life leads her, too, to take drastic action.The complex yet riveting narrative seamlessly combines a convincing glimpse into the grimy world of Japan's yakuza with a brilliant portrayal of the psychology of a violent crime and the ensuing game of cat-and-mouse between seasoned detectives and a group of determined but inexperienced criminals. Kirino has mastered a Thelma and Louise kind of graveyard humor that illuminates her stunning evocation of the pressures and prejudices that drive women to extreme deeds and the friendship that bolsters them in the aftermath.\n",
      "Title: Harrow Lake, Author: Kat Ellis, Link: https://www.goodreads.com/book/show/49183687-harrow-lake, Sinopsis: The daughter of a horror film director is not afraid of anything--until she gets to Harrow Lake.Things I know about Harrow Lake: 1.It's where my father shot his most disturbing slasher film.2.There's something not right about this town.Lola Nox is the daughter of a celebrated horror filmmaker--she thinks nothing can scare her.But when her father is brutally attacked in their New York apartment, she's quickly packed off to live with a grandmother she's never met in Harrow Lake, the eerie town where her father's most iconic horror movie was shot. The locals are weirdly obsessed with the film that put their town on the map--and there are strange disappearances, which the police seem determined to explain away.And there's someone--or some thing--stalking her every move.The more Lola discovers about the town, the more terrifying it becomes. Because Lola's got secrets of her own. And if she can't find a way out of Harrow Lake, they might just be the death of her.\n",
      "Title: Daughters Unto Devils, Author: Amy Lukavics, Link: https://www.goodreads.com/book/show/18748653-daughters-unto-devils, Sinopsis: When sixteen-year-old Amanda Verner’s family decides to move from their small mountain cabin to the vast prairie, she hopes it is her chance for a fresh start. She can leave behind the memory of the past winter; of her sickly ma giving birth to a baby sister who cries endlessly; of the terrifying visions she saw as her sanity began to slip, the victim of cabin fever; and most of all, the memories of the boy she has been secretly meeting with as a distraction from her pain. The boy whose baby she now carries. When the Verners arrive at their new home, a large cabin abandoned by its previous owners, they discover the inside covered in blood. And as the days pass, it is obvious to Amanda that something isn’t right on the prairie. She’s heard stories of lands being tainted by evil, of men losing their minds and killing their families, and there is something strange about the doctor and his son who live in the woods on the edge of the prairie. But with the guilt and shame of her sins weighing on her, Amanda can’t be sure if the true evil lies in the land, or deep within her soul.\n",
      "Title: Secret Santa, Author: Andrew Shaffer, Link: https://www.goodreads.com/book/show/53869658-secret-santa, Sinopsis: The Office meets Stephen King, dressed up in holiday tinsel, in this fun, festive, and frightening horror-comedy set during the horror publishing boom of the ’80s, by New York Times best-selling satirist Andrew Shaffer.Out of work for months, Lussi Meyer is desperate to work anywhere in publishing. Prestigious Blackwood-Patterson isn’t the perfect fit, but a bizarre set of circumstances leads to her hire and a firm mandate: Lussi must find the next horror superstar to compete with Stephen King, Anne Rice, and Peter Straub. It’s the ’80s, after all, and horror is the hottest genre.But as soon as she arrives, Lussi finds herself the target of her co-workers' mean-spirited pranks. The hazing reaches its peak during the company’s annual Secret Santa gift exchange, when Lussi receives a demonic-looking object that she recognizes but doesn't understand. Suddenly, her coworkers begin falling victim to a series of horrific accidents akin to a George Romero movie, and Lussi suspects that her gift is involved. With the help of her former author, the flamboyant Fabien Nightingale, Lussi must track down her anonymous Secret Santa and figure out the true meaning of the cursed object in her possession before it destroys the company—and her soul.\n",
      "Title: Dear Laura, Author: Gemma Amor, Link: https://www.goodreads.com/book/show/52102795-dear-laura, Sinopsis: Every year, on her birthday, Laura gets a letter from a stranger. That stranger claims to know the whereabouts of her missing friend Bobby, but there’s a catch: he’ll only tell her what he knows in exchange for something... personal.So begins Laura’s sordid relationship with her new penpal, built on a foundation of quid pro quo. Her quest for closure will push her to bizarre acts of humiliation and harm, yet no matter how hard she tries, she cannot escape her correspondent’s demands. The letters keep coming, and as time passes, they have a profound effect on Laura.From the author of Cruel Works of Nature comes a dark and twisted tale about obsession, guilt, and how far a person will go to put her ghosts to bed.\n",
      "Title: Camp Slaughter, Author: Sergio   Gomez, Link: https://www.goodreads.com/book/show/49770175-camp-slaughter, Sinopsis: It’s a local legend. No one is sure if this “Camp Slaughter” place is real or not. But a group of college kids renting out a cabin deep in the woods of Pennsylvania will soon realize the truth. They’ll realize the danger, too. Or rather, the cannibal out in the woods will bring the danger to them…\n",
      "Title: Haunting Adeline, Author: H.D. Carlton, Link: https://www.goodreads.com/book/show/58763686-haunting-adeline, Sinopsis: The ManipulatorI can manipulate the emotions of anyone who lets me.I will make you hurt, make you cry, make you laugh and sigh.But my words don't affect him. Especially not when I plead for him to leave.He's always there, watching and waiting.And I can never look away.Not when I want him to come closer.The ShadowI didn't mean to fall in love.But now that I have, I can't stay away.I'm mesmerized by her smile, by her eyes, and the way she moves.The way she undresses...I'll keep watching and waiting. Until I can make her mine.And once she is, I'll never let her go.Not even when she begs me to.\n",
      "Title: The Haunting of Blackwood House, Author: Darcy Coates, Link: https://www.goodreads.com/book/show/28870482-the-haunting-of-blackwood-house, Sinopsis: Could you survive a week in a haunted house?\n",
      "Mara is the daughter of spiritualists. Her childhood was filled with seances, scam mediums and talk of ghostly presences.When Mara finally left her family's home, she vowed she would never allow superstition or false religion into her life again. Now she's ready to start over with her fiance, Neil, in a world based on rationality and facts.But her past isn't ready to let her go just yet.Mara and Neil purchase Blackwood House, a derelict property outside of town. They're warned about strange occurrences in the crumbling building. Doors open by themselves, voices whisper in the night, bloody handprints appear on the walls, and cold spots linger in the basement, where the house's original owner was murdered.But Blackwood was dirt-cheap and came with a large plot of overgrown land. Mara loves her new home, and disregards the warnings.Because ghosts aren't real......are they?\n",
      "Title: Tombs: Junji Ito Story Collection, Author: Junji Ito, Link: https://www.goodreads.com/book/show/61317867-tombs, Sinopsis: FRESH NIGHTMARES BROUGHT TO YOU BY HORROR MASTER JUNJI ITO.Countless tombstones stand in rows, forming a bizarre town. What fate awaits a brother and sister after a traffic accident in this town of the dead? In another tale, a girl falls silent, her tongue transformed into a slug. Can a friend save her? Then, when a young man moves to a new town, he finds the house next door has only a single window. What does his grotesque neighbor want, calling out to him every evening from that lone window?\n",
      "Title: We Are All Completely Fine, Author: Daryl Gregory, Link: https://www.goodreads.com/book/show/20344877-we-are-all-completely-fine, Sinopsis: Harrison is the Monster Detective, a storybook hero. Now he’s in his mid-thirties and spends most of his time not sleeping. Stan became a minor celebrity after being partially eaten by cannibals. Barbara is haunted by the messages carved upon her bones. Greta may or may not be a mass-murdering arsonist. And for some reason, Martin never takes off his sunglasses. Unsurprisingly, no one believes their horrific tales until they are sought out by psychotherapist Dr. Jan Sayer. What happens when these likely-insane outcasts join a support group? Together they must discover which monsters they face are within and which are lurking in plain sight.\n",
      "Title: The Walking Dead, Vol. 14: No Way Out, Author: Robert Kirkman, Link: https://www.goodreads.com/book/show/10822174-the-walking-dead-vol-14, Sinopsis: The survivors of Robert Kirkman and Charlie Adlard's Eisner Award-winning post-apocalyptic survival adventure have found relative safety in the confines of the community's walls—or have they? As conflicts continue within, the undead approach from the outside. Everyone is forced to make hard decisions, and this chapter of New York Times Best-Seller The Walking Dead proves again—no one is safe.\n",
      "Title: Blindness, Author: José Saramago, Link: https://www.goodreads.com/book/show/40495148-blindness, Sinopsis: From Nobel Prize–winning author José Saramago, a magnificent, mesmerizing parable of lossA city is hit by an epidemic of \"white blindness\" that spares no one. Authorities confine the blind to an empty mental hospital, but there the criminal element holds everyone captive, stealing food rations, and assaulting women. There is one eyewitness to this nightmare who guides her charges—among them a boy with no mother, a girl with dark glasses, a dog of tears—through the barren streets, and their procession becomes as uncanny as the surroundings are harrowing. As Blindness reclaims the age-old story of a plague, it evokes the vivid and trembling horrors of the twentieth century, leaving readers with a powerful vision of the human spirit that's bound both by weakness and exhilarating strength.\n",
      "Title: The Diary of Ellen Rimbauer: My Life at Rose Red, Author: Joyce Reardon, Link: https://www.goodreads.com/book/show/32703.The_Diary_of_Ellen_Rimbauer, Sinopsis: At the turn of the twentieth century, Ellen Rimbauer became the young bride of Seattle industrialist John Rimbauer, and began keeping a remarkable diary. This diary became the secret place where Ellen could confess her fears of the new marriage, her confusion over her emerging sexuality, and the nightmare that her life would become. The diary not only follows the development of a girl into womanhood, it follows the construction of the Rimbauer mansion—called Rose Red—an enormous home that would be the site of so many horrific and inexplicable tragedies in the years ahead.The Diary of Ellen Rimbauer: My Life at Rose Red is a rare document, one that gives us an unusual view of daily life among the aristocracy in the early 1900s, a window into one woman's hidden emotional torment, and a record of the mysterious events at Rose Red that scandalized Seattle society at the time—events that can only be fully understood now that the diary has come to light. Edited by Joyce Reardon, Ph.D. as part of her research, the diary is being published as preparations are being made by Dr. Reardon to enter Rose Red and fully investigate its disturbing history. (back cover)\n",
      "Title: The Woods Are Dark, Author: Richard Laymon, Link: https://www.goodreads.com/book/show/201646.The_Woods_Are_Dark, Sinopsis: In the woods are six dead trees. The Killing Trees. That's where they take them. Innocent travellers on the road in California. Seized and bound, stripped of their valuables and shackled to the Trees. To wait. In the woods. In the dark...\n",
      "Title: Life Expectancy, Author: Dean Koontz, Link: https://www.goodreads.com/book/show/16435.Life_Expectancy, Sinopsis: In the moments before he is born, Jimmy Tock has a strange destiny thrust upon him. His dying grandfather prophesies five dark days in his grandson's life - five dates on which Jimmy will face terror and violence, malice and perversion. A storm rages. There is a chilling significance in the old man's words. The moment his grandfather dies, Jimmy emerges squalling into the world, destined to struggle against an evil so dark and pervasive, only the most extraordinary of human spirits can shine through.What dangers await Jimmy on these five dark days? What terrifying events must he survive? At each of the crisis points, a mystery unfolds that will challenge his understanding of good and evil, life and death - and everything in between.\n",
      "Title: The Replacement, Author: Brenna Yovanoff, Link: https://www.goodreads.com/book/show/7507908-the-replacement, Sinopsis: Mackie Doyle is not one of us. Though he lives in the small town of Gentry, he comes from a world of tunnels and black murky water, a world of living dead girls ruled by a little tattooed princess. He is a Replacement, left in the crib of a human baby sixteen years ago. Now, because of fatal allergies to iron, blood, and consecrated ground, Mackie is fighting to survive in the human world.Mackie would give anything to live among us, to practice on his bass or spend time with his crush, Tate. But when Tate's baby sister goes missing, Mackie is drawn irrevocably into the underworld of Gentry, known as Mayhem. He must face the dark creatures of the Slag Heaps and find his rightful place, in our world, or theirs.\n",
      "Title: In Bloom, Author: Paul Tremblay, Link: https://www.goodreads.com/book/show/195945770-in-bloom, Sinopsis: There’s something in the water in this hallucinatory short story by Paul Tremblay, bestselling author of The Cabin at the End of the World and The Beast You Are. Journalist Heidi Cohen is in Cape Cod investigating the sources of recurring toxic algae blooms along the coast. A local named Jimmy has his own theory for her. Every year the fetid growth gets worse—but it’s been going on longer than anyone knows. Decades ago, something happened to Jimmy that he’s never forgotten. Is Heidi ready for the real story? Paul Tremblay’s 'In Bloom' is part of Creature Feature, a collection of devilishly creepy stories that tingle the spine and twist the mind. They can be read or listened to in one petrifying sitting.\n",
      "Title: The Hiding Place, Author: C.J. Tudor, Link: https://www.goodreads.com/book/show/40091283-the-hiding-place, Sinopsis: From the acclaimed author of The Chalk Man comes an unputdownable psychological thriller about a man who returns home to settle old scores—and uncovers a secret darker than he could have imagined.   Joe never wanted to come back to Arnhill. After the way things ended with his old gang—the betrayal, the suicide—and what happened when his sister went missing, the last thing he wanted to do was return to his hometown. But Joe doesn’t have a choice, not after a chilling email surfaces in his inbox: I know what happened to your sister. It’s happening again . . .  Lying his way into a teaching job at his former high school is the easy part. Facing off with onetime friends who aren’t too happy to have him back in town—while avoiding the enemies he’s made in the years since—is tougher. But the hardest part of all will be returning to the abandoned mine where his life changed forever, and finally confronting the horrifying truth about Arnhill, his sister, and himself. Because for Joe, the worst moment of his life wasn’t the day his sister went missing.  It was the day she came back.\n",
      "Title: The Resurrectionist: The Lost Work of Dr. Spencer Black, Author: E.B. Hudspeth, Link: https://www.goodreads.com/book/show/15799400-the-resurrectionist, Sinopsis: Philadelphia, the late 1870s. A city of gas lamps, cobblestone streets, and horse-drawn carriages—and home to the controversial surgeon Dr. Spencer Black. The son of a grave robber, young Dr. Black studies at Philadelphia’s esteemed Academy of Medicine, where he develops an unconventional hypothesis: What if the world’s most celebrated mythological beasts—mermaids, minotaurs, and satyrs—were in fact the evolutionary ancestors of humankind?   The Resurrectionist offers two extraordinary books in one. The first is a fictional biography of Dr. Spencer Black, from a childhood spent exhuming corpses through his medical training, his travels with carnivals, and the mysterious disappearance at the end of his life. The second book is Black’s magnum opus: The Codex Extinct Animalia, a Gray’s Anatomy for mythological beasts—dragons, centaurs, Pegasus, Cerberus—all rendered in meticulously detailed anatomical illustrations. You need only look at these images to realize they are the work of a madman. The Resurrectionist tells his story.\n"
     ]
    }
   ],
   "source": [
    "import requests\n",
    "from bs4 import BeautifulSoup\n",
    "import csv\n",
    "import time\n",
    "\n",
    "urls = [\n",
    "    \"https://www.goodreads.com/book/show/2452401.Teatro_Grottesco\",\n",
    "    \"https://www.goodreads.com/book/show/42372424-the-laws-of-the-skies\",\n",
    "    \"https://www.goodreads.com/book/show/20893407-the-lesser-dead\",\n",
    "    \"https://www.goodreads.com/book/show/35356382-the-chalk-man\",\n",
    "    \"https://www.goodreads.com/book/show/51160099-thirteen-storeys\",\n",
    "    \"https://www.goodreads.com/book/show/12341557-the-wind-through-the-keyhole\",\n",
    "    \"https://www.goodreads.com/book/show/472966.The_Vampyre\",\n",
    "    \"https://www.goodreads.com/book/show/6572.Suffer_the_Children\",\n",
    "    \"https://www.goodreads.com/book/show/11806716-blackout\",\n",
    "    \"https://www.goodreads.com/book/show/18667769-the-merciless\",\n",
    "    \"https://www.goodreads.com/book/show/31341.Blood_And_Gold\",\n",
    "    \"https://www.goodreads.com/book/show/30065.The_Walking_Dead_Vol_5\",\n",
    "    \"https://www.goodreads.com/book/show/16057298-north-american-lake-monsters\",\n",
    "    \"https://www.goodreads.com/book/show/45890523-starve-acre\",\n",
    "    \"https://www.goodreads.com/book/show/53329253-echo\",\n",
    "    \"https://www.goodreads.com/book/show/31343.Pandora\",\n",
    "    \"https://www.goodreads.com/book/show/63213.The_Dunwich_Horror_and_Others\",\n",
    "    \"https://www.goodreads.com/book/show/3978.A_Winter_Haunting\",\n",
    "    \"https://www.goodreads.com/book/show/8779896-the-monkey-s-paw\",\n",
    "    \"https://www.goodreads.com/book/show/63264519-dead-of-winter\",\n",
    "    \"https://www.goodreads.com/book/show/239065.The_Descent\",\n",
    "    \"https://www.goodreads.com/book/show/291950.Books_of_Blood_Volume_Two\",\n",
    "    \"https://www.goodreads.com/book/show/10577.Roadwork\",\n",
    "    \"https://www.goodreads.com/book/show/62919399-nineteen-claws-and-a-black-bird\",\n",
    "    \"https://www.goodreads.com/book/show/891472.The_Summer_I_Died\",\n",
    "    \"https://www.goodreads.com/book/show/10577.Roadwork\",\n",
    "    \"https://www.goodreads.com/book/show/202795132-la-riada\",\n",
    "    \"https://www.goodreads.com/book/show/219362.Legion\",\n",
    "    \"https://www.goodreads.com/book/show/145152.The_Cellar\",\n",
    "    \"https://www.goodreads.com/book/show/58371432-the-book-of-cold-cases\",\n",
    "    \"https://www.goodreads.com/book/show/6465707-the-walking-dead\",\n",
    "    \"https://www.goodreads.com/book/show/8051458-the-reapers-are-the-angels\",\n",
    "    \"https://www.goodreads.com/book/show/49081449-venus-in-the-blind-spot\",\n",
    "    \"https://www.goodreads.com/book/show/911954.The_Imago_Sequence_and_Other_Stories\",\n",
    "    \"https://www.goodreads.com/book/show/59093587-patricia-wants-to-cuddle\",\n",
    "    \"https://www.goodreads.com/book/show/38922230-ghost-wall\",\n",
    "    \"https://www.goodreads.com/book/show/693172.Twilight_Eyes\",\n",
    "    \"https://www.goodreads.com/book/show/24040551-the-night-sister\",\n",
    "    \"https://www.goodreads.com/book/show/31776292-frankenstein\",\n",
    "    \"https://www.goodreads.com/book/show/32828538-lost-boy\",\n",
    "    \"https://www.goodreads.com/book/show/23308488-chilling-adventures-of-sabrina-vol-1\",\n",
    "    \"https://www.goodreads.com/book/show/308540.The_Haunted_Mask\",\n",
    "    \"https://www.goodreads.com/book/show/1137702.The_Wendigo\",\n",
    "    \"https://www.goodreads.com/book/show/39325105-harrow-the-ninth\",\n",
    "    \"https://www.goodreads.com/book/show/125542.Stay_Out_of_the_Basement\",\n",
    "    \"https://www.goodreads.com/book/show/10618.Apt_Pupil\",\n",
    "    \"https://www.goodreads.com/book/show/64948.Whispers\",\n",
    "    \"https://www.goodreads.com/book/show/13030260-the-devil-in-silver\",\n",
    "    \"https://www.goodreads.com/book/show/33574090-what-the-hell-did-i-just-read\",\n",
    "    \"https://www.goodreads.com/book/show/46041168-hurricane-season\",\n",
    "    \"https://www.goodreads.com/book/show/38458438-the-houseguest-and-other-stories\",\n",
    "    \"https://www.goodreads.com/book/show/13542949-your-house-is-on-fire-your-children-all-gone\",\n",
    "    \"https://www.goodreads.com/book/show/10129880-the-colour-out-of-space\",\n",
    "    \"https://www.goodreads.com/book/show/45685.The_Canterville_Ghost\",\n",
    "    \"https://www.goodreads.com/book/show/60708721-it-came-from-the-closet\",\n",
    "    \"https://www.goodreads.com/book/show/10511555-dracula-s-guest\",\n",
    "    \"https://www.goodreads.com/book/show/21570066-bones-all\",\n",
    "    \"https://www.goodreads.com/book/show/8957.Tunnels_of_Blood\",\n",
    "    \"https://www.goodreads.com/book/show/196848553-the-house-that-horror-built\",\n",
    "    \"https://www.goodreads.com/book/show/58502336-the-nice-house-on-the-lake-vol-1\",\n",
    "    \"https://www.goodreads.com/book/show/51610977-voices-in-the-snow\",\n",
    "    \"https://www.goodreads.com/book/show/43317482-in-the-dream-house\",\n",
    "    \"https://www.goodreads.com/book/show/28233096-the-silver-eyes\",\n",
    "    \"https://www.goodreads.com/book/show/6420846-lockdown\",\n",
    "    \"https://www.goodreads.com/book/show/228204.Demon_Seed\",\n",
    "    \"https://www.goodreads.com/book/show/204294824-sleep-tight\",\n",
    "    \"https://www.goodreads.com/book/show/18782854-the-supernatural-enhancements\",\n",
    "    \"https://www.goodreads.com/book/show/207611566-witchcraft-for-wayward-girls\",\n",
    "    \"https://www.goodreads.com/book/show/55711279-something-is-killing-the-children-vol-3\",\n",
    "    \"https://www.goodreads.com/book/show/16299.And_Then_There_Were_None\",\n",
    "    \"https://www.goodreads.com/book/show/18453110-the-three\",\n",
    "    \"https://www.goodreads.com/book/show/6739080-hater\",\n",
    "    \"https://www.goodreads.com/book/show/397861.The_Dark\",\n",
    "    \"https://www.goodreads.com/book/show/57147078-deserter\",\n",
    "    \"https://www.goodreads.com/book/show/11550.Usher_s_Passing\",\n",
    "    \"https://www.goodreads.com/book/show/397872.Lair\",\n",
    "    \"https://www.goodreads.com/book/show/477801.Let_s_Go_Play_at_the_Adams_\",\n",
    "    \"https://www.goodreads.com/book/show/14059024-the-whispering-skull\",\n",
    "    \"https://www.goodreads.com/book/show/25365.Out\",\n",
    "    \"https://www.goodreads.com/book/show/49183687-harrow-lake\",\n",
    "    \"https://www.goodreads.com/book/show/18748653-daughters-unto-devils\",\n",
    "    \"https://www.goodreads.com/book/show/53869658-secret-santa\",\n",
    "    \"https://www.goodreads.com/book/show/52102795-dear-laura\",\n",
    "    \"https://www.goodreads.com/book/show/49770175-camp-slaughter\",\n",
    "    \"https://www.goodreads.com/book/show/58763686-haunting-adeline\",\n",
    "    \"https://www.goodreads.com/book/show/28870482-the-haunting-of-blackwood-house\",\n",
    "    \"https://www.goodreads.com/book/show/61317867-tombs\",\n",
    "    \"https://www.goodreads.com/book/show/20344877-we-are-all-completely-fine\",\n",
    "    \"https://www.goodreads.com/book/show/10822174-the-walking-dead-vol-14\",\n",
    "    \"https://www.goodreads.com/book/show/40495148-blindness\",\n",
    "    \"https://www.goodreads.com/book/show/32703.The_Diary_of_Ellen_Rimbauer\",\n",
    "    \"https://www.goodreads.com/book/show/201646.The_Woods_Are_Dark\",\n",
    "    \"https://www.goodreads.com/book/show/16435.Life_Expectancy\",\n",
    "    \"https://www.goodreads.com/book/show/7507908-the-replacement\",\n",
    "    \"https://www.goodreads.com/book/show/195945770-in-bloom\",\n",
    "    \"https://www.goodreads.com/book/show/40091283-the-hiding-place\",\n",
    "    \"https://www.goodreads.com/book/show/15799400-the-resurrectionist\"\n",
    "\n",
    "]\n",
    "\n",
    "with open('goodreads_books4.csv', mode='w', newline='', encoding='utf-8') as file:\n",
    "    writer = csv.writer(file)\n",
    "    writer.writerow([\"Title\", \"Author\", \"Link\", \"Sinopsis\"])\n",
    "\n",
    "    for url in urls:\n",
    "        response = requests.get(url)\n",
    "        soup = BeautifulSoup(response.content, 'html.parser')\n",
    "\n",
    "        title_tag = soup.find('h1', class_='Text Text__title1', attrs={'data-testid': 'bookTitle'})\n",
    "        title = title_tag.text.strip() if title_tag else \"Title not found\"\n",
    "\n",
    "        author_tag = soup.find('span', class_='ContributorLink__name', attrs={'data-testid': 'name'})\n",
    "        author = author_tag.text.strip() if author_tag else \"Author not found\"\n",
    "\n",
    "        sinopsis_tag = soup.find('span', class_='Formatted')\n",
    "        sinopsis = sinopsis_tag.text.strip() if sinopsis_tag else \"Sinopsis not found\"\n",
    "\n",
    "        writer.writerow([title, author, url, sinopsis])\n",
    "        print(f\"Title: {title}, Author: {author}, Link: {url}, Sinopsis: {sinopsis}\")\n",
    "\n",
    "        time.sleep(1)"
   ]
  },
  {
   "cell_type": "markdown",
   "metadata": {
    "id": "XKwEP8TmQVzA"
   },
   "source": [
    "**DATA CLEANING DATASET GENRE ROMANTIS**"
   ]
  },
  {
   "cell_type": "code",
   "execution_count": 6,
   "metadata": {
    "colab": {
     "base_uri": "https://localhost:8080/"
    },
    "id": "c5b-gnwBjNBN",
    "outputId": "01d880a3-0b58-4747-8b18-2ff35f964f62"
   },
   "outputs": [
    {
     "name": "stdout",
     "output_type": "stream",
     "text": [
      "Terjadi kesalahan: [Errno 2] No such file or directory: '/content/romance_clean.csv'\n"
     ]
    }
   ],
   "source": [
    "import pandas as pd\n",
    "import re\n",
    "\n",
    "def bersihkan_teks(teks):\n",
    "    teks_bersih = re.sub(r'[^a-zA-Z0-9\\s.,!?()-]', '', str(teks))\n",
    "    teks_bersih = ' '.join(teks_bersih.split())\n",
    "    return teks_bersih\n",
    "\n",
    "try:\n",
    "    df = pd.read_csv(\n",
    "        \"/content/romance_clean.csv\",\n",
    "        sep=';',\n",
    "        quotechar='\"',\n",
    "        escapechar='\\\\',\n",
    "        on_bad_lines='skip',\n",
    "        engine='python'\n",
    "    )\n",
    "\n",
    "    print(\"Nama kolom dalam dataset:\")\n",
    "    print(df.columns.tolist())\n",
    "\n",
    "    if len(df.columns) == 1:\n",
    "        df = pd.read_csv(\n",
    "            \"/content/romance_clean.csv\",\n",
    "            sep=',',\n",
    "            quotechar='\"',\n",
    "            escapechar='\\\\',\n",
    "            on_bad_lines='skip',\n",
    "            engine='python',\n",
    "            header=None\n",
    "        )\n",
    "        df.columns = ['Title', 'Author', 'Link', 'Sinopsis', 'Genre']\n",
    "\n",
    "    df_awal = df.copy()\n",
    "    jumlah_awal = len(df)\n",
    "    print(f\"\\nJumlah baris awal: {jumlah_awal}\")\n",
    "\n",
    "    df = df[df['Sinopsis'].notna()]\n",
    "    df = df[df['Sinopsis'].str.strip() != '']\n",
    "    df = df[df['Genre'] != 'Genre not found']\n",
    "    df['Sinopsis'] = df['Sinopsis'].apply(bersihkan_teks)\n",
    "    df = df.drop_duplicates(subset='Sinopsis', keep='first')\n",
    "    data_dihapus = df_awal[~df_awal.index.isin(df.index)]\n",
    "    jumlah_akhir = len(df)\n",
    "    jumlah_dihapus = jumlah_awal - jumlah_akhir\n",
    "\n",
    "    print(f\"\\nJumlah baris yang dihapus: {jumlah_dihapus}\")\n",
    "    print(f\"Jumlah baris yang tersisa: {jumlah_akhir}\")\n",
    "    print(\"\\nSampel data yang dihapus:\")\n",
    "    print(data_dihapus.head())\n",
    "    df.to_csv(\"romancee_clean.csv\", index=False, sep=',')\n",
    "    print(\"\\nData yang telah dibersihkan disimpan ke 'romancee_clean.csv'\")\n",
    "\n",
    "except Exception as e:\n",
    "    print(f\"Terjadi kesalahan: {str(e)}\")\n"
   ]
  },
  {
   "cell_type": "markdown",
   "metadata": {
    "id": "zkmxptyYQk1H"
   },
   "source": [
    "**DATA CLEANING DATASET GENRE FIKSI**"
   ]
  },
  {
   "cell_type": "code",
   "execution_count": 7,
   "metadata": {
    "colab": {
     "base_uri": "https://localhost:8080/"
    },
    "id": "_sPg4PeEk-Wf",
    "outputId": "2f805ea1-ac98-40bd-c5a7-a3f125b9a9a4"
   },
   "outputs": [
    {
     "name": "stdout",
     "output_type": "stream",
     "text": [
      "Terjadi kesalahan: [Errno 2] No such file or directory: '/content/fiction_clean.csv'\n"
     ]
    }
   ],
   "source": [
    "import pandas as pd\n",
    "import re\n",
    "\n",
    "def bersihkan_teks(teks):\n",
    "    teks_bersih = re.sub(r'[^a-zA-Z0-9\\s.,!?()-]', '', str(teks))\n",
    "    teks_bersih = ' '.join(teks_bersih.split())\n",
    "    return teks_bersih\n",
    "\n",
    "try:\n",
    "    df = pd.read_csv(\n",
    "        \"/content/fiction_clean.csv\",\n",
    "        sep=';',\n",
    "        quotechar='\"',\n",
    "        escapechar='\\\\',\n",
    "        on_bad_lines='skip',\n",
    "        engine='python'\n",
    "    )\n",
    "\n",
    "    print(\"Nama kolom dalam dataset:\")\n",
    "    print(df.columns.tolist())\n",
    "\n",
    "    if len(df.columns) == 1:\n",
    "        df = pd.read_csv(\n",
    "            \"/content/fiction_clean.csv\",\n",
    "            sep=',',\n",
    "            quotechar='\"',\n",
    "            escapechar='\\\\',\n",
    "            on_bad_lines='skip',\n",
    "            engine='python',\n",
    "            header=None\n",
    "        )\n",
    "        df.columns = ['Title', 'Author', 'Link', 'Sinopsis', 'Genre']\n",
    "\n",
    "    df_awal = df.copy()\n",
    "    jumlah_awal = len(df)\n",
    "    print(f\"\\nJumlah baris awal: {jumlah_awal}\")\n",
    "\n",
    "    df = df[df['Sinopsis'].notna()]\n",
    "    df = df[df['Sinopsis'].str.strip() != '']\n",
    "    df = df[df['Genre'] != 'Genre not found']\n",
    "    df['Sinopsis'] = df['Sinopsis'].apply(bersihkan_teks)\n",
    "    df = df.drop_duplicates(subset='Sinopsis', keep='first')\n",
    "    data_dihapus = df_awal[~df_awal.index.isin(df.index)]\n",
    "    jumlah_akhir = len(df)\n",
    "    jumlah_dihapus = jumlah_awal - jumlah_akhir\n",
    "\n",
    "    print(f\"\\nJumlah baris yang dihapus: {jumlah_dihapus}\")\n",
    "    print(f\"Jumlah baris yang tersisa: {jumlah_akhir}\")\n",
    "    print(\"\\nSampel data yang dihapus:\")\n",
    "    print(data_dihapus.head())\n",
    "    df.to_csv(\"fictionn_clean.csv\", index=False, sep=',')\n",
    "    print(\"\\nData yang telah dibersihkan disimpan ke 'fictionn_clean.csv'\")\n",
    "\n",
    "except Exception as e:\n",
    "    print(f\"Terjadi kesalahan: {str(e)}\")\n"
   ]
  },
  {
   "cell_type": "markdown",
   "metadata": {
    "id": "Qlylk82AQnkv"
   },
   "source": [
    "**DATA CLEANING DATASET GENRE POLITIK**"
   ]
  },
  {
   "cell_type": "code",
   "execution_count": 8,
   "metadata": {
    "colab": {
     "base_uri": "https://localhost:8080/"
    },
    "id": "7a4vObhjlocK",
    "outputId": "5d712519-460a-4d1e-9b5a-a635fc290074"
   },
   "outputs": [
    {
     "name": "stdout",
     "output_type": "stream",
     "text": [
      "Terjadi kesalahan: [Errno 2] No such file or directory: '/content/political_clean.csv'\n"
     ]
    }
   ],
   "source": [
    "import pandas as pd\n",
    "import re\n",
    "\n",
    "def bersihkan_teks(teks):\n",
    "    teks_bersih = re.sub(r'[^a-zA-Z0-9\\s.,!?()-]', '', str(teks))\n",
    "    teks_bersih = ' '.join(teks_bersih.split())\n",
    "    return teks_bersih\n",
    "\n",
    "try:\n",
    "    df = pd.read_csv(\n",
    "        \"/content/political_clean.csv\",\n",
    "        sep=';',\n",
    "        quotechar='\"',\n",
    "        escapechar='\\\\',\n",
    "        on_bad_lines='skip',\n",
    "        engine='python'\n",
    "    )\n",
    "\n",
    "    if len(df.columns) == 1:\n",
    "        df = pd.read_csv(\n",
    "            \"/content/political_clean.csv\",\n",
    "            sep=',',\n",
    "            quotechar='\"',\n",
    "            escapechar='\\\\',\n",
    "            on_bad_lines='skip',\n",
    "            engine='python',\n",
    "            header=None\n",
    "        )\n",
    "        df.columns = ['Title', 'Author', 'Link', 'Sinopsis', 'Genre']\n",
    "\n",
    "    df_awal = df.copy()\n",
    "\n",
    "    jumlah_awal = len(df)\n",
    "\n",
    "    df = df[df['Sinopsis'].notna()]\n",
    "    df = df[df['Sinopsis'].str.strip() != '']\n",
    "    df = df[df['Genre'] != 'Genre not found']\n",
    "    df['Sinopsis'] = df['Sinopsis'].apply(bersihkan_teks)\n",
    "    df = df.drop_duplicates(subset='Sinopsis', keep='first')\n",
    "\n",
    "    data_dihapus = df_awal[~df_awal.index.isin(df.index)]\n",
    "\n",
    "    jumlah_akhir = len(df)\n",
    "    jumlah_dihapus = jumlah_awal - jumlah_akhir\n",
    "\n",
    "    print(f\"Jumlah baris yang dihapus: {jumlah_dihapus}\")\n",
    "    print(f\"Jumlah baris yang tersisa: {jumlah_akhir}\")\n",
    "    print(\"Sampel data yang dihapus:\")\n",
    "    print(data_dihapus.head())\n",
    "\n",
    "    df.to_csv(\"politicall_clean.csv\", index=False, sep=',')\n",
    "\n",
    "except Exception as e:\n",
    "    print(f\"Terjadi kesalahan: {str(e)}\")\n"
   ]
  },
  {
   "cell_type": "markdown",
   "metadata": {
    "id": "a8cDatvYQsbc"
   },
   "source": [
    "**DATA CLEANING DATASET GENRE NON FIKSI**"
   ]
  },
  {
   "cell_type": "code",
   "execution_count": 9,
   "metadata": {
    "colab": {
     "base_uri": "https://localhost:8080/"
    },
    "id": "0mQERsVml8rS",
    "outputId": "3bc0a99d-c7ed-468a-caaa-0d6a8a3aebf0"
   },
   "outputs": [
    {
     "name": "stdout",
     "output_type": "stream",
     "text": [
      "Terjadi kesalahan: [Errno 2] No such file or directory: '/content/nonfiction_clean.csv'\n"
     ]
    }
   ],
   "source": [
    "import pandas as pd\n",
    "import re\n",
    "\n",
    "def bersihkan_teks(teks):\n",
    "    teks_bersih = re.sub(r'[^a-zA-Z0-9\\s.,!?()-]', '', str(teks))\n",
    "    teks_bersih = ' '.join(teks_bersih.split())\n",
    "    return teks_bersih\n",
    "\n",
    "try:\n",
    "    df = pd.read_csv(\n",
    "        \"/content/nonfiction_clean.csv\",\n",
    "        sep=';',\n",
    "        quotechar='\"',\n",
    "        escapechar='\\\\',\n",
    "        on_bad_lines='skip',\n",
    "        engine='python'\n",
    "    )\n",
    "\n",
    "    if len(df.columns) == 1:\n",
    "        df = pd.read_csv(\n",
    "            \"/content/nonfiction_clean.csv\",\n",
    "            sep=',',\n",
    "            quotechar='\"',\n",
    "            escapechar='\\\\',\n",
    "            on_bad_lines='skip',\n",
    "            engine='python',\n",
    "            header=None\n",
    "        )\n",
    "        df.columns = ['Title', 'Author', 'Link', 'Sinopsis', 'Genre']\n",
    "\n",
    "    df_awal = df.copy()\n",
    "\n",
    "    jumlah_awal = len(df)\n",
    "\n",
    "    df = df[df['Sinopsis'].notna()]\n",
    "    df = df[df['Sinopsis'].str.strip() != '']\n",
    "    df = df[df['Genre'] != 'Genre not found']\n",
    "    df['Sinopsis'] = df['Sinopsis'].apply(bersihkan_teks)\n",
    "    df = df.drop_duplicates(subset='Sinopsis', keep='first')\n",
    "\n",
    "    data_dihapus = df_awal[~df_awal.index.isin(df.index)]\n",
    "\n",
    "    jumlah_akhir = len(df)\n",
    "    jumlah_dihapus = jumlah_awal - jumlah_akhir\n",
    "\n",
    "    print(f\"Jumlah baris yang dihapus: {jumlah_dihapus}\")\n",
    "    print(f\"Jumlah baris yang tersisa: {jumlah_akhir}\")\n",
    "    print(\"Sampel data yang dihapus:\")\n",
    "    print(data_dihapus.head())\n",
    "\n",
    "    df.to_csv(\"nonfictionn_clean.csv\", index=False, sep=',')\n",
    "\n",
    "    print(\"Data yang telah dibersihkan disimpan ke 'nonfictionn_clean.csv'\")\n",
    "\n",
    "except Exception as e:\n",
    "    print(f\"Terjadi kesalahan: {str(e)}\")\n"
   ]
  },
  {
   "cell_type": "markdown",
   "metadata": {
    "id": "6k6f0P0oQvRR"
   },
   "source": [
    "**DATA CLEANING DATASET GENRE RELIGI**"
   ]
  },
  {
   "cell_type": "code",
   "execution_count": 10,
   "metadata": {
    "colab": {
     "base_uri": "https://localhost:8080/"
    },
    "id": "4yzGKO2Emcub",
    "outputId": "7963121c-8481-43c8-9481-c4a10f6cb4b6"
   },
   "outputs": [
    {
     "name": "stdout",
     "output_type": "stream",
     "text": [
      "Terjadi kesalahan: [Errno 2] No such file or directory: '/content/religi_clean.csv'\n"
     ]
    }
   ],
   "source": [
    "import pandas as pd\n",
    "import re\n",
    "\n",
    "def bersihkan_teks(teks):\n",
    "    teks_bersih = re.sub(r'[^a-zA-Z0-9\\s.,!?()-]', '', str(teks))\n",
    "    teks_bersih = ' '.join(teks_bersih.split())\n",
    "    return teks_bersih\n",
    "\n",
    "try:\n",
    "    df = pd.read_csv(\n",
    "        \"/content/religi_clean.csv\",\n",
    "        sep=';',\n",
    "        quotechar='\"',\n",
    "        escapechar='\\\\',\n",
    "        on_bad_lines='skip',\n",
    "        engine='python'\n",
    "    )\n",
    "\n",
    "    if len(df.columns) == 1:\n",
    "        df = pd.read_csv(\n",
    "            \"/content/religi_clean.csv\",\n",
    "            sep=',',\n",
    "            quotechar='\"',\n",
    "            escapechar='\\\\',\n",
    "            on_bad_lines='skip',\n",
    "            engine='python',\n",
    "            header=None\n",
    "        )\n",
    "        df.columns = ['Title', 'Author', 'Link', 'Sinopsis', 'Genre']\n",
    "\n",
    "    df_awal = df.copy()\n",
    "    jumlah_awal = len(df)\n",
    "\n",
    "    df = df[df['Sinopsis'].notna()]\n",
    "    df = df[df['Sinopsis'].str.strip() != '']\n",
    "    df = df[df['Genre'] != 'Genre not found']\n",
    "    df['Sinopsis'] = df['Sinopsis'].apply(bersihkan_teks)\n",
    "    df = df.drop_duplicates(subset='Sinopsis', keep='first')\n",
    "\n",
    "    data_dihapus = df_awal[~df_awal.index.isin(df.index)]\n",
    "    jumlah_akhir = len(df)\n",
    "    jumlah_dihapus = jumlah_awal - jumlah_akhir\n",
    "\n",
    "    print(f\"Jumlah baris yang dihapus: {jumlah_dihapus}\")\n",
    "    print(f\"Jumlah baris yang tersisa: {jumlah_akhir}\")\n",
    "    print(\"Sampel data yang dihapus:\")\n",
    "    print(data_dihapus.head())\n",
    "\n",
    "    df.to_csv(\"religionn_clean.csv\", index=False, sep=',')\n",
    "\n",
    "    print(\"Data yang telah dibersihkan disimpan ke 'religionn_clean.csv'\")\n",
    "\n",
    "except Exception as e:\n",
    "    print(f\"Terjadi kesalahan: {str(e)}\")\n"
   ]
  },
  {
   "cell_type": "markdown",
   "metadata": {
    "id": "2-Md_s5_Qykk"
   },
   "source": [
    "**DATA CLEANING (6 GENRE DIJADIKAN 1 DATASET) (Remove NaN, Genre not found, Sinopsis duplikat, Sinopsis not in english)**\n"
   ]
  },
  {
   "cell_type": "code",
   "execution_count": 11,
   "metadata": {
    "colab": {
     "base_uri": "https://localhost:8080/"
    },
    "id": "LXa46pzNekXQ",
    "outputId": "6c6ebfb5-46ee-4b6f-a6ce-8d5e6922a618"
   },
   "outputs": [
    {
     "name": "stdout",
     "output_type": "stream",
     "text": [
      "Terjadi kesalahan: [Errno 2] No such file or directory: '/content/data full power.csv'\n"
     ]
    }
   ],
   "source": [
    "import pandas as pd\n",
    "import re\n",
    "\n",
    "def bersihkan_teks(teks):\n",
    "    teks_bersih = re.sub(r'[^a-zA-Z0-9\\s.,!?()-]', '', str(teks))\n",
    "    teks_bersih = ' '.join(teks_bersih.split())\n",
    "    return teks_bersih\n",
    "\n",
    "try:\n",
    "    df = pd.read_csv(\n",
    "        \"/content/data full power.csv\",\n",
    "        sep=';',\n",
    "        quotechar='\"',\n",
    "        escapechar='\\\\',\n",
    "        on_bad_lines='skip',\n",
    "        engine='python'\n",
    "    )\n",
    "\n",
    "    print(\"Nama kolom dalam dataset:\")\n",
    "    print(df.columns.tolist())\n",
    "\n",
    "    if len(df.columns) == 1:\n",
    "        df = pd.read_csv(\n",
    "            \"/content/data full power.csv\",\n",
    "            sep=',',\n",
    "            quotechar='\"',\n",
    "            escapechar='\\\\',\n",
    "            on_bad_lines='skip',\n",
    "            engine='python',\n",
    "            header=None\n",
    "        )\n",
    "        df.columns = ['Title', 'Author', 'Link', 'Sinopsis', 'Genre']\n",
    "\n",
    "    df_awal = df.copy()\n",
    "    data_nan = df[df['Sinopsis'].isna() | df['Sinopsis'].str.strip().eq('')]\n",
    "    df = df.drop(data_nan.index)\n",
    "    data_genre_not_found = df[df['Genre'] == 'Genre not found']\n",
    "    df = df.drop(data_genre_not_found.index)\n",
    "    df['Sinopsis'] = df['Sinopsis'].apply(bersihkan_teks)\n",
    "    data_duplikat = df[df.duplicated(subset='Sinopsis', keep='first')]\n",
    "    df = df.drop(data_duplikat.index)\n",
    "    jumlah_awal = len(df_awal)\n",
    "    jumlah_akhir = len(df)\n",
    "    jumlah_dihapus = jumlah_awal - jumlah_akhir\n",
    "\n",
    "    print(f\"\\nJumlah baris awal: {jumlah_awal}\")\n",
    "    print(f\"Jumlah baris akhir: {jumlah_akhir}\")\n",
    "    print(f\"Jumlah baris yang dihapus: {jumlah_dihapus}\")\n",
    "\n",
    "    print(\"\\nData yang dihapus karena NaN atau kosong:\")\n",
    "    print(data_nan.head())\n",
    "    print(\"\\nData yang dihapus karena genre 'Genre not found':\")\n",
    "    print(data_genre_not_found.head())\n",
    "    print(\"\\nData yang dihapus karena duplikat:\")\n",
    "    print(data_duplikat.head())\n",
    "\n",
    "    if not data_nan.empty:\n",
    "        data_nan.to_csv(\"data_dihapus_nan.csv\", index=False, sep=',')\n",
    "    if not data_genre_not_found.empty:\n",
    "        data_genre_not_found.to_csv(\"data_dihapus_genre_not_found.csv\", index=False, sep=',')\n",
    "    if not data_duplikat.empty:\n",
    "        data_duplikat.to_csv(\"data_dihapus_duplikat.csv\", index=False, sep=',')\n",
    "    df.to_csv(\"DATA FULL.csv\", index=False, sep=',')\n",
    "    print(\"\\nData yang telah dibersihkan disimpan ke 'DATA FULL.csv'\")\n",
    "\n",
    "except Exception as e:\n",
    "    print(f\"Terjadi kesalahan: {str(e)}\")\n"
   ]
  },
  {
   "cell_type": "code",
   "execution_count": 12,
   "metadata": {
    "colab": {
     "base_uri": "https://localhost:8080/"
    },
    "id": "Y1lvO80-L_vK",
    "outputId": "79f07e68-f1a1-492c-d53e-3cf7e8005af1"
   },
   "outputs": [
    {
     "name": "stdout",
     "output_type": "stream",
     "text": [
      "Error membaca file: [Errno 2] No such file or directory: 'DATA FULL (gabungan 6 genre).csv'\n",
      "Mencoba metode alternatif...\n"
     ]
    },
    {
     "ename": "FileNotFoundError",
     "evalue": "[Errno 2] No such file or directory: 'DATA FULL (gabungan 6 genre).csv'",
     "output_type": "error",
     "traceback": [
      "\u001b[1;31m---------------------------------------------------------------------------\u001b[0m",
      "\u001b[1;31mFileNotFoundError\u001b[0m                         Traceback (most recent call last)",
      "Cell \u001b[1;32mIn[12], line 5\u001b[0m\n\u001b[0;32m      4\u001b[0m \u001b[38;5;28;01mtry\u001b[39;00m:\n\u001b[1;32m----> 5\u001b[0m     df \u001b[38;5;241m=\u001b[39m \u001b[43mpd\u001b[49m\u001b[38;5;241;43m.\u001b[39;49m\u001b[43mread_csv\u001b[49m\u001b[43m(\u001b[49m\u001b[38;5;124;43m'\u001b[39;49m\u001b[38;5;124;43mDATA FULL (gabungan 6 genre).csv\u001b[39;49m\u001b[38;5;124;43m'\u001b[39;49m\u001b[43m,\u001b[49m\u001b[43m \u001b[49m\u001b[43mencoding\u001b[49m\u001b[38;5;241;43m=\u001b[39;49m\u001b[38;5;124;43m'\u001b[39;49m\u001b[38;5;124;43mutf-8\u001b[39;49m\u001b[38;5;124;43m'\u001b[39;49m\u001b[43m,\u001b[49m\u001b[43m \u001b[49m\u001b[43mengine\u001b[49m\u001b[38;5;241;43m=\u001b[39;49m\u001b[38;5;124;43m'\u001b[39;49m\u001b[38;5;124;43mpython\u001b[39;49m\u001b[38;5;124;43m'\u001b[39;49m\u001b[43m,\u001b[49m\u001b[43m \u001b[49m\u001b[43msep\u001b[49m\u001b[38;5;241;43m=\u001b[39;49m\u001b[38;5;28;43;01mNone\u001b[39;49;00m\u001b[43m,\u001b[49m\u001b[43m \u001b[49m\u001b[43mon_bad_lines\u001b[49m\u001b[38;5;241;43m=\u001b[39;49m\u001b[38;5;124;43m'\u001b[39;49m\u001b[38;5;124;43mskip\u001b[39;49m\u001b[38;5;124;43m'\u001b[39;49m\u001b[43m)\u001b[49m\n\u001b[0;32m      6\u001b[0m \u001b[38;5;28;01mexcept\u001b[39;00m \u001b[38;5;167;01mException\u001b[39;00m \u001b[38;5;28;01mas\u001b[39;00m e:\n",
      "File \u001b[1;32mc:\\Users\\rizki\\AppData\\Local\\Programs\\Python\\Python312\\Lib\\site-packages\\pandas\\io\\parsers\\readers.py:1026\u001b[0m, in \u001b[0;36mread_csv\u001b[1;34m(filepath_or_buffer, sep, delimiter, header, names, index_col, usecols, dtype, engine, converters, true_values, false_values, skipinitialspace, skiprows, skipfooter, nrows, na_values, keep_default_na, na_filter, verbose, skip_blank_lines, parse_dates, infer_datetime_format, keep_date_col, date_parser, date_format, dayfirst, cache_dates, iterator, chunksize, compression, thousands, decimal, lineterminator, quotechar, quoting, doublequote, escapechar, comment, encoding, encoding_errors, dialect, on_bad_lines, delim_whitespace, low_memory, memory_map, float_precision, storage_options, dtype_backend)\u001b[0m\n\u001b[0;32m   1024\u001b[0m kwds\u001b[38;5;241m.\u001b[39mupdate(kwds_defaults)\n\u001b[1;32m-> 1026\u001b[0m \u001b[38;5;28;01mreturn\u001b[39;00m \u001b[43m_read\u001b[49m\u001b[43m(\u001b[49m\u001b[43mfilepath_or_buffer\u001b[49m\u001b[43m,\u001b[49m\u001b[43m \u001b[49m\u001b[43mkwds\u001b[49m\u001b[43m)\u001b[49m\n",
      "File \u001b[1;32mc:\\Users\\rizki\\AppData\\Local\\Programs\\Python\\Python312\\Lib\\site-packages\\pandas\\io\\parsers\\readers.py:620\u001b[0m, in \u001b[0;36m_read\u001b[1;34m(filepath_or_buffer, kwds)\u001b[0m\n\u001b[0;32m    619\u001b[0m \u001b[38;5;66;03m# Create the parser.\u001b[39;00m\n\u001b[1;32m--> 620\u001b[0m parser \u001b[38;5;241m=\u001b[39m \u001b[43mTextFileReader\u001b[49m\u001b[43m(\u001b[49m\u001b[43mfilepath_or_buffer\u001b[49m\u001b[43m,\u001b[49m\u001b[43m \u001b[49m\u001b[38;5;241;43m*\u001b[39;49m\u001b[38;5;241;43m*\u001b[39;49m\u001b[43mkwds\u001b[49m\u001b[43m)\u001b[49m\n\u001b[0;32m    622\u001b[0m \u001b[38;5;28;01mif\u001b[39;00m chunksize \u001b[38;5;129;01mor\u001b[39;00m iterator:\n",
      "File \u001b[1;32mc:\\Users\\rizki\\AppData\\Local\\Programs\\Python\\Python312\\Lib\\site-packages\\pandas\\io\\parsers\\readers.py:1620\u001b[0m, in \u001b[0;36mTextFileReader.__init__\u001b[1;34m(self, f, engine, **kwds)\u001b[0m\n\u001b[0;32m   1619\u001b[0m \u001b[38;5;28mself\u001b[39m\u001b[38;5;241m.\u001b[39mhandles: IOHandles \u001b[38;5;241m|\u001b[39m \u001b[38;5;28;01mNone\u001b[39;00m \u001b[38;5;241m=\u001b[39m \u001b[38;5;28;01mNone\u001b[39;00m\n\u001b[1;32m-> 1620\u001b[0m \u001b[38;5;28mself\u001b[39m\u001b[38;5;241m.\u001b[39m_engine \u001b[38;5;241m=\u001b[39m \u001b[38;5;28;43mself\u001b[39;49m\u001b[38;5;241;43m.\u001b[39;49m\u001b[43m_make_engine\u001b[49m\u001b[43m(\u001b[49m\u001b[43mf\u001b[49m\u001b[43m,\u001b[49m\u001b[43m \u001b[49m\u001b[38;5;28;43mself\u001b[39;49m\u001b[38;5;241;43m.\u001b[39;49m\u001b[43mengine\u001b[49m\u001b[43m)\u001b[49m\n",
      "File \u001b[1;32mc:\\Users\\rizki\\AppData\\Local\\Programs\\Python\\Python312\\Lib\\site-packages\\pandas\\io\\parsers\\readers.py:1880\u001b[0m, in \u001b[0;36mTextFileReader._make_engine\u001b[1;34m(self, f, engine)\u001b[0m\n\u001b[0;32m   1879\u001b[0m         mode \u001b[38;5;241m+\u001b[39m\u001b[38;5;241m=\u001b[39m \u001b[38;5;124m\"\u001b[39m\u001b[38;5;124mb\u001b[39m\u001b[38;5;124m\"\u001b[39m\n\u001b[1;32m-> 1880\u001b[0m \u001b[38;5;28mself\u001b[39m\u001b[38;5;241m.\u001b[39mhandles \u001b[38;5;241m=\u001b[39m \u001b[43mget_handle\u001b[49m\u001b[43m(\u001b[49m\n\u001b[0;32m   1881\u001b[0m \u001b[43m    \u001b[49m\u001b[43mf\u001b[49m\u001b[43m,\u001b[49m\n\u001b[0;32m   1882\u001b[0m \u001b[43m    \u001b[49m\u001b[43mmode\u001b[49m\u001b[43m,\u001b[49m\n\u001b[0;32m   1883\u001b[0m \u001b[43m    \u001b[49m\u001b[43mencoding\u001b[49m\u001b[38;5;241;43m=\u001b[39;49m\u001b[38;5;28;43mself\u001b[39;49m\u001b[38;5;241;43m.\u001b[39;49m\u001b[43moptions\u001b[49m\u001b[38;5;241;43m.\u001b[39;49m\u001b[43mget\u001b[49m\u001b[43m(\u001b[49m\u001b[38;5;124;43m\"\u001b[39;49m\u001b[38;5;124;43mencoding\u001b[39;49m\u001b[38;5;124;43m\"\u001b[39;49m\u001b[43m,\u001b[49m\u001b[43m \u001b[49m\u001b[38;5;28;43;01mNone\u001b[39;49;00m\u001b[43m)\u001b[49m\u001b[43m,\u001b[49m\n\u001b[0;32m   1884\u001b[0m \u001b[43m    \u001b[49m\u001b[43mcompression\u001b[49m\u001b[38;5;241;43m=\u001b[39;49m\u001b[38;5;28;43mself\u001b[39;49m\u001b[38;5;241;43m.\u001b[39;49m\u001b[43moptions\u001b[49m\u001b[38;5;241;43m.\u001b[39;49m\u001b[43mget\u001b[49m\u001b[43m(\u001b[49m\u001b[38;5;124;43m\"\u001b[39;49m\u001b[38;5;124;43mcompression\u001b[39;49m\u001b[38;5;124;43m\"\u001b[39;49m\u001b[43m,\u001b[49m\u001b[43m \u001b[49m\u001b[38;5;28;43;01mNone\u001b[39;49;00m\u001b[43m)\u001b[49m\u001b[43m,\u001b[49m\n\u001b[0;32m   1885\u001b[0m \u001b[43m    \u001b[49m\u001b[43mmemory_map\u001b[49m\u001b[38;5;241;43m=\u001b[39;49m\u001b[38;5;28;43mself\u001b[39;49m\u001b[38;5;241;43m.\u001b[39;49m\u001b[43moptions\u001b[49m\u001b[38;5;241;43m.\u001b[39;49m\u001b[43mget\u001b[49m\u001b[43m(\u001b[49m\u001b[38;5;124;43m\"\u001b[39;49m\u001b[38;5;124;43mmemory_map\u001b[39;49m\u001b[38;5;124;43m\"\u001b[39;49m\u001b[43m,\u001b[49m\u001b[43m \u001b[49m\u001b[38;5;28;43;01mFalse\u001b[39;49;00m\u001b[43m)\u001b[49m\u001b[43m,\u001b[49m\n\u001b[0;32m   1886\u001b[0m \u001b[43m    \u001b[49m\u001b[43mis_text\u001b[49m\u001b[38;5;241;43m=\u001b[39;49m\u001b[43mis_text\u001b[49m\u001b[43m,\u001b[49m\n\u001b[0;32m   1887\u001b[0m \u001b[43m    \u001b[49m\u001b[43merrors\u001b[49m\u001b[38;5;241;43m=\u001b[39;49m\u001b[38;5;28;43mself\u001b[39;49m\u001b[38;5;241;43m.\u001b[39;49m\u001b[43moptions\u001b[49m\u001b[38;5;241;43m.\u001b[39;49m\u001b[43mget\u001b[49m\u001b[43m(\u001b[49m\u001b[38;5;124;43m\"\u001b[39;49m\u001b[38;5;124;43mencoding_errors\u001b[39;49m\u001b[38;5;124;43m\"\u001b[39;49m\u001b[43m,\u001b[49m\u001b[43m \u001b[49m\u001b[38;5;124;43m\"\u001b[39;49m\u001b[38;5;124;43mstrict\u001b[39;49m\u001b[38;5;124;43m\"\u001b[39;49m\u001b[43m)\u001b[49m\u001b[43m,\u001b[49m\n\u001b[0;32m   1888\u001b[0m \u001b[43m    \u001b[49m\u001b[43mstorage_options\u001b[49m\u001b[38;5;241;43m=\u001b[39;49m\u001b[38;5;28;43mself\u001b[39;49m\u001b[38;5;241;43m.\u001b[39;49m\u001b[43moptions\u001b[49m\u001b[38;5;241;43m.\u001b[39;49m\u001b[43mget\u001b[49m\u001b[43m(\u001b[49m\u001b[38;5;124;43m\"\u001b[39;49m\u001b[38;5;124;43mstorage_options\u001b[39;49m\u001b[38;5;124;43m\"\u001b[39;49m\u001b[43m,\u001b[49m\u001b[43m \u001b[49m\u001b[38;5;28;43;01mNone\u001b[39;49;00m\u001b[43m)\u001b[49m\u001b[43m,\u001b[49m\n\u001b[0;32m   1889\u001b[0m \u001b[43m\u001b[49m\u001b[43m)\u001b[49m\n\u001b[0;32m   1890\u001b[0m \u001b[38;5;28;01massert\u001b[39;00m \u001b[38;5;28mself\u001b[39m\u001b[38;5;241m.\u001b[39mhandles \u001b[38;5;129;01mis\u001b[39;00m \u001b[38;5;129;01mnot\u001b[39;00m \u001b[38;5;28;01mNone\u001b[39;00m\n",
      "File \u001b[1;32mc:\\Users\\rizki\\AppData\\Local\\Programs\\Python\\Python312\\Lib\\site-packages\\pandas\\io\\common.py:873\u001b[0m, in \u001b[0;36mget_handle\u001b[1;34m(path_or_buf, mode, encoding, compression, memory_map, is_text, errors, storage_options)\u001b[0m\n\u001b[0;32m    871\u001b[0m \u001b[38;5;28;01mif\u001b[39;00m ioargs\u001b[38;5;241m.\u001b[39mencoding \u001b[38;5;129;01mand\u001b[39;00m \u001b[38;5;124m\"\u001b[39m\u001b[38;5;124mb\u001b[39m\u001b[38;5;124m\"\u001b[39m \u001b[38;5;129;01mnot\u001b[39;00m \u001b[38;5;129;01min\u001b[39;00m ioargs\u001b[38;5;241m.\u001b[39mmode:\n\u001b[0;32m    872\u001b[0m     \u001b[38;5;66;03m# Encoding\u001b[39;00m\n\u001b[1;32m--> 873\u001b[0m     handle \u001b[38;5;241m=\u001b[39m \u001b[38;5;28;43mopen\u001b[39;49m\u001b[43m(\u001b[49m\n\u001b[0;32m    874\u001b[0m \u001b[43m        \u001b[49m\u001b[43mhandle\u001b[49m\u001b[43m,\u001b[49m\n\u001b[0;32m    875\u001b[0m \u001b[43m        \u001b[49m\u001b[43mioargs\u001b[49m\u001b[38;5;241;43m.\u001b[39;49m\u001b[43mmode\u001b[49m\u001b[43m,\u001b[49m\n\u001b[0;32m    876\u001b[0m \u001b[43m        \u001b[49m\u001b[43mencoding\u001b[49m\u001b[38;5;241;43m=\u001b[39;49m\u001b[43mioargs\u001b[49m\u001b[38;5;241;43m.\u001b[39;49m\u001b[43mencoding\u001b[49m\u001b[43m,\u001b[49m\n\u001b[0;32m    877\u001b[0m \u001b[43m        \u001b[49m\u001b[43merrors\u001b[49m\u001b[38;5;241;43m=\u001b[39;49m\u001b[43merrors\u001b[49m\u001b[43m,\u001b[49m\n\u001b[0;32m    878\u001b[0m \u001b[43m        \u001b[49m\u001b[43mnewline\u001b[49m\u001b[38;5;241;43m=\u001b[39;49m\u001b[38;5;124;43m\"\u001b[39;49m\u001b[38;5;124;43m\"\u001b[39;49m\u001b[43m,\u001b[49m\n\u001b[0;32m    879\u001b[0m \u001b[43m    \u001b[49m\u001b[43m)\u001b[49m\n\u001b[0;32m    880\u001b[0m \u001b[38;5;28;01melse\u001b[39;00m:\n\u001b[0;32m    881\u001b[0m     \u001b[38;5;66;03m# Binary mode\u001b[39;00m\n",
      "\u001b[1;31mFileNotFoundError\u001b[0m: [Errno 2] No such file or directory: 'DATA FULL (gabungan 6 genre).csv'",
      "\nDuring handling of the above exception, another exception occurred:\n",
      "\u001b[1;31mFileNotFoundError\u001b[0m                         Traceback (most recent call last)",
      "Cell \u001b[1;32mIn[12], line 9\u001b[0m\n\u001b[0;32m      7\u001b[0m     \u001b[38;5;28mprint\u001b[39m(\u001b[38;5;124mf\u001b[39m\u001b[38;5;124m\"\u001b[39m\u001b[38;5;124mError membaca file: \u001b[39m\u001b[38;5;132;01m{\u001b[39;00me\u001b[38;5;132;01m}\u001b[39;00m\u001b[38;5;124m\"\u001b[39m)\n\u001b[0;32m      8\u001b[0m     \u001b[38;5;28mprint\u001b[39m(\u001b[38;5;124m\"\u001b[39m\u001b[38;5;124mMencoba metode alternatif...\u001b[39m\u001b[38;5;124m\"\u001b[39m)\n\u001b[1;32m----> 9\u001b[0m     df \u001b[38;5;241m=\u001b[39m \u001b[43mpd\u001b[49m\u001b[38;5;241;43m.\u001b[39;49m\u001b[43mread_csv\u001b[49m\u001b[43m(\u001b[49m\u001b[38;5;124;43m'\u001b[39;49m\u001b[38;5;124;43mDATA FULL (gabungan 6 genre).csv\u001b[39;49m\u001b[38;5;124;43m'\u001b[39;49m\u001b[43m,\u001b[49m\u001b[43m \u001b[49m\u001b[43mencoding\u001b[49m\u001b[38;5;241;43m=\u001b[39;49m\u001b[38;5;124;43m'\u001b[39;49m\u001b[38;5;124;43mutf-8\u001b[39;49m\u001b[38;5;124;43m'\u001b[39;49m\u001b[43m,\u001b[49m\u001b[43m \u001b[49m\u001b[43mengine\u001b[49m\u001b[38;5;241;43m=\u001b[39;49m\u001b[38;5;124;43m'\u001b[39;49m\u001b[38;5;124;43mpython\u001b[39;49m\u001b[38;5;124;43m'\u001b[39;49m\u001b[43m,\u001b[49m\u001b[43m \u001b[49m\u001b[43msep\u001b[49m\u001b[38;5;241;43m=\u001b[39;49m\u001b[38;5;28;43;01mNone\u001b[39;49;00m\u001b[43m)\u001b[49m\n\u001b[0;32m     11\u001b[0m \u001b[38;5;28mprint\u001b[39m(\u001b[38;5;124m\"\u001b[39m\u001b[38;5;124mKolom yang tersedia:\u001b[39m\u001b[38;5;124m\"\u001b[39m)\n\u001b[0;32m     12\u001b[0m \u001b[38;5;28mprint\u001b[39m(df\u001b[38;5;241m.\u001b[39mcolumns)\n",
      "File \u001b[1;32mc:\\Users\\rizki\\AppData\\Local\\Programs\\Python\\Python312\\Lib\\site-packages\\pandas\\io\\parsers\\readers.py:1026\u001b[0m, in \u001b[0;36mread_csv\u001b[1;34m(filepath_or_buffer, sep, delimiter, header, names, index_col, usecols, dtype, engine, converters, true_values, false_values, skipinitialspace, skiprows, skipfooter, nrows, na_values, keep_default_na, na_filter, verbose, skip_blank_lines, parse_dates, infer_datetime_format, keep_date_col, date_parser, date_format, dayfirst, cache_dates, iterator, chunksize, compression, thousands, decimal, lineterminator, quotechar, quoting, doublequote, escapechar, comment, encoding, encoding_errors, dialect, on_bad_lines, delim_whitespace, low_memory, memory_map, float_precision, storage_options, dtype_backend)\u001b[0m\n\u001b[0;32m   1013\u001b[0m kwds_defaults \u001b[38;5;241m=\u001b[39m _refine_defaults_read(\n\u001b[0;32m   1014\u001b[0m     dialect,\n\u001b[0;32m   1015\u001b[0m     delimiter,\n\u001b[1;32m   (...)\u001b[0m\n\u001b[0;32m   1022\u001b[0m     dtype_backend\u001b[38;5;241m=\u001b[39mdtype_backend,\n\u001b[0;32m   1023\u001b[0m )\n\u001b[0;32m   1024\u001b[0m kwds\u001b[38;5;241m.\u001b[39mupdate(kwds_defaults)\n\u001b[1;32m-> 1026\u001b[0m \u001b[38;5;28;01mreturn\u001b[39;00m \u001b[43m_read\u001b[49m\u001b[43m(\u001b[49m\u001b[43mfilepath_or_buffer\u001b[49m\u001b[43m,\u001b[49m\u001b[43m \u001b[49m\u001b[43mkwds\u001b[49m\u001b[43m)\u001b[49m\n",
      "File \u001b[1;32mc:\\Users\\rizki\\AppData\\Local\\Programs\\Python\\Python312\\Lib\\site-packages\\pandas\\io\\parsers\\readers.py:620\u001b[0m, in \u001b[0;36m_read\u001b[1;34m(filepath_or_buffer, kwds)\u001b[0m\n\u001b[0;32m    617\u001b[0m _validate_names(kwds\u001b[38;5;241m.\u001b[39mget(\u001b[38;5;124m\"\u001b[39m\u001b[38;5;124mnames\u001b[39m\u001b[38;5;124m\"\u001b[39m, \u001b[38;5;28;01mNone\u001b[39;00m))\n\u001b[0;32m    619\u001b[0m \u001b[38;5;66;03m# Create the parser.\u001b[39;00m\n\u001b[1;32m--> 620\u001b[0m parser \u001b[38;5;241m=\u001b[39m \u001b[43mTextFileReader\u001b[49m\u001b[43m(\u001b[49m\u001b[43mfilepath_or_buffer\u001b[49m\u001b[43m,\u001b[49m\u001b[43m \u001b[49m\u001b[38;5;241;43m*\u001b[39;49m\u001b[38;5;241;43m*\u001b[39;49m\u001b[43mkwds\u001b[49m\u001b[43m)\u001b[49m\n\u001b[0;32m    622\u001b[0m \u001b[38;5;28;01mif\u001b[39;00m chunksize \u001b[38;5;129;01mor\u001b[39;00m iterator:\n\u001b[0;32m    623\u001b[0m     \u001b[38;5;28;01mreturn\u001b[39;00m parser\n",
      "File \u001b[1;32mc:\\Users\\rizki\\AppData\\Local\\Programs\\Python\\Python312\\Lib\\site-packages\\pandas\\io\\parsers\\readers.py:1620\u001b[0m, in \u001b[0;36mTextFileReader.__init__\u001b[1;34m(self, f, engine, **kwds)\u001b[0m\n\u001b[0;32m   1617\u001b[0m     \u001b[38;5;28mself\u001b[39m\u001b[38;5;241m.\u001b[39moptions[\u001b[38;5;124m\"\u001b[39m\u001b[38;5;124mhas_index_names\u001b[39m\u001b[38;5;124m\"\u001b[39m] \u001b[38;5;241m=\u001b[39m kwds[\u001b[38;5;124m\"\u001b[39m\u001b[38;5;124mhas_index_names\u001b[39m\u001b[38;5;124m\"\u001b[39m]\n\u001b[0;32m   1619\u001b[0m \u001b[38;5;28mself\u001b[39m\u001b[38;5;241m.\u001b[39mhandles: IOHandles \u001b[38;5;241m|\u001b[39m \u001b[38;5;28;01mNone\u001b[39;00m \u001b[38;5;241m=\u001b[39m \u001b[38;5;28;01mNone\u001b[39;00m\n\u001b[1;32m-> 1620\u001b[0m \u001b[38;5;28mself\u001b[39m\u001b[38;5;241m.\u001b[39m_engine \u001b[38;5;241m=\u001b[39m \u001b[38;5;28;43mself\u001b[39;49m\u001b[38;5;241;43m.\u001b[39;49m\u001b[43m_make_engine\u001b[49m\u001b[43m(\u001b[49m\u001b[43mf\u001b[49m\u001b[43m,\u001b[49m\u001b[43m \u001b[49m\u001b[38;5;28;43mself\u001b[39;49m\u001b[38;5;241;43m.\u001b[39;49m\u001b[43mengine\u001b[49m\u001b[43m)\u001b[49m\n",
      "File \u001b[1;32mc:\\Users\\rizki\\AppData\\Local\\Programs\\Python\\Python312\\Lib\\site-packages\\pandas\\io\\parsers\\readers.py:1880\u001b[0m, in \u001b[0;36mTextFileReader._make_engine\u001b[1;34m(self, f, engine)\u001b[0m\n\u001b[0;32m   1878\u001b[0m     \u001b[38;5;28;01mif\u001b[39;00m \u001b[38;5;124m\"\u001b[39m\u001b[38;5;124mb\u001b[39m\u001b[38;5;124m\"\u001b[39m \u001b[38;5;129;01mnot\u001b[39;00m \u001b[38;5;129;01min\u001b[39;00m mode:\n\u001b[0;32m   1879\u001b[0m         mode \u001b[38;5;241m+\u001b[39m\u001b[38;5;241m=\u001b[39m \u001b[38;5;124m\"\u001b[39m\u001b[38;5;124mb\u001b[39m\u001b[38;5;124m\"\u001b[39m\n\u001b[1;32m-> 1880\u001b[0m \u001b[38;5;28mself\u001b[39m\u001b[38;5;241m.\u001b[39mhandles \u001b[38;5;241m=\u001b[39m \u001b[43mget_handle\u001b[49m\u001b[43m(\u001b[49m\n\u001b[0;32m   1881\u001b[0m \u001b[43m    \u001b[49m\u001b[43mf\u001b[49m\u001b[43m,\u001b[49m\n\u001b[0;32m   1882\u001b[0m \u001b[43m    \u001b[49m\u001b[43mmode\u001b[49m\u001b[43m,\u001b[49m\n\u001b[0;32m   1883\u001b[0m \u001b[43m    \u001b[49m\u001b[43mencoding\u001b[49m\u001b[38;5;241;43m=\u001b[39;49m\u001b[38;5;28;43mself\u001b[39;49m\u001b[38;5;241;43m.\u001b[39;49m\u001b[43moptions\u001b[49m\u001b[38;5;241;43m.\u001b[39;49m\u001b[43mget\u001b[49m\u001b[43m(\u001b[49m\u001b[38;5;124;43m\"\u001b[39;49m\u001b[38;5;124;43mencoding\u001b[39;49m\u001b[38;5;124;43m\"\u001b[39;49m\u001b[43m,\u001b[49m\u001b[43m \u001b[49m\u001b[38;5;28;43;01mNone\u001b[39;49;00m\u001b[43m)\u001b[49m\u001b[43m,\u001b[49m\n\u001b[0;32m   1884\u001b[0m \u001b[43m    \u001b[49m\u001b[43mcompression\u001b[49m\u001b[38;5;241;43m=\u001b[39;49m\u001b[38;5;28;43mself\u001b[39;49m\u001b[38;5;241;43m.\u001b[39;49m\u001b[43moptions\u001b[49m\u001b[38;5;241;43m.\u001b[39;49m\u001b[43mget\u001b[49m\u001b[43m(\u001b[49m\u001b[38;5;124;43m\"\u001b[39;49m\u001b[38;5;124;43mcompression\u001b[39;49m\u001b[38;5;124;43m\"\u001b[39;49m\u001b[43m,\u001b[49m\u001b[43m \u001b[49m\u001b[38;5;28;43;01mNone\u001b[39;49;00m\u001b[43m)\u001b[49m\u001b[43m,\u001b[49m\n\u001b[0;32m   1885\u001b[0m \u001b[43m    \u001b[49m\u001b[43mmemory_map\u001b[49m\u001b[38;5;241;43m=\u001b[39;49m\u001b[38;5;28;43mself\u001b[39;49m\u001b[38;5;241;43m.\u001b[39;49m\u001b[43moptions\u001b[49m\u001b[38;5;241;43m.\u001b[39;49m\u001b[43mget\u001b[49m\u001b[43m(\u001b[49m\u001b[38;5;124;43m\"\u001b[39;49m\u001b[38;5;124;43mmemory_map\u001b[39;49m\u001b[38;5;124;43m\"\u001b[39;49m\u001b[43m,\u001b[49m\u001b[43m \u001b[49m\u001b[38;5;28;43;01mFalse\u001b[39;49;00m\u001b[43m)\u001b[49m\u001b[43m,\u001b[49m\n\u001b[0;32m   1886\u001b[0m \u001b[43m    \u001b[49m\u001b[43mis_text\u001b[49m\u001b[38;5;241;43m=\u001b[39;49m\u001b[43mis_text\u001b[49m\u001b[43m,\u001b[49m\n\u001b[0;32m   1887\u001b[0m \u001b[43m    \u001b[49m\u001b[43merrors\u001b[49m\u001b[38;5;241;43m=\u001b[39;49m\u001b[38;5;28;43mself\u001b[39;49m\u001b[38;5;241;43m.\u001b[39;49m\u001b[43moptions\u001b[49m\u001b[38;5;241;43m.\u001b[39;49m\u001b[43mget\u001b[49m\u001b[43m(\u001b[49m\u001b[38;5;124;43m\"\u001b[39;49m\u001b[38;5;124;43mencoding_errors\u001b[39;49m\u001b[38;5;124;43m\"\u001b[39;49m\u001b[43m,\u001b[49m\u001b[43m \u001b[49m\u001b[38;5;124;43m\"\u001b[39;49m\u001b[38;5;124;43mstrict\u001b[39;49m\u001b[38;5;124;43m\"\u001b[39;49m\u001b[43m)\u001b[49m\u001b[43m,\u001b[49m\n\u001b[0;32m   1888\u001b[0m \u001b[43m    \u001b[49m\u001b[43mstorage_options\u001b[49m\u001b[38;5;241;43m=\u001b[39;49m\u001b[38;5;28;43mself\u001b[39;49m\u001b[38;5;241;43m.\u001b[39;49m\u001b[43moptions\u001b[49m\u001b[38;5;241;43m.\u001b[39;49m\u001b[43mget\u001b[49m\u001b[43m(\u001b[49m\u001b[38;5;124;43m\"\u001b[39;49m\u001b[38;5;124;43mstorage_options\u001b[39;49m\u001b[38;5;124;43m\"\u001b[39;49m\u001b[43m,\u001b[49m\u001b[43m \u001b[49m\u001b[38;5;28;43;01mNone\u001b[39;49;00m\u001b[43m)\u001b[49m\u001b[43m,\u001b[49m\n\u001b[0;32m   1889\u001b[0m \u001b[43m\u001b[49m\u001b[43m)\u001b[49m\n\u001b[0;32m   1890\u001b[0m \u001b[38;5;28;01massert\u001b[39;00m \u001b[38;5;28mself\u001b[39m\u001b[38;5;241m.\u001b[39mhandles \u001b[38;5;129;01mis\u001b[39;00m \u001b[38;5;129;01mnot\u001b[39;00m \u001b[38;5;28;01mNone\u001b[39;00m\n\u001b[0;32m   1891\u001b[0m f \u001b[38;5;241m=\u001b[39m \u001b[38;5;28mself\u001b[39m\u001b[38;5;241m.\u001b[39mhandles\u001b[38;5;241m.\u001b[39mhandle\n",
      "File \u001b[1;32mc:\\Users\\rizki\\AppData\\Local\\Programs\\Python\\Python312\\Lib\\site-packages\\pandas\\io\\common.py:873\u001b[0m, in \u001b[0;36mget_handle\u001b[1;34m(path_or_buf, mode, encoding, compression, memory_map, is_text, errors, storage_options)\u001b[0m\n\u001b[0;32m    868\u001b[0m \u001b[38;5;28;01melif\u001b[39;00m \u001b[38;5;28misinstance\u001b[39m(handle, \u001b[38;5;28mstr\u001b[39m):\n\u001b[0;32m    869\u001b[0m     \u001b[38;5;66;03m# Check whether the filename is to be opened in binary mode.\u001b[39;00m\n\u001b[0;32m    870\u001b[0m     \u001b[38;5;66;03m# Binary mode does not support 'encoding' and 'newline'.\u001b[39;00m\n\u001b[0;32m    871\u001b[0m     \u001b[38;5;28;01mif\u001b[39;00m ioargs\u001b[38;5;241m.\u001b[39mencoding \u001b[38;5;129;01mand\u001b[39;00m \u001b[38;5;124m\"\u001b[39m\u001b[38;5;124mb\u001b[39m\u001b[38;5;124m\"\u001b[39m \u001b[38;5;129;01mnot\u001b[39;00m \u001b[38;5;129;01min\u001b[39;00m ioargs\u001b[38;5;241m.\u001b[39mmode:\n\u001b[0;32m    872\u001b[0m         \u001b[38;5;66;03m# Encoding\u001b[39;00m\n\u001b[1;32m--> 873\u001b[0m         handle \u001b[38;5;241m=\u001b[39m \u001b[38;5;28;43mopen\u001b[39;49m\u001b[43m(\u001b[49m\n\u001b[0;32m    874\u001b[0m \u001b[43m            \u001b[49m\u001b[43mhandle\u001b[49m\u001b[43m,\u001b[49m\n\u001b[0;32m    875\u001b[0m \u001b[43m            \u001b[49m\u001b[43mioargs\u001b[49m\u001b[38;5;241;43m.\u001b[39;49m\u001b[43mmode\u001b[49m\u001b[43m,\u001b[49m\n\u001b[0;32m    876\u001b[0m \u001b[43m            \u001b[49m\u001b[43mencoding\u001b[49m\u001b[38;5;241;43m=\u001b[39;49m\u001b[43mioargs\u001b[49m\u001b[38;5;241;43m.\u001b[39;49m\u001b[43mencoding\u001b[49m\u001b[43m,\u001b[49m\n\u001b[0;32m    877\u001b[0m \u001b[43m            \u001b[49m\u001b[43merrors\u001b[49m\u001b[38;5;241;43m=\u001b[39;49m\u001b[43merrors\u001b[49m\u001b[43m,\u001b[49m\n\u001b[0;32m    878\u001b[0m \u001b[43m            \u001b[49m\u001b[43mnewline\u001b[49m\u001b[38;5;241;43m=\u001b[39;49m\u001b[38;5;124;43m\"\u001b[39;49m\u001b[38;5;124;43m\"\u001b[39;49m\u001b[43m,\u001b[49m\n\u001b[0;32m    879\u001b[0m \u001b[43m        \u001b[49m\u001b[43m)\u001b[49m\n\u001b[0;32m    880\u001b[0m     \u001b[38;5;28;01melse\u001b[39;00m:\n\u001b[0;32m    881\u001b[0m         \u001b[38;5;66;03m# Binary mode\u001b[39;00m\n\u001b[0;32m    882\u001b[0m         handle \u001b[38;5;241m=\u001b[39m \u001b[38;5;28mopen\u001b[39m(handle, ioargs\u001b[38;5;241m.\u001b[39mmode)\n",
      "\u001b[1;31mFileNotFoundError\u001b[0m: [Errno 2] No such file or directory: 'DATA FULL (gabungan 6 genre).csv'"
     ]
    }
   ],
   "source": [
    "import pandas as pd\n",
    "from langdetect import detect\n",
    "\n",
    "try:\n",
    "    df = pd.read_csv('DATA FULL (gabungan 6 genre).csv', encoding='utf-8', engine='python', sep=None, on_bad_lines='skip')\n",
    "except Exception as e:\n",
    "    print(f\"Error membaca file: {e}\")\n",
    "    print(\"Mencoba metode alternatif...\")\n",
    "    df = pd.read_csv('DATA FULL (gabungan 6 genre).csv', encoding='utf-8', engine='python', sep=None)\n",
    "\n",
    "print(\"Kolom yang tersedia:\")\n",
    "print(df.columns)\n",
    "\n",
    "if 'Sinopsis' in df.columns:\n",
    "    sinopsis_column = 'Sinopsis'\n",
    "elif 'sinopsis' in df.columns:\n",
    "    sinopsis_column = 'sinopsis'\n",
    "else:\n",
    "    raise ValueError(\"Kolom Sinopsis tidak ditemukan dalam dataset\")\n",
    "\n",
    "df = df.dropna(subset=[sinopsis_column])\n",
    "\n",
    "def is_english(text):\n",
    "    try:\n",
    "        return detect(str(text)) == 'en'\n",
    "    except:\n",
    "        return False\n",
    "\n",
    "df_english = df[df[sinopsis_column].apply(is_english)]\n",
    "df_non_english = df[~df[sinopsis_column].apply(is_english)]\n",
    "\n",
    "df_english.to_csv('data_clean_english.csv', index=False, encoding='utf-8')\n",
    "\n",
    "df_non_english.to_csv('data_non_english.csv', index=False, encoding='utf-8')\n",
    "\n",
    "print(f\"Jumlah data awal: {len(df)}\")\n",
    "print(f\"Jumlah data berbahasa Inggris: {len(df_english)}\")\n",
    "print(f\"Jumlah data yang dihapus (bukan bahasa Inggris): {len(df_non_english)}\")\n",
    "\n",
    "print(\"\\nContoh data yang dihapus:\")\n",
    "print(df_non_english.head())\n"
   ]
  },
  {
   "cell_type": "markdown",
   "metadata": {
    "id": "pwfGrST6RNnf"
   },
   "source": [
    "**LOWERCASING**"
   ]
  },
  {
   "cell_type": "code",
   "execution_count": 3,
   "metadata": {
    "colab": {
     "base_uri": "https://localhost:8080/"
    },
    "id": "4GLEnwSHMAcS",
    "outputId": "86d6a07f-618f-4cb3-f374-d6cdda6af5ca"
   },
   "outputs": [
    {
     "name": "stdout",
     "output_type": "stream",
     "text": [
      "Kolom yang tersedia:\n",
      "Index(['Title', 'Author', 'Link', 'Sinopsis', 'Genre'], dtype='object')\n",
      "Jumlah data awal: 5533\n",
      "Data berhasil disimpan ke 'data_clean_english_lowercase.csv'\n"
     ]
    }
   ],
   "source": [
    "import pandas as pd\n",
    "\n",
    "try:\n",
    "    df = pd.read_csv('data_clean_english.csv', encoding='utf-8')\n",
    "except Exception as e:\n",
    "    print(f\"Error membaca file: {e}\")\n",
    "    print(\"Mencoba metode alternatif...\")\n",
    "    df = pd.read_csv('data_clean_english.csv', encoding='utf-8', engine='python', sep=None)\n",
    "\n",
    "print(\"Kolom yang tersedia:\")\n",
    "print(df.columns)\n",
    "\n",
    "sinopsis_column = 'Sinopsis' if 'Sinopsis' in df.columns else 'sinopsis'\n",
    "\n",
    "if sinopsis_column not in df.columns:\n",
    "    raise ValueError(\"Kolom Sinopsis tidak ditemukan dalam dataset\")\n",
    "\n",
    "df = df.dropna(subset=[sinopsis_column])\n",
    "df[sinopsis_column] = df[sinopsis_column].str.lower()\n",
    "df.to_csv('data_clean_english_lowercase.csv', index=False, encoding='utf-8')\n",
    "print(f\"Jumlah data awal: {len(df)}\")\n",
    "print(f\"Data berhasil disimpan ke 'data_clean_english_lowercase.csv'\")\n"
   ]
  },
  {
   "cell_type": "code",
   "execution_count": 4,
   "metadata": {
    "colab": {
     "base_uri": "https://localhost:8080/",
     "height": 206
    },
    "id": "-TRT0nY5MAgU",
    "outputId": "36479b57-10a4-4bed-88c8-429abca6aec8"
   },
   "outputs": [
    {
     "data": {
      "text/html": [
       "<div>\n",
       "<style scoped>\n",
       "    .dataframe tbody tr th:only-of-type {\n",
       "        vertical-align: middle;\n",
       "    }\n",
       "\n",
       "    .dataframe tbody tr th {\n",
       "        vertical-align: top;\n",
       "    }\n",
       "\n",
       "    .dataframe thead th {\n",
       "        text-align: right;\n",
       "    }\n",
       "</style>\n",
       "<table border=\"1\" class=\"dataframe\">\n",
       "  <thead>\n",
       "    <tr style=\"text-align: right;\">\n",
       "      <th></th>\n",
       "      <th>Title</th>\n",
       "      <th>Author</th>\n",
       "      <th>Link</th>\n",
       "      <th>Sinopsis</th>\n",
       "      <th>Genre</th>\n",
       "    </tr>\n",
       "  </thead>\n",
       "  <tbody>\n",
       "    <tr>\n",
       "      <th>0</th>\n",
       "      <td>1984</td>\n",
       "      <td>George Orwell</td>\n",
       "      <td>https://www.goodreads.com/book/show/61439040-1984</td>\n",
       "      <td>a masterpiece of rebellion and imprisonment wh...</td>\n",
       "      <td>Fiction</td>\n",
       "    </tr>\n",
       "    <tr>\n",
       "      <th>1</th>\n",
       "      <td>To Kill a Mockingbird</td>\n",
       "      <td>Harper Lee</td>\n",
       "      <td>https://www.goodreads.com/book/show/2657.To_Ki...</td>\n",
       "      <td>the unforgettable novel of a childhood in a sl...</td>\n",
       "      <td>Fiction</td>\n",
       "    </tr>\n",
       "    <tr>\n",
       "      <th>2</th>\n",
       "      <td>The Great Gatsby</td>\n",
       "      <td>F. Scott Fitzgerald</td>\n",
       "      <td>https://www.goodreads.com/book/show/4671.The_G...</td>\n",
       "      <td>the great gatsby, f. scott fitzgeralds third b...</td>\n",
       "      <td>Fiction</td>\n",
       "    </tr>\n",
       "    <tr>\n",
       "      <th>3</th>\n",
       "      <td>Animal Farm</td>\n",
       "      <td>George Orwell</td>\n",
       "      <td>https://www.goodreads.com/book/show/170448.Ani...</td>\n",
       "      <td>librarians note there is an alternate cover ed...</td>\n",
       "      <td>Fiction</td>\n",
       "    </tr>\n",
       "    <tr>\n",
       "      <th>4</th>\n",
       "      <td>The Catcher in the Rye</td>\n",
       "      <td>J.D. Salinger</td>\n",
       "      <td>https://www.goodreads.com/book/show/5107.The_C...</td>\n",
       "      <td>its christmas time and holden caulfield has ju...</td>\n",
       "      <td>Fiction</td>\n",
       "    </tr>\n",
       "  </tbody>\n",
       "</table>\n",
       "</div>"
      ],
      "text/plain": [
       "                    Title               Author  \\\n",
       "0                    1984        George Orwell   \n",
       "1   To Kill a Mockingbird           Harper Lee   \n",
       "2        The Great Gatsby  F. Scott Fitzgerald   \n",
       "3             Animal Farm        George Orwell   \n",
       "4  The Catcher in the Rye        J.D. Salinger   \n",
       "\n",
       "                                                Link  \\\n",
       "0  https://www.goodreads.com/book/show/61439040-1984   \n",
       "1  https://www.goodreads.com/book/show/2657.To_Ki...   \n",
       "2  https://www.goodreads.com/book/show/4671.The_G...   \n",
       "3  https://www.goodreads.com/book/show/170448.Ani...   \n",
       "4  https://www.goodreads.com/book/show/5107.The_C...   \n",
       "\n",
       "                                            Sinopsis    Genre  \n",
       "0  a masterpiece of rebellion and imprisonment wh...  Fiction  \n",
       "1  the unforgettable novel of a childhood in a sl...  Fiction  \n",
       "2  the great gatsby, f. scott fitzgeralds third b...  Fiction  \n",
       "3  librarians note there is an alternate cover ed...  Fiction  \n",
       "4  its christmas time and holden caulfield has ju...  Fiction  "
      ]
     },
     "execution_count": 4,
     "metadata": {},
     "output_type": "execute_result"
    }
   ],
   "source": [
    "import pandas as pd\n",
    "file_path = \"data_clean_english_lowercase.csv\"\n",
    "df = pd.read_csv(file_path)\n",
    "df.head()\n"
   ]
  },
  {
   "cell_type": "markdown",
   "metadata": {
    "id": "3RLNdRH7RTHp"
   },
   "source": [
    "**REMOVE PUNCTUATION EXCEPT (,) TITIK**"
   ]
  },
  {
   "cell_type": "code",
   "execution_count": 3,
   "metadata": {
    "colab": {
     "base_uri": "https://localhost:8080/"
    },
    "id": "NhVO9P7OMAlQ",
    "outputId": "efad4f75-5ee8-4583-ec2b-ccae1c84232c"
   },
   "outputs": [
    {
     "name": "stdout",
     "output_type": "stream",
     "text": [
      "                                            Sinopsis  \\\n",
      "0  a masterpiece of rebellion and imprisonment wh...   \n",
      "1  the unforgettable novel of a childhood in a sl...   \n",
      "2  the great gatsby, f. scott fitzgeralds third b...   \n",
      "3  librarians note there is an alternate cover ed...   \n",
      "4  its christmas time and holden caulfield has ju...   \n",
      "\n",
      "                                     Sinopsis_Bersih  \n",
      "0  a masterpiece of rebellion and imprisonment wh...  \n",
      "1  the unforgettable novel of a childhood in a sl...  \n",
      "2  the great gatsby f. scott fitzgeralds third bo...  \n",
      "3  librarians note there is an alternate cover ed...  \n",
      "4  its christmas time and holden caulfield has ju...  \n"
     ]
    }
   ],
   "source": [
    "import pandas as pd\n",
    "import re\n",
    "\n",
    "df = pd.read_csv('data_clean_english_lowercase.csv', encoding='utf-8')\n",
    "\n",
    "if 'Sinopsis' not in df.columns:\n",
    "    raise ValueError(\"Kolom 'Sinopsis' tidak ditemukan dalam dataset!\")\n",
    "\n",
    "def bersihkan_teks(teks):\n",
    "    teks = re.sub(r'[^\\w\\s.]', '', teks)\n",
    "    teks = re.sub(r'\\.{2,}', '.', teks)\n",
    "    teks = teks.strip()\n",
    "    return teks\n",
    "\n",
    "df['Sinopsis_Bersih'] = df['Sinopsis'].apply(bersihkan_teks)\n",
    "df.to_csv('data_cleaned.csv', index=False, encoding='utf-8')\n",
    "print(df[['Sinopsis', 'Sinopsis_Bersih']].head())\n"
   ]
  },
  {
   "cell_type": "markdown",
   "metadata": {
    "id": "McCVES1aRYeT"
   },
   "source": [
    "**TOKENISASI**"
   ]
  },
  {
   "cell_type": "code",
   "execution_count": 4,
   "metadata": {
    "colab": {
     "base_uri": "https://localhost:8080/"
    },
    "id": "s_Jm5nR2MAqe",
    "outputId": "6a5cc80d-b69f-43d7-f680-7ab9ea409907"
   },
   "outputs": [
    {
     "name": "stdout",
     "output_type": "stream",
     "text": [
      "                                            Sinopsis  \\\n",
      "0  a masterpiece of rebellion and imprisonment wh...   \n",
      "1  the unforgettable novel of a childhood in a sl...   \n",
      "2  the great gatsby, f. scott fitzgeralds third b...   \n",
      "3  librarians note there is an alternate cover ed...   \n",
      "4  its christmas time and holden caulfield has ju...   \n",
      "\n",
      "                                          Tokenisasi  \n",
      "0  [a, masterpiece, of, rebellion, and, imprisonm...  \n",
      "1  [the, unforgettable, novel, of, a, childhood, ...  \n",
      "2  [the, great, gatsby, f., scott, fitzgeralds, t...  \n",
      "3  [librarians, note, there, is, an, alternate, c...  \n",
      "4  [its, christmas, time, and, holden, caulfield,...  \n"
     ]
    }
   ],
   "source": [
    "from nltk.tokenize import word_tokenize\n",
    "\n",
    "def tokenize(teks):\n",
    "    return word_tokenize(teks)\n",
    "\n",
    "df['Tokenisasi'] = df['Sinopsis_Bersih'].apply(tokenize)\n",
    "df.to_csv('data_with_tokenization.csv', index=False, encoding='utf-8')\n",
    "print(df[['Sinopsis', 'Tokenisasi']].head())\n"
   ]
  },
  {
   "cell_type": "markdown",
   "metadata": {
    "id": "z3A9N0ZWRbRr"
   },
   "source": [
    "**STOPWORDS**"
   ]
  },
  {
   "cell_type": "code",
   "execution_count": 5,
   "metadata": {
    "colab": {
     "base_uri": "https://localhost:8080/"
    },
    "id": "NR5YPLNgNnxM",
    "outputId": "03b94f9b-f02c-43cd-c912-cdb1e7fb9de3"
   },
   "outputs": [
    {
     "name": "stderr",
     "output_type": "stream",
     "text": [
      "[nltk_data] Downloading package stopwords to\n",
      "[nltk_data]     C:\\Users\\shoba\\AppData\\Roaming\\nltk_data...\n",
      "[nltk_data]   Package stopwords is already up-to-date!\n"
     ]
    },
    {
     "name": "stdout",
     "output_type": "stream",
     "text": [
      "                                            Sinopsis  \\\n",
      "0  a masterpiece of rebellion and imprisonment wh...   \n",
      "1  the unforgettable novel of a childhood in a sl...   \n",
      "2  the great gatsby, f. scott fitzgeralds third b...   \n",
      "3  librarians note there is an alternate cover ed...   \n",
      "4  its christmas time and holden caulfield has ju...   \n",
      "\n",
      "                                     Tanpa_Stopwords  \n",
      "0  [masterpiece, rebellion, imprisonment, war, pe...  \n",
      "1  [unforgettable, novel, childhood, sleepy, sout...  \n",
      "2  [great, gatsby, f., scott, fitzgeralds, third,...  \n",
      "3  [librarians, note, alternate, cover, edition, ...  \n",
      "4  [christmas, time, holden, caulfield, expelled,...  \n"
     ]
    }
   ],
   "source": [
    "from nltk.corpus import stopwords\n",
    "import nltk\n",
    "\n",
    "nltk.download('stopwords')\n",
    "\n",
    "stop_words = set(stopwords.words('english'))\n",
    "\n",
    "def hapus_stopwords(token_list):\n",
    "    return [token for token in token_list if token.lower() not in stop_words]\n",
    "\n",
    "df['Tanpa_Stopwords'] = df['Tokenisasi'].apply(hapus_stopwords)\n",
    "df.to_csv('data_without_stopwords.csv', index=False, encoding='utf-8')\n",
    "print(df[['Sinopsis', 'Tanpa_Stopwords']].head())\n"
   ]
  },
  {
   "cell_type": "markdown",
   "metadata": {
    "id": "JPgkp28_Re1D"
   },
   "source": [
    "**LEMATISASI**"
   ]
  },
  {
   "cell_type": "code",
   "execution_count": 8,
   "metadata": {},
   "outputs": [
    {
     "name": "stderr",
     "output_type": "stream",
     "text": [
      "[nltk_data] Downloading package wordnet to\n",
      "[nltk_data]     C:\\Users\\shoba\\AppData\\Roaming\\nltk_data...\n",
      "[nltk_data]   Package wordnet is already up-to-date!\n",
      "[nltk_data] Downloading package omw-1.4 to\n",
      "[nltk_data]     C:\\Users\\shoba\\AppData\\Roaming\\nltk_data...\n",
      "[nltk_data]   Package omw-1.4 is already up-to-date!\n"
     ]
    },
    {
     "data": {
      "text/plain": [
       "True"
      ]
     },
     "execution_count": 8,
     "metadata": {},
     "output_type": "execute_result"
    }
   ],
   "source": [
    "import nltk\n",
    "nltk.download('wordnet')\n",
    "nltk.download('omw-1.4')  # Jika menggunakan WordNet modern"
   ]
  },
  {
   "cell_type": "code",
   "execution_count": 9,
   "metadata": {
    "colab": {
     "base_uri": "https://localhost:8080/"
    },
    "id": "M8vABXxrNn6z",
    "outputId": "1e2449fe-65e1-4699-9c6a-14913b6ce0b6"
   },
   "outputs": [
    {
     "name": "stderr",
     "output_type": "stream",
     "text": [
      "[nltk_data] Downloading package wordnet to\n",
      "[nltk_data]     C:\\Users\\shoba\\AppData\\Roaming\\nltk_data...\n",
      "[nltk_data]   Package wordnet is already up-to-date!\n"
     ]
    },
    {
     "name": "stdout",
     "output_type": "stream",
     "text": [
      "                                            Sinopsis  \\\n",
      "0  a masterpiece of rebellion and imprisonment wh...   \n",
      "1  the unforgettable novel of a childhood in a sl...   \n",
      "2  the great gatsby, f. scott fitzgeralds third b...   \n",
      "3  librarians note there is an alternate cover ed...   \n",
      "4  its christmas time and holden caulfield has ju...   \n",
      "\n",
      "                                          Lematisasi  \n",
      "0  [masterpiece, rebellion, imprisonment, war, pe...  \n",
      "1  [unforgettable, novel, childhood, sleepy, sout...  \n",
      "2  [great, gatsby, f., scott, fitzgerald, third, ...  \n",
      "3  [librarian, note, alternate, cover, edition, e...  \n",
      "4  [christmas, time, holden, caulfield, expelled,...  \n"
     ]
    }
   ],
   "source": [
    "import nltk\n",
    "from nltk.stem import WordNetLemmatizer\n",
    "\n",
    "nltk.download('wordnet')\n",
    "lemmatizer = WordNetLemmatizer()\n",
    "def lemmatizeText(token_list):\n",
    "    return [lemmatizer.lemmatize(token) for token in token_list]\n",
    "\n",
    "df['Lematisasi'] = df['Tanpa_Stopwords'].apply(lemmatizeText)\n",
    "df.to_csv('data_with_lemmatization.csv', index=False, encoding='utf-8')\n",
    "print(df[['Sinopsis', 'Lematisasi']].head())\n"
   ]
  },
  {
   "cell_type": "markdown",
   "metadata": {
    "id": "VsSa8SeERjtF"
   },
   "source": [
    "**FEATURE EXTRACTION MENGGUNAKAN TF IDF**"
   ]
  },
  {
   "cell_type": "code",
   "execution_count": 7,
   "metadata": {},
   "outputs": [
    {
     "name": "stdout",
     "output_type": "stream",
     "text": [
      "Defaulting to user installation because normal site-packages is not writeable\n",
      "Requirement already satisfied: keras in c:\\users\\shoba\\appdata\\roaming\\python\\python312\\site-packages (3.6.0)\n",
      "Requirement already satisfied: absl-py in c:\\users\\shoba\\appdata\\roaming\\python\\python312\\site-packages (from keras) (2.1.0)\n",
      "Requirement already satisfied: numpy in c:\\users\\shoba\\appdata\\roaming\\python\\python312\\site-packages (from keras) (2.0.2)\n",
      "Requirement already satisfied: rich in c:\\users\\shoba\\appdata\\roaming\\python\\python312\\site-packages (from keras) (13.9.4)\n",
      "Requirement already satisfied: namex in c:\\users\\shoba\\appdata\\roaming\\python\\python312\\site-packages (from keras) (0.0.8)\n",
      "Requirement already satisfied: h5py in c:\\users\\shoba\\appdata\\roaming\\python\\python312\\site-packages (from keras) (3.12.1)\n",
      "Requirement already satisfied: optree in c:\\users\\shoba\\appdata\\roaming\\python\\python312\\site-packages (from keras) (0.13.1)\n",
      "Requirement already satisfied: ml-dtypes in c:\\users\\shoba\\appdata\\roaming\\python\\python312\\site-packages (from keras) (0.4.1)\n",
      "Requirement already satisfied: packaging in c:\\users\\shoba\\appdata\\roaming\\python\\python312\\site-packages (from keras) (24.1)\n",
      "Requirement already satisfied: typing-extensions>=4.5.0 in c:\\users\\shoba\\appdata\\roaming\\python\\python312\\site-packages (from optree->keras) (4.12.2)\n",
      "Requirement already satisfied: markdown-it-py>=2.2.0 in c:\\users\\shoba\\appdata\\roaming\\python\\python312\\site-packages (from rich->keras) (3.0.0)\n",
      "Requirement already satisfied: pygments<3.0.0,>=2.13.0 in c:\\users\\shoba\\appdata\\roaming\\python\\python312\\site-packages (from rich->keras) (2.18.0)\n",
      "Requirement already satisfied: mdurl~=0.1 in c:\\users\\shoba\\appdata\\roaming\\python\\python312\\site-packages (from markdown-it-py>=2.2.0->rich->keras) (0.1.2)\n",
      "Note: you may need to restart the kernel to use updated packages.\n",
      "Defaulting to user installation because normal site-packages is not writeable\n",
      "Requirement already satisfied: tensorflow in c:\\users\\shoba\\appdata\\roaming\\python\\python312\\site-packages (2.18.0)\n",
      "Requirement already satisfied: tensorflow-intel==2.18.0 in c:\\users\\shoba\\appdata\\roaming\\python\\python312\\site-packages (from tensorflow) (2.18.0)\n",
      "Requirement already satisfied: absl-py>=1.0.0 in c:\\users\\shoba\\appdata\\roaming\\python\\python312\\site-packages (from tensorflow-intel==2.18.0->tensorflow) (2.1.0)\n",
      "Requirement already satisfied: astunparse>=1.6.0 in c:\\users\\shoba\\appdata\\roaming\\python\\python312\\site-packages (from tensorflow-intel==2.18.0->tensorflow) (1.6.3)\n",
      "Requirement already satisfied: flatbuffers>=24.3.25 in c:\\users\\shoba\\appdata\\roaming\\python\\python312\\site-packages (from tensorflow-intel==2.18.0->tensorflow) (24.3.25)\n",
      "Requirement already satisfied: gast!=0.5.0,!=0.5.1,!=0.5.2,>=0.2.1 in c:\\users\\shoba\\appdata\\roaming\\python\\python312\\site-packages (from tensorflow-intel==2.18.0->tensorflow) (0.6.0)\n",
      "Requirement already satisfied: google-pasta>=0.1.1 in c:\\users\\shoba\\appdata\\roaming\\python\\python312\\site-packages (from tensorflow-intel==2.18.0->tensorflow) (0.2.0)\n",
      "Requirement already satisfied: libclang>=13.0.0 in c:\\users\\shoba\\appdata\\roaming\\python\\python312\\site-packages (from tensorflow-intel==2.18.0->tensorflow) (18.1.1)\n",
      "Requirement already satisfied: opt-einsum>=2.3.2 in c:\\users\\shoba\\appdata\\roaming\\python\\python312\\site-packages (from tensorflow-intel==2.18.0->tensorflow) (3.4.0)\n",
      "Requirement already satisfied: packaging in c:\\users\\shoba\\appdata\\roaming\\python\\python312\\site-packages (from tensorflow-intel==2.18.0->tensorflow) (24.1)\n",
      "Requirement already satisfied: protobuf!=4.21.0,!=4.21.1,!=4.21.2,!=4.21.3,!=4.21.4,!=4.21.5,<6.0.0dev,>=3.20.3 in c:\\users\\shoba\\appdata\\roaming\\python\\python312\\site-packages (from tensorflow-intel==2.18.0->tensorflow) (4.25.5)\n",
      "Requirement already satisfied: requests<3,>=2.21.0 in c:\\users\\shoba\\appdata\\roaming\\python\\python312\\site-packages (from tensorflow-intel==2.18.0->tensorflow) (2.32.3)\n",
      "Requirement already satisfied: setuptools in c:\\users\\shoba\\appdata\\roaming\\python\\python312\\site-packages (from tensorflow-intel==2.18.0->tensorflow) (75.1.0)\n",
      "Requirement already satisfied: six>=1.12.0 in c:\\users\\shoba\\appdata\\roaming\\python\\python312\\site-packages (from tensorflow-intel==2.18.0->tensorflow) (1.16.0)\n",
      "Requirement already satisfied: termcolor>=1.1.0 in c:\\users\\shoba\\appdata\\roaming\\python\\python312\\site-packages (from tensorflow-intel==2.18.0->tensorflow) (2.5.0)\n",
      "Requirement already satisfied: typing-extensions>=3.6.6 in c:\\users\\shoba\\appdata\\roaming\\python\\python312\\site-packages (from tensorflow-intel==2.18.0->tensorflow) (4.12.2)\n",
      "Requirement already satisfied: wrapt>=1.11.0 in c:\\users\\shoba\\appdata\\roaming\\python\\python312\\site-packages (from tensorflow-intel==2.18.0->tensorflow) (1.16.0)\n",
      "Requirement already satisfied: grpcio<2.0,>=1.24.3 in c:\\users\\shoba\\appdata\\roaming\\python\\python312\\site-packages (from tensorflow-intel==2.18.0->tensorflow) (1.67.1)\n",
      "Requirement already satisfied: tensorboard<2.19,>=2.18 in c:\\users\\shoba\\appdata\\roaming\\python\\python312\\site-packages (from tensorflow-intel==2.18.0->tensorflow) (2.18.0)\n",
      "Requirement already satisfied: keras>=3.5.0 in c:\\users\\shoba\\appdata\\roaming\\python\\python312\\site-packages (from tensorflow-intel==2.18.0->tensorflow) (3.6.0)\n",
      "Requirement already satisfied: numpy<2.1.0,>=1.26.0 in c:\\users\\shoba\\appdata\\roaming\\python\\python312\\site-packages (from tensorflow-intel==2.18.0->tensorflow) (2.0.2)\n",
      "Requirement already satisfied: h5py>=3.11.0 in c:\\users\\shoba\\appdata\\roaming\\python\\python312\\site-packages (from tensorflow-intel==2.18.0->tensorflow) (3.12.1)\n",
      "Requirement already satisfied: ml-dtypes<0.5.0,>=0.4.0 in c:\\users\\shoba\\appdata\\roaming\\python\\python312\\site-packages (from tensorflow-intel==2.18.0->tensorflow) (0.4.1)\n",
      "Requirement already satisfied: wheel<1.0,>=0.23.0 in c:\\users\\shoba\\appdata\\roaming\\python\\python312\\site-packages (from astunparse>=1.6.0->tensorflow-intel==2.18.0->tensorflow) (0.44.0)\n",
      "Requirement already satisfied: rich in c:\\users\\shoba\\appdata\\roaming\\python\\python312\\site-packages (from keras>=3.5.0->tensorflow-intel==2.18.0->tensorflow) (13.9.4)\n",
      "Requirement already satisfied: namex in c:\\users\\shoba\\appdata\\roaming\\python\\python312\\site-packages (from keras>=3.5.0->tensorflow-intel==2.18.0->tensorflow) (0.0.8)\n",
      "Requirement already satisfied: optree in c:\\users\\shoba\\appdata\\roaming\\python\\python312\\site-packages (from keras>=3.5.0->tensorflow-intel==2.18.0->tensorflow) (0.13.1)\n",
      "Requirement already satisfied: charset-normalizer<4,>=2 in c:\\users\\shoba\\appdata\\roaming\\python\\python312\\site-packages (from requests<3,>=2.21.0->tensorflow-intel==2.18.0->tensorflow) (3.3.2)\n",
      "Requirement already satisfied: idna<4,>=2.5 in c:\\users\\shoba\\appdata\\roaming\\python\\python312\\site-packages (from requests<3,>=2.21.0->tensorflow-intel==2.18.0->tensorflow) (3.10)\n",
      "Requirement already satisfied: urllib3<3,>=1.21.1 in c:\\users\\shoba\\appdata\\roaming\\python\\python312\\site-packages (from requests<3,>=2.21.0->tensorflow-intel==2.18.0->tensorflow) (2.2.3)\n",
      "Requirement already satisfied: certifi>=2017.4.17 in c:\\users\\shoba\\appdata\\roaming\\python\\python312\\site-packages (from requests<3,>=2.21.0->tensorflow-intel==2.18.0->tensorflow) (2024.8.30)\n",
      "Requirement already satisfied: markdown>=2.6.8 in c:\\users\\shoba\\appdata\\roaming\\python\\python312\\site-packages (from tensorboard<2.19,>=2.18->tensorflow-intel==2.18.0->tensorflow) (3.7)\n",
      "Requirement already satisfied: tensorboard-data-server<0.8.0,>=0.7.0 in c:\\users\\shoba\\appdata\\roaming\\python\\python312\\site-packages (from tensorboard<2.19,>=2.18->tensorflow-intel==2.18.0->tensorflow) (0.7.2)\n",
      "Requirement already satisfied: werkzeug>=1.0.1 in c:\\users\\shoba\\appdata\\roaming\\python\\python312\\site-packages (from tensorboard<2.19,>=2.18->tensorflow-intel==2.18.0->tensorflow) (3.1.3)\n",
      "Requirement already satisfied: MarkupSafe>=2.1.1 in c:\\users\\shoba\\appdata\\roaming\\python\\python312\\site-packages (from werkzeug>=1.0.1->tensorboard<2.19,>=2.18->tensorflow-intel==2.18.0->tensorflow) (3.0.2)\n",
      "Requirement already satisfied: markdown-it-py>=2.2.0 in c:\\users\\shoba\\appdata\\roaming\\python\\python312\\site-packages (from rich->keras>=3.5.0->tensorflow-intel==2.18.0->tensorflow) (3.0.0)\n",
      "Requirement already satisfied: pygments<3.0.0,>=2.13.0 in c:\\users\\shoba\\appdata\\roaming\\python\\python312\\site-packages (from rich->keras>=3.5.0->tensorflow-intel==2.18.0->tensorflow) (2.18.0)\n",
      "Requirement already satisfied: mdurl~=0.1 in c:\\users\\shoba\\appdata\\roaming\\python\\python312\\site-packages (from markdown-it-py>=2.2.0->rich->keras>=3.5.0->tensorflow-intel==2.18.0->tensorflow) (0.1.2)\n",
      "Note: you may need to restart the kernel to use updated packages.\n"
     ]
    }
   ],
   "source": [
    "%pip install keras\n",
    "%pip install tensorflow\n"
   ]
  },
  {
   "cell_type": "code",
   "execution_count": 5,
   "metadata": {},
   "outputs": [
    {
     "name": "stdout",
     "output_type": "stream",
     "text": [
      "Note: you may need to restart the kernel to use updated packages.\n"
     ]
    },
    {
     "name": "stderr",
     "output_type": "stream",
     "text": [
      "ERROR: Could not find a version that satisfies the requirement keras.preprocessing.text (from versions: none)\n",
      "ERROR: No matching distribution found for keras.preprocessing.text\n"
     ]
    }
   ],
   "source": [
    "%pip install keras.preprocessing.text"
   ]
  },
  {
   "cell_type": "code",
   "execution_count": 12,
   "metadata": {
    "id": "lsrOrWWnNoGU"
   },
   "outputs": [],
   "source": [
    "\n",
    "df = pd.read_csv('data_with_lemmatization.csv', encoding='utf-8')\n"
   ]
  },
  {
   "cell_type": "code",
   "execution_count": 13,
   "metadata": {
    "id": "MkJvmPDlMAvL"
   },
   "outputs": [],
   "source": [
    "from sklearn.feature_extraction.text import TfidfVectorizer\n",
    "\n",
    "tfidf = TfidfVectorizer(\n",
    "    max_features=10000,\n",
    "    ngram_range=(1, 2),  # Menggunakan unigram dan bigram\n",
    "    sublinear_tf=True  # Sublinear scaling pada term frequency\n",
    ")\n",
    "\n",
    "\n",
    "X = df['Lematisasi']\n",
    "y = df['Genre']\n",
    "\n",
    "X_tfidf = tfidf.fit_transform(X).toarray()\n",
    "\n",
    "pd.DataFrame(X_tfidf, columns=tfidf.get_feature_names_out()).to_csv('data_with_tfidf.csv', index=False, encoding='utf-8')\n"
   ]
  },
  {
   "cell_type": "markdown",
   "metadata": {
    "id": "6Mr7_-umRpXn"
   },
   "source": [
    "**TRAINING AND VALIDATION**"
   ]
  },
  {
   "cell_type": "code",
   "execution_count": 14,
   "metadata": {
    "id": "_HinMIRVMA0Z"
   },
   "outputs": [],
   "source": [
    "from sklearn.model_selection import train_test_split\n",
    "\n",
    "X_train, X_val, y_train, y_val = train_test_split(X_tfidf, y, test_size=0.2, random_state=42)\n"
   ]
  },
  {
   "cell_type": "code",
   "execution_count": 15,
   "metadata": {
    "colab": {
     "base_uri": "https://localhost:8080/",
     "height": 80
    },
    "id": "7QwjbkdOPLJs",
    "outputId": "4e4bba79-f764-4785-fdb3-567f377a88c2"
   },
   "outputs": [
    {
     "data": {
      "text/html": [
       "<style>#sk-container-id-1 {\n",
       "  /* Definition of color scheme common for light and dark mode */\n",
       "  --sklearn-color-text: #000;\n",
       "  --sklearn-color-text-muted: #666;\n",
       "  --sklearn-color-line: gray;\n",
       "  /* Definition of color scheme for unfitted estimators */\n",
       "  --sklearn-color-unfitted-level-0: #fff5e6;\n",
       "  --sklearn-color-unfitted-level-1: #f6e4d2;\n",
       "  --sklearn-color-unfitted-level-2: #ffe0b3;\n",
       "  --sklearn-color-unfitted-level-3: chocolate;\n",
       "  /* Definition of color scheme for fitted estimators */\n",
       "  --sklearn-color-fitted-level-0: #f0f8ff;\n",
       "  --sklearn-color-fitted-level-1: #d4ebff;\n",
       "  --sklearn-color-fitted-level-2: #b3dbfd;\n",
       "  --sklearn-color-fitted-level-3: cornflowerblue;\n",
       "\n",
       "  /* Specific color for light theme */\n",
       "  --sklearn-color-text-on-default-background: var(--sg-text-color, var(--theme-code-foreground, var(--jp-content-font-color1, black)));\n",
       "  --sklearn-color-background: var(--sg-background-color, var(--theme-background, var(--jp-layout-color0, white)));\n",
       "  --sklearn-color-border-box: var(--sg-text-color, var(--theme-code-foreground, var(--jp-content-font-color1, black)));\n",
       "  --sklearn-color-icon: #696969;\n",
       "\n",
       "  @media (prefers-color-scheme: dark) {\n",
       "    /* Redefinition of color scheme for dark theme */\n",
       "    --sklearn-color-text-on-default-background: var(--sg-text-color, var(--theme-code-foreground, var(--jp-content-font-color1, white)));\n",
       "    --sklearn-color-background: var(--sg-background-color, var(--theme-background, var(--jp-layout-color0, #111)));\n",
       "    --sklearn-color-border-box: var(--sg-text-color, var(--theme-code-foreground, var(--jp-content-font-color1, white)));\n",
       "    --sklearn-color-icon: #878787;\n",
       "  }\n",
       "}\n",
       "\n",
       "#sk-container-id-1 {\n",
       "  color: var(--sklearn-color-text);\n",
       "}\n",
       "\n",
       "#sk-container-id-1 pre {\n",
       "  padding: 0;\n",
       "}\n",
       "\n",
       "#sk-container-id-1 input.sk-hidden--visually {\n",
       "  border: 0;\n",
       "  clip: rect(1px 1px 1px 1px);\n",
       "  clip: rect(1px, 1px, 1px, 1px);\n",
       "  height: 1px;\n",
       "  margin: -1px;\n",
       "  overflow: hidden;\n",
       "  padding: 0;\n",
       "  position: absolute;\n",
       "  width: 1px;\n",
       "}\n",
       "\n",
       "#sk-container-id-1 div.sk-dashed-wrapped {\n",
       "  border: 1px dashed var(--sklearn-color-line);\n",
       "  margin: 0 0.4em 0.5em 0.4em;\n",
       "  box-sizing: border-box;\n",
       "  padding-bottom: 0.4em;\n",
       "  background-color: var(--sklearn-color-background);\n",
       "}\n",
       "\n",
       "#sk-container-id-1 div.sk-container {\n",
       "  /* jupyter's `normalize.less` sets `[hidden] { display: none; }`\n",
       "     but bootstrap.min.css set `[hidden] { display: none !important; }`\n",
       "     so we also need the `!important` here to be able to override the\n",
       "     default hidden behavior on the sphinx rendered scikit-learn.org.\n",
       "     See: https://github.com/scikit-learn/scikit-learn/issues/21755 */\n",
       "  display: inline-block !important;\n",
       "  position: relative;\n",
       "}\n",
       "\n",
       "#sk-container-id-1 div.sk-text-repr-fallback {\n",
       "  display: none;\n",
       "}\n",
       "\n",
       "div.sk-parallel-item,\n",
       "div.sk-serial,\n",
       "div.sk-item {\n",
       "  /* draw centered vertical line to link estimators */\n",
       "  background-image: linear-gradient(var(--sklearn-color-text-on-default-background), var(--sklearn-color-text-on-default-background));\n",
       "  background-size: 2px 100%;\n",
       "  background-repeat: no-repeat;\n",
       "  background-position: center center;\n",
       "}\n",
       "\n",
       "/* Parallel-specific style estimator block */\n",
       "\n",
       "#sk-container-id-1 div.sk-parallel-item::after {\n",
       "  content: \"\";\n",
       "  width: 100%;\n",
       "  border-bottom: 2px solid var(--sklearn-color-text-on-default-background);\n",
       "  flex-grow: 1;\n",
       "}\n",
       "\n",
       "#sk-container-id-1 div.sk-parallel {\n",
       "  display: flex;\n",
       "  align-items: stretch;\n",
       "  justify-content: center;\n",
       "  background-color: var(--sklearn-color-background);\n",
       "  position: relative;\n",
       "}\n",
       "\n",
       "#sk-container-id-1 div.sk-parallel-item {\n",
       "  display: flex;\n",
       "  flex-direction: column;\n",
       "}\n",
       "\n",
       "#sk-container-id-1 div.sk-parallel-item:first-child::after {\n",
       "  align-self: flex-end;\n",
       "  width: 50%;\n",
       "}\n",
       "\n",
       "#sk-container-id-1 div.sk-parallel-item:last-child::after {\n",
       "  align-self: flex-start;\n",
       "  width: 50%;\n",
       "}\n",
       "\n",
       "#sk-container-id-1 div.sk-parallel-item:only-child::after {\n",
       "  width: 0;\n",
       "}\n",
       "\n",
       "/* Serial-specific style estimator block */\n",
       "\n",
       "#sk-container-id-1 div.sk-serial {\n",
       "  display: flex;\n",
       "  flex-direction: column;\n",
       "  align-items: center;\n",
       "  background-color: var(--sklearn-color-background);\n",
       "  padding-right: 1em;\n",
       "  padding-left: 1em;\n",
       "}\n",
       "\n",
       "\n",
       "/* Toggleable style: style used for estimator/Pipeline/ColumnTransformer box that is\n",
       "clickable and can be expanded/collapsed.\n",
       "- Pipeline and ColumnTransformer use this feature and define the default style\n",
       "- Estimators will overwrite some part of the style using the `sk-estimator` class\n",
       "*/\n",
       "\n",
       "/* Pipeline and ColumnTransformer style (default) */\n",
       "\n",
       "#sk-container-id-1 div.sk-toggleable {\n",
       "  /* Default theme specific background. It is overwritten whether we have a\n",
       "  specific estimator or a Pipeline/ColumnTransformer */\n",
       "  background-color: var(--sklearn-color-background);\n",
       "}\n",
       "\n",
       "/* Toggleable label */\n",
       "#sk-container-id-1 label.sk-toggleable__label {\n",
       "  cursor: pointer;\n",
       "  display: flex;\n",
       "  width: 100%;\n",
       "  margin-bottom: 0;\n",
       "  padding: 0.5em;\n",
       "  box-sizing: border-box;\n",
       "  text-align: center;\n",
       "  align-items: start;\n",
       "  justify-content: space-between;\n",
       "  gap: 0.5em;\n",
       "}\n",
       "\n",
       "#sk-container-id-1 label.sk-toggleable__label .caption {\n",
       "  font-size: 0.6rem;\n",
       "  font-weight: lighter;\n",
       "  color: var(--sklearn-color-text-muted);\n",
       "}\n",
       "\n",
       "#sk-container-id-1 label.sk-toggleable__label-arrow:before {\n",
       "  /* Arrow on the left of the label */\n",
       "  content: \"▸\";\n",
       "  float: left;\n",
       "  margin-right: 0.25em;\n",
       "  color: var(--sklearn-color-icon);\n",
       "}\n",
       "\n",
       "#sk-container-id-1 label.sk-toggleable__label-arrow:hover:before {\n",
       "  color: var(--sklearn-color-text);\n",
       "}\n",
       "\n",
       "/* Toggleable content - dropdown */\n",
       "\n",
       "#sk-container-id-1 div.sk-toggleable__content {\n",
       "  max-height: 0;\n",
       "  max-width: 0;\n",
       "  overflow: hidden;\n",
       "  text-align: left;\n",
       "  /* unfitted */\n",
       "  background-color: var(--sklearn-color-unfitted-level-0);\n",
       "}\n",
       "\n",
       "#sk-container-id-1 div.sk-toggleable__content.fitted {\n",
       "  /* fitted */\n",
       "  background-color: var(--sklearn-color-fitted-level-0);\n",
       "}\n",
       "\n",
       "#sk-container-id-1 div.sk-toggleable__content pre {\n",
       "  margin: 0.2em;\n",
       "  border-radius: 0.25em;\n",
       "  color: var(--sklearn-color-text);\n",
       "  /* unfitted */\n",
       "  background-color: var(--sklearn-color-unfitted-level-0);\n",
       "}\n",
       "\n",
       "#sk-container-id-1 div.sk-toggleable__content.fitted pre {\n",
       "  /* unfitted */\n",
       "  background-color: var(--sklearn-color-fitted-level-0);\n",
       "}\n",
       "\n",
       "#sk-container-id-1 input.sk-toggleable__control:checked~div.sk-toggleable__content {\n",
       "  /* Expand drop-down */\n",
       "  max-height: 200px;\n",
       "  max-width: 100%;\n",
       "  overflow: auto;\n",
       "}\n",
       "\n",
       "#sk-container-id-1 input.sk-toggleable__control:checked~label.sk-toggleable__label-arrow:before {\n",
       "  content: \"▾\";\n",
       "}\n",
       "\n",
       "/* Pipeline/ColumnTransformer-specific style */\n",
       "\n",
       "#sk-container-id-1 div.sk-label input.sk-toggleable__control:checked~label.sk-toggleable__label {\n",
       "  color: var(--sklearn-color-text);\n",
       "  background-color: var(--sklearn-color-unfitted-level-2);\n",
       "}\n",
       "\n",
       "#sk-container-id-1 div.sk-label.fitted input.sk-toggleable__control:checked~label.sk-toggleable__label {\n",
       "  background-color: var(--sklearn-color-fitted-level-2);\n",
       "}\n",
       "\n",
       "/* Estimator-specific style */\n",
       "\n",
       "/* Colorize estimator box */\n",
       "#sk-container-id-1 div.sk-estimator input.sk-toggleable__control:checked~label.sk-toggleable__label {\n",
       "  /* unfitted */\n",
       "  background-color: var(--sklearn-color-unfitted-level-2);\n",
       "}\n",
       "\n",
       "#sk-container-id-1 div.sk-estimator.fitted input.sk-toggleable__control:checked~label.sk-toggleable__label {\n",
       "  /* fitted */\n",
       "  background-color: var(--sklearn-color-fitted-level-2);\n",
       "}\n",
       "\n",
       "#sk-container-id-1 div.sk-label label.sk-toggleable__label,\n",
       "#sk-container-id-1 div.sk-label label {\n",
       "  /* The background is the default theme color */\n",
       "  color: var(--sklearn-color-text-on-default-background);\n",
       "}\n",
       "\n",
       "/* On hover, darken the color of the background */\n",
       "#sk-container-id-1 div.sk-label:hover label.sk-toggleable__label {\n",
       "  color: var(--sklearn-color-text);\n",
       "  background-color: var(--sklearn-color-unfitted-level-2);\n",
       "}\n",
       "\n",
       "/* Label box, darken color on hover, fitted */\n",
       "#sk-container-id-1 div.sk-label.fitted:hover label.sk-toggleable__label.fitted {\n",
       "  color: var(--sklearn-color-text);\n",
       "  background-color: var(--sklearn-color-fitted-level-2);\n",
       "}\n",
       "\n",
       "/* Estimator label */\n",
       "\n",
       "#sk-container-id-1 div.sk-label label {\n",
       "  font-family: monospace;\n",
       "  font-weight: bold;\n",
       "  display: inline-block;\n",
       "  line-height: 1.2em;\n",
       "}\n",
       "\n",
       "#sk-container-id-1 div.sk-label-container {\n",
       "  text-align: center;\n",
       "}\n",
       "\n",
       "/* Estimator-specific */\n",
       "#sk-container-id-1 div.sk-estimator {\n",
       "  font-family: monospace;\n",
       "  border: 1px dotted var(--sklearn-color-border-box);\n",
       "  border-radius: 0.25em;\n",
       "  box-sizing: border-box;\n",
       "  margin-bottom: 0.5em;\n",
       "  /* unfitted */\n",
       "  background-color: var(--sklearn-color-unfitted-level-0);\n",
       "}\n",
       "\n",
       "#sk-container-id-1 div.sk-estimator.fitted {\n",
       "  /* fitted */\n",
       "  background-color: var(--sklearn-color-fitted-level-0);\n",
       "}\n",
       "\n",
       "/* on hover */\n",
       "#sk-container-id-1 div.sk-estimator:hover {\n",
       "  /* unfitted */\n",
       "  background-color: var(--sklearn-color-unfitted-level-2);\n",
       "}\n",
       "\n",
       "#sk-container-id-1 div.sk-estimator.fitted:hover {\n",
       "  /* fitted */\n",
       "  background-color: var(--sklearn-color-fitted-level-2);\n",
       "}\n",
       "\n",
       "/* Specification for estimator info (e.g. \"i\" and \"?\") */\n",
       "\n",
       "/* Common style for \"i\" and \"?\" */\n",
       "\n",
       ".sk-estimator-doc-link,\n",
       "a:link.sk-estimator-doc-link,\n",
       "a:visited.sk-estimator-doc-link {\n",
       "  float: right;\n",
       "  font-size: smaller;\n",
       "  line-height: 1em;\n",
       "  font-family: monospace;\n",
       "  background-color: var(--sklearn-color-background);\n",
       "  border-radius: 1em;\n",
       "  height: 1em;\n",
       "  width: 1em;\n",
       "  text-decoration: none !important;\n",
       "  margin-left: 0.5em;\n",
       "  text-align: center;\n",
       "  /* unfitted */\n",
       "  border: var(--sklearn-color-unfitted-level-1) 1pt solid;\n",
       "  color: var(--sklearn-color-unfitted-level-1);\n",
       "}\n",
       "\n",
       ".sk-estimator-doc-link.fitted,\n",
       "a:link.sk-estimator-doc-link.fitted,\n",
       "a:visited.sk-estimator-doc-link.fitted {\n",
       "  /* fitted */\n",
       "  border: var(--sklearn-color-fitted-level-1) 1pt solid;\n",
       "  color: var(--sklearn-color-fitted-level-1);\n",
       "}\n",
       "\n",
       "/* On hover */\n",
       "div.sk-estimator:hover .sk-estimator-doc-link:hover,\n",
       ".sk-estimator-doc-link:hover,\n",
       "div.sk-label-container:hover .sk-estimator-doc-link:hover,\n",
       ".sk-estimator-doc-link:hover {\n",
       "  /* unfitted */\n",
       "  background-color: var(--sklearn-color-unfitted-level-3);\n",
       "  color: var(--sklearn-color-background);\n",
       "  text-decoration: none;\n",
       "}\n",
       "\n",
       "div.sk-estimator.fitted:hover .sk-estimator-doc-link.fitted:hover,\n",
       ".sk-estimator-doc-link.fitted:hover,\n",
       "div.sk-label-container:hover .sk-estimator-doc-link.fitted:hover,\n",
       ".sk-estimator-doc-link.fitted:hover {\n",
       "  /* fitted */\n",
       "  background-color: var(--sklearn-color-fitted-level-3);\n",
       "  color: var(--sklearn-color-background);\n",
       "  text-decoration: none;\n",
       "}\n",
       "\n",
       "/* Span, style for the box shown on hovering the info icon */\n",
       ".sk-estimator-doc-link span {\n",
       "  display: none;\n",
       "  z-index: 9999;\n",
       "  position: relative;\n",
       "  font-weight: normal;\n",
       "  right: .2ex;\n",
       "  padding: .5ex;\n",
       "  margin: .5ex;\n",
       "  width: min-content;\n",
       "  min-width: 20ex;\n",
       "  max-width: 50ex;\n",
       "  color: var(--sklearn-color-text);\n",
       "  box-shadow: 2pt 2pt 4pt #999;\n",
       "  /* unfitted */\n",
       "  background: var(--sklearn-color-unfitted-level-0);\n",
       "  border: .5pt solid var(--sklearn-color-unfitted-level-3);\n",
       "}\n",
       "\n",
       ".sk-estimator-doc-link.fitted span {\n",
       "  /* fitted */\n",
       "  background: var(--sklearn-color-fitted-level-0);\n",
       "  border: var(--sklearn-color-fitted-level-3);\n",
       "}\n",
       "\n",
       ".sk-estimator-doc-link:hover span {\n",
       "  display: block;\n",
       "}\n",
       "\n",
       "/* \"?\"-specific style due to the `<a>` HTML tag */\n",
       "\n",
       "#sk-container-id-1 a.estimator_doc_link {\n",
       "  float: right;\n",
       "  font-size: 1rem;\n",
       "  line-height: 1em;\n",
       "  font-family: monospace;\n",
       "  background-color: var(--sklearn-color-background);\n",
       "  border-radius: 1rem;\n",
       "  height: 1rem;\n",
       "  width: 1rem;\n",
       "  text-decoration: none;\n",
       "  /* unfitted */\n",
       "  color: var(--sklearn-color-unfitted-level-1);\n",
       "  border: var(--sklearn-color-unfitted-level-1) 1pt solid;\n",
       "}\n",
       "\n",
       "#sk-container-id-1 a.estimator_doc_link.fitted {\n",
       "  /* fitted */\n",
       "  border: var(--sklearn-color-fitted-level-1) 1pt solid;\n",
       "  color: var(--sklearn-color-fitted-level-1);\n",
       "}\n",
       "\n",
       "/* On hover */\n",
       "#sk-container-id-1 a.estimator_doc_link:hover {\n",
       "  /* unfitted */\n",
       "  background-color: var(--sklearn-color-unfitted-level-3);\n",
       "  color: var(--sklearn-color-background);\n",
       "  text-decoration: none;\n",
       "}\n",
       "\n",
       "#sk-container-id-1 a.estimator_doc_link.fitted:hover {\n",
       "  /* fitted */\n",
       "  background-color: var(--sklearn-color-fitted-level-3);\n",
       "}\n",
       "</style><div id=\"sk-container-id-1\" class=\"sk-top-container\"><div class=\"sk-text-repr-fallback\"><pre>LinearSVC(random_state=42)</pre><b>In a Jupyter environment, please rerun this cell to show the HTML representation or trust the notebook. <br />On GitHub, the HTML representation is unable to render, please try loading this page with nbviewer.org.</b></div><div class=\"sk-container\" hidden><div class=\"sk-item\"><div class=\"sk-estimator fitted sk-toggleable\"><input class=\"sk-toggleable__control sk-hidden--visually\" id=\"sk-estimator-id-1\" type=\"checkbox\" checked><label for=\"sk-estimator-id-1\" class=\"sk-toggleable__label fitted sk-toggleable__label-arrow\"><div><div>LinearSVC</div></div><div><a class=\"sk-estimator-doc-link fitted\" rel=\"noreferrer\" target=\"_blank\" href=\"https://scikit-learn.org/1.6/modules/generated/sklearn.svm.LinearSVC.html\">?<span>Documentation for LinearSVC</span></a><span class=\"sk-estimator-doc-link fitted\">i<span>Fitted</span></span></div></label><div class=\"sk-toggleable__content fitted\"><pre>LinearSVC(random_state=42)</pre></div> </div></div></div></div>"
      ],
      "text/plain": [
       "LinearSVC(random_state=42)"
      ]
     },
     "execution_count": 15,
     "metadata": {},
     "output_type": "execute_result"
    }
   ],
   "source": [
    "from sklearn.svm import LinearSVC\n",
    "\n",
    "svm_model = LinearSVC(random_state=42)\n",
    "svm_model.fit(X_train, y_train)"
   ]
  },
  {
   "cell_type": "markdown",
   "metadata": {
    "id": "Q0Zfw7xhS7x3"
   },
   "source": [
    "**AKURASI**"
   ]
  },
  {
   "cell_type": "code",
   "execution_count": 16,
   "metadata": {
    "colab": {
     "base_uri": "https://localhost:8080/"
    },
    "id": "6wCsGzl6PLXY",
    "outputId": "aab0920d-2bcc-4b61-bbfb-441f004c40f9"
   },
   "outputs": [
    {
     "name": "stdout",
     "output_type": "stream",
     "text": [
      "Akurasi: 0.76\n",
      "              precision    recall  f1-score   support\n",
      "\n",
      "     Fiction       0.70      0.61      0.65       216\n",
      "      Horror       0.76      0.82      0.79       167\n",
      "    Nonfiksi       0.73      0.69      0.71       204\n",
      "   Political       0.77      0.81      0.79       155\n",
      "    Religion       0.87      0.81      0.84       188\n",
      "     Romance       0.73      0.86      0.79       177\n",
      "\n",
      "    accuracy                           0.76      1107\n",
      "   macro avg       0.76      0.77      0.76      1107\n",
      "weighted avg       0.76      0.76      0.76      1107\n",
      "\n"
     ]
    }
   ],
   "source": [
    "from sklearn.metrics import accuracy_score, classification_report\n",
    "\n",
    "y_pred = svm_model.predict(X_val)\n",
    "\n",
    "print(f'Akurasi: {accuracy_score(y_val, y_pred):.2f}')\n",
    "\n",
    "print(classification_report(y_val, y_pred))\n"
   ]
  },
  {
   "cell_type": "markdown",
   "metadata": {
    "id": "SAoP8XmrS_Go"
   },
   "source": [
    "**CONFUSSION MATRIX**"
   ]
  },
  {
   "cell_type": "code",
   "execution_count": 17,
   "metadata": {
    "colab": {
     "base_uri": "https://localhost:8080/",
     "height": 641
    },
    "id": "ds6hR75tPLgP",
    "outputId": "1964c5fd-815c-42da-d732-7b852ca9ba30"
   },
   "outputs": [
    {
     "data": {
      "image/png": "[encoded data removed]",
      "text/plain": [
       "<Figure size 1000x700 with 2 Axes>"
      ]
     },
     "metadata": {},
     "output_type": "display_data"
    }
   ],
   "source": [
    "from sklearn.metrics import confusion_matrix\n",
    "import seaborn as sns\n",
    "import matplotlib.pyplot as plt\n",
    "\n",
    "cm = confusion_matrix(y_val, y_pred)\n",
    "\n",
    "class_labels = sorted(set(y_train) | set(y_val))\n",
    "if len(class_labels) != len(svm_model.classes_):\n",
    "    class_labels = svm_model.classes_\n",
    "\n",
    "plt.figure(figsize=(10, 7))\n",
    "sns.heatmap(\n",
    "    cm,\n",
    "    annot=True,\n",
    "    fmt='d',\n",
    "    cmap='Blues',\n",
    "    xticklabels=class_labels,\n",
    "    yticklabels=class_labels\n",
    ")\n",
    "plt.title('Confusion Matrix')\n",
    "plt.xlabel('Predicted Labels')\n",
    "plt.ylabel('True Labels')\n",
    "plt.show()\n"
   ]
  },
  {
   "cell_type": "code",
   "execution_count": 15,
   "metadata": {},
   "outputs": [],
   "source": [
    "import pickle"
   ]
  },
  {
   "cell_type": "code",
   "execution_count": 18,
   "metadata": {
    "id": "N2MWs4vzPLlk"
   },
   "outputs": [
    {
     "name": "stdout",
     "output_type": "stream",
     "text": [
      "Model dan vectorizer berhasil disimpan dalam format Joblib!\n"
     ]
    }
   ],
   "source": [
    "from joblib import dump\n",
    "\n",
    "# Simpan model SVM dan vectorizer ke dalam format Joblib\n",
    "dump(svm_model, 'svm_model(RBF).joblib')\n",
    "dump(tfidf, 'tfidf_vectorizer.joblib')\n",
    "\n",
    "print(\"Model dan vectorizer berhasil disimpan dalam format Joblib!\")\n"
   ]
  },
  {
   "cell_type": "code",
   "execution_count": 19,
   "metadata": {},
   "outputs": [
    {
     "name": "stdout",
     "output_type": "stream",
     "text": [
      "Model dan vectorizer berhasil dimuat dari file Joblib!\n"
     ]
    }
   ],
   "source": [
    "from joblib import load\n",
    "\n",
    "svm_model = load('svm_model(RBF).joblib')\n",
    "tfidf = load('tfidf_vectorizer.joblib')\n",
    "\n",
    "print(\"Model dan vectorizer berhasil dimuat dari file Joblib!\")\n"
   ]
  },
  {
   "cell_type": "code",
   "execution_count": 22,
   "metadata": {},
   "outputs": [
    {
     "name": "stdout",
     "output_type": "stream",
     "text": [
      "Genre yang diprediksi: Religion\n"
     ]
    },
    {
     "data": {
      "text/plain": [
       "0    [religion, modern, world, feared, misunderstoo...\n",
       "Name: Lemmatized, dtype: object"
      ]
     },
     "execution_count": 22,
     "metadata": {},
     "output_type": "execute_result"
    }
   ],
   "source": [
    "from preprosesing import Preprocessor\n",
    "\n",
    "# Inisialisasi preprocessor\n",
    "preprocessor = Preprocessor(sinopsis_column='Sinopsis')\n",
    "\n",
    "# Data baru\n",
    "data_baru = pd.DataFrame({'Sinopsis': [\"\"\"No religion in the modern world is as feared and misunderstood as Islam. It haunts the popular Western imagination as an extreme faith that promotes authoritarian government, female oppression, civil war, and terrorism. Karen Armstrong's short history offers a vital corrective to this narrow view. The distillation of years of thinking and writing about Islam, it demonstrates that the world's fastest-growing faith is a much richer and more complex phenomenon than its modern fundamentalist strain might suggest.\n",
    "\n",
    "Islam: A Short History begins with the flight of Muhammad and his family from Medina in the seventh century and the subsequent founding of the first mosques. It recounts the origins of the split between Shii and Sunni Muslims, and the emergence of Sufi mysticism; the spread of Islam throughout North Africa, the Levant, and Asia; the shattering effect on the Muslim world of the Crusades; the flowering of imperial Islam in the fourteenth and fifteenth centuries into the world's greatest and most sophisticated power; and the origins and impact of revolutionary Islam. It concludes with an assessment of Islam today and its challenges.\n",
    "\n",
    "With this brilliant book, Karen Armstrong issues a forceful challenge to those who hold the view that the West and Islam are civilizations set on a collision course. It is also a model of authority, elegance, and economy.\"\"\"]})\n",
    "\n",
    "# Preprocessing data baru\n",
    "data_baru_processed = preprocessor.preprocess_dataframe(data_baru)\n",
    "\n",
    "# Prediksi dengan model\n",
    "sinopsis_tfidf = tfidf.transform(data_baru_processed['Lemmatized'].apply(' '.join))\n",
    "sinopsis_dense = sinopsis_tfidf.toarray()  # Ubah sparse matrix menjadi dense array\n",
    "prediksi = svm_model.predict(sinopsis_dense)\n",
    "\n",
    "print(f\"Genre yang diprediksi: {prediksi[0]}\")\n",
    "data_baru_processed['Lemmatized']\n",
    "\n"
   ]
  }
 ],
 "metadata": {
  "colab": {
   "provenance": []
  },
  "kernelspec": {
   "display_name": "Python 3",
   "name": "python3"
  },
  "language_info": {
   "codemirror_mode": {
    "name": "ipython",
    "version": 3
   },
   "file_extension": ".py",
   "mimetype": "text/x-python",
   "name": "python",
   "nbconvert_exporter": "python",
   "pygments_lexer": "ipython3",
   "version": "3.12.3"
  }
 },
 "nbformat": 4,
 "nbformat_minor": 0
}
